{
 "cells": [
  {
   "cell_type": "code",
   "execution_count": null,
   "metadata": {},
   "outputs": [],
   "source": [
    "import pandas as pd\n",
    "import numpy as np\n",
    "import scipy.stats as st\n",
    "import matplotlib.pyplot as plt\n",
    "import seaborn as sns\n",
    "from sklearn.linear_model import LinearRegression,Ridge,Lasso\n",
    "from sklearn.model_selection import train_test_split\n",
    "import re\n",
    "import statsmodels.api as sm\n",
    "from sklearn import metrics\n",
    "%matplotlib inline"
   ]
  },
  {
   "cell_type": "markdown",
   "metadata": {},
   "source": [
    "## Importación Dataset"
   ]
  },
  {
   "cell_type": "code",
   "execution_count": null,
   "metadata": {},
   "outputs": [],
   "source": [
    "df = pd.read_csv('properatti.csv', index_col = 0) ### Dataset Completo\n",
    "## DataFrame Partido en distintas partes relevantes\n",
    "df_posicion_geografica = df.loc[:,['place_name','state_name','country_name','place_with_parent_names' \\\n",
    "                                   ,'geonames_id','lat','lon','lat-lon', \\\n",
    "                                   'describe','title']] ### Parte con Posición Geográfica\n",
    "df_localidad=df.loc[:,['place_name','place_with_parent_names','describe','title']] ## Parte con Localidades\n",
    "df_ambientes = df.loc[:,['rooms','property_type','description','title']]  ## Parte con Ambientes\n",
    "df_pisos = df.loc[:,['floor','property_type','description','title']]  ## Parte con Pisos\n",
    "df_precio = df.loc[:,['price','currency','price_aprox_local_currency','price_aprox_usd',\\\n",
    "                      'surface_total_in_m2','surface_covered_in_m2','price_usd_per_m2',\\\n",
    "                      'price_per_m2','description','title']]  ## Parte con Precios y Superficies"
   ]
  },
  {
   "cell_type": "markdown",
   "metadata": {},
   "source": [
    "## Funciones"
   ]
  },
  {
   "cell_type": "code",
   "execution_count": null,
   "metadata": {},
   "outputs": [],
   "source": [
    "def crear_serie_precio(x):\n",
    "    if not np.isnan(np.array(x.precio_en_titulo)):\n",
    "        return x.precio_en_titulo\n",
    "    elif not np.isnan(np.array(x.price_aprox_usd)):\n",
    "        return x.price_aprox_usd\n",
    "    else:\n",
    "        return np.NaN\n",
    "def crear_serie_ambientes(x):\n",
    "    if not np.isnan(np.array(x.rooms_description)):\n",
    "        return x.rooms_description\n",
    "    if not np.isnan(np.array(x['rooms_title'])):\n",
    "        return x['rooms_title']\n",
    "    if not np.isnan(np.array(x.rooms)):\n",
    "        return x.rooms\n",
    "    return np.NaN\n",
    "def detectar_ambientes(x):\n",
    "    y = busqueda_monoambientes(x)\n",
    "    if np.isnan(np.array(y)):\n",
    "        y=busqueda_ambientes(x)\n",
    "    if np.isnan(np.array(y)):\n",
    "        y=busqueda_por_texto(x)\n",
    "    return y\n",
    "def update(df,column,s):\n",
    "    '''\n",
    "    Reemplaza los valores de la columna del DataFrame con\n",
    "    los valores no nulos de la serie\n",
    "    '''\n",
    "    df[column]=s.fillna(df[column])\n",
    "    return df\n",
    "\n",
    "def busqueda_ambientes(x):\n",
    "    '''\n",
    "    Busca la palabra amb (de ambientes) y devuelve el número que tiene por delante\n",
    "    '''\n",
    "    try:\n",
    "        pattern = '(\\d+)\\s*amb'\n",
    "        regex = re.compile(pattern, flags = re.IGNORECASE | re.UNICODE)\n",
    "        m = regex.search(x)\n",
    "        if m:\n",
    "            valor =float(m.group(1))\n",
    "            if valor < 8:\n",
    "                return valor\n",
    "            else:\n",
    "                return 1.0\n",
    "        else:\n",
    "            return np.NaN\n",
    "    except:\n",
    "        return np.NaN\n",
    "\n",
    "def busqueda_monoambientes(x):\n",
    "    '''\n",
    "    Busca en la palabra monoambiente y devuelve 1\n",
    "    '''\n",
    "    if type(x) is str:\n",
    "        if x.lower().find('monoambiente') >-1:\n",
    "            return 1.0\n",
    "        else:\n",
    "            return np.NaN\n",
    "    else:\n",
    "        return np.NaN\n",
    "def busqueda_moneda(x):\n",
    "    try:\n",
    "        pattern = 'U\\$D\\s*([\\d\\.]+)'\n",
    "        regex = re.compile(pattern, flags = re.IGNORECASE | re.UNICODE)\n",
    "        m = regex.search(x)\n",
    "        if m:\n",
    "            return float(m.group(1).replace('.',''))\n",
    "        else:\n",
    "            np.NaN\n",
    "    except:\n",
    "        return np.NaN\n",
    "    \n",
    "def parsear_numeros(x):\n",
    "    '''\n",
    "    Reemplaza numeros escritos en letras por sus equivalentes\n",
    "    en arábigos.\n",
    "    '''\n",
    "    try:\n",
    "        numeros={'uno':1,'un':1,'una':1,'dos':2,'tres':3,'cuatro':4,'cinco':5,'seis':6,'siete':7,'ocho':8,'nueve':9,'diez':10}\n",
    "        for key in numeros:\n",
    "            x = x.lower()\n",
    "            x=x.replace(key,str(numeros[key]))\n",
    "        return x\n",
    "    except:\n",
    "        return x\n",
    "\n",
    "def busqueda_por_texto(x):\n",
    "    '''\n",
    "    Busca palabras claves asociadas a ambientes, como dormitorio, comedor, living, etc.\n",
    "    y devuelve el número de veces que estas aparecen.\n",
    "    '''\n",
    "    result = 0.0\n",
    "    valor = 0.0\n",
    "    try:\n",
    "        pattern = r\"(\\d*\\s*living\\s*cocina\\s*comedor|living\\s*comedor|living)|(\\d*\\s*dormitorio)|(\\d*\\s*comedor)\"\n",
    "        regex = re.compile(pattern, flags = re.IGNORECASE | re.UNICODE)\n",
    "        grupos = regex.findall(x)\n",
    "        for grupo in grupos:\n",
    "            for elemento in grupo:\n",
    "                regex_dos = re.compile(r'(\\d+)', flags = re.IGNORECASE | re.UNICODE)\n",
    "                cantidad = regex_dos.search(elemento)\n",
    "                if cantidad is not None:\n",
    "                    nuevo_valor = float(cantidad.group())\n",
    "                    if nuevo_valor < 8:\n",
    "                        valor+=nuevo_valor\n",
    "            if result == valor:\n",
    "                result+=1\n",
    "                valor+=1\n",
    "            else:\n",
    "                result=valor\n",
    "        if result > 0.0:\n",
    "            return result\n",
    "        else:\n",
    "            return np.NaN\n",
    "    except:\n",
    "        return np.NaN\n",
    "def convert_to_int(x):\n",
    "    return int(x)\n",
    "def busqueda_moneda(x):\n",
    "    try:\n",
    "        pattern = 'U\\$D\\s*([\\d\\.]+)'\n",
    "        regex = re.compile(pattern, flags = re.IGNORECASE | re.UNICODE)\n",
    "        m = regex.search(x)\n",
    "        if m:\n",
    "            return float(m.group(1).replace('.',''))\n",
    "        else:\n",
    "            np.NaN\n",
    "    except:\n",
    "        return np.NaN"
   ]
  },
  {
   "cell_type": "markdown",
   "metadata": {},
   "source": [
    "# Parte Ambientes"
   ]
  },
  {
   "cell_type": "markdown",
   "metadata": {},
   "source": [
    "* Descripción"
   ]
  },
  {
   "cell_type": "code",
   "execution_count": null,
   "metadata": {},
   "outputs": [],
   "source": [
    "df_ambientes.isnull().sum()"
   ]
  },
  {
   "cell_type": "markdown",
   "metadata": {},
   "source": [
    "* Limpieza de Datos"
   ]
  },
  {
   "cell_type": "code",
   "execution_count": null,
   "metadata": {},
   "outputs": [],
   "source": [
    "df_ambientes_limpio = df_ambientes\n",
    "df_ambientes_limpio.description=df_ambientes_limpio.description.apply(parsear_numeros)## Reemplaza los números escritos en letras por los arábigos\n",
    "df_ambientes_limpio.title = df_ambientes_limpio.title.apply(parsear_numeros)\n",
    "df_ambientes_limpio['rooms_title'] = df_ambientes.title.apply(detectar_ambientes)\n",
    "df_ambientes_limpio['rooms_description'] = df_ambientes.description.apply(detectar_ambientes)\n",
    "rooms = df_ambientes.apply(crear_serie_ambientes,1)\n",
    "## Usar la Serie Rooms\n",
    "\n"
   ]
  },
  {
   "cell_type": "code",
   "execution_count": null,
   "metadata": {},
   "outputs": [],
   "source": [
    "df_limpio = pd.DataFrame({'Tipo de Propiedad':df.property_type,'Ambientes':rooms,'Titulo':df.title,'Descripcion':df.description})"
   ]
  },
  {
   "cell_type": "markdown",
   "metadata": {},
   "source": [
    "``` Estado del DataSet al momento ```"
   ]
  },
  {
   "cell_type": "code",
   "execution_count": null,
   "metadata": {
    "scrolled": true
   },
   "outputs": [],
   "source": [
    "df_limpio.hist()"
   ]
  },
  {
   "cell_type": "markdown",
   "metadata": {},
   "source": [
    "# Parte Precios"
   ]
  },
  {
   "cell_type": "code",
   "execution_count": null,
   "metadata": {},
   "outputs": [],
   "source": [
    "df_precio.isnull().sum()\n",
    "## El DataSet nos trae los precios, precios evaluados en ARS y en USD. Usamos los Dolares y nos olvidamos del resto"
   ]
  },
  {
   "cell_type": "code",
   "execution_count": null,
   "metadata": {},
   "outputs": [],
   "source": [
    "set(df_precio.currency)\n",
    "##Hay valores en Pesos, en Uruguayos, en Peruanos y en Dólares"
   ]
  },
  {
   "cell_type": "code",
   "execution_count": null,
   "metadata": {},
   "outputs": [],
   "source": [
    "df_precio[df_precio.currency =='PEN']\n",
    "## Los registros que tienen precios en Soles, segun esto pertenece a la Arg"
   ]
  },
  {
   "cell_type": "code",
   "execution_count": null,
   "metadata": {
    "scrolled": true
   },
   "outputs": [],
   "source": [
    "df_precio[df_precio.currency =='UYU']\n",
    "## Segun la descripcion, este esta en Mendoza."
   ]
  },
  {
   "cell_type": "code",
   "execution_count": null,
   "metadata": {},
   "outputs": [],
   "source": [
    "df_precio['precio_en_titulo'] = df_precio.title.apply(busqueda_moneda)\n",
    "precio = df_precio.apply(crear_serie_precio,1)"
   ]
  },
  {
   "cell_type": "code",
   "execution_count": null,
   "metadata": {},
   "outputs": [],
   "source": [
    "precio.isnull().sum()"
   ]
  },
  {
   "cell_type": "code",
   "execution_count": null,
   "metadata": {},
   "outputs": [],
   "source": [
    "df_precio[df_precio.description.str.contains('USD').isnull()]\n",
    "## Ya tienen el precio, no me interesa mirarlos por dentro"
   ]
  },
  {
   "cell_type": "code",
   "execution_count": null,
   "metadata": {},
   "outputs": [],
   "source": [
    "df_precio.title.str.contains('dolar').isnull().sum()"
   ]
  },
  {
   "cell_type": "markdown",
   "metadata": {},
   "source": [
    "- Los datos sin precios los eliminamos"
   ]
  },
  {
   "cell_type": "code",
   "execution_count": null,
   "metadata": {},
   "outputs": [],
   "source": [
    "x=11\n",
    "df_precio[df_precio.currency.isnull()].iloc[x,-1],df_precio[df_precio.currency.isnull()].iloc[x,-2]"
   ]
  },
  {
   "cell_type": "markdown",
   "metadata": {},
   "source": [
    "# Parte Superficie"
   ]
  },
  {
   "cell_type": "markdown",
   "metadata": {},
   "source": [
    "- Por una cuestión de tiempo solo invertimos aquellos casos donde la superficie cubierta era mayor que la total, debería hacerce una busqueda en description o en title en aquellos casos que estén vacíos."
   ]
  },
  {
   "cell_type": "code",
   "execution_count": null,
   "metadata": {},
   "outputs": [],
   "source": [
    "Superficie = df_precio.apply(lambda x: pd.Series([x.surface_covered_in_m2,x.surface_total_in_m2]) \n",
    "                       if x.surface_covered_in_m2 <= x.surface_total_in_m2\n",
    "                       else pd.Series([x.surface_total_in_m2,x.surface_covered_in_m2]) ,1)"
   ]
  },
  {
   "cell_type": "code",
   "execution_count": null,
   "metadata": {},
   "outputs": [],
   "source": [
    "Superficie.columns = ['surface_covered_in_m2','surface_total_in_m2']"
   ]
  },
  {
   "cell_type": "code",
   "execution_count": null,
   "metadata": {},
   "outputs": [],
   "source": [
    "#Superficie = Superficie.apply(lambda x: pd.Series([x.surface_covered_in_m2,x.surface_covered_in_m2])\n",
    "#                      if x.surface_covered_in_m2 is None and x.surface_total_in_m2 is not None\n",
    "#                       else (pd.Series([x.surface_total_in_m2,x.surface_total_in_m2])\n",
    "#                       if x.surface_covered_in_m2 is not None and x.surface_total_in_m2 is None\n",
    "#\n",
    "#else pd.Series([x.surface_covered_in_m2,x.surface_total_in_m2])) ,1)"
   ]
  },
  {
   "cell_type": "code",
   "execution_count": null,
   "metadata": {},
   "outputs": [],
   "source": [
    "\n",
    "Superficie.surface_covered_in_m2.fillna(Superficie.surface_total_in_m2,inplace=True)\n",
    "Superficie.surface_total_in_m2.fillna(Superficie.surface_covered_in_m2,inplace=True)"
   ]
  },
  {
   "cell_type": "code",
   "execution_count": null,
   "metadata": {},
   "outputs": [],
   "source": [
    "Superficie.columns = ['Superficie Cubierta','Superficie Total']"
   ]
  },
  {
   "cell_type": "code",
   "execution_count": null,
   "metadata": {},
   "outputs": [],
   "source": [
    "## Reagrupamos la Info"
   ]
  },
  {
   "cell_type": "code",
   "execution_count": null,
   "metadata": {},
   "outputs": [],
   "source": [
    "df_limpio['Superficie Cubierta']=Superficie['Superficie Cubierta']\n",
    "df_limpio['Superficie Total'] = Superficie['Superficie Total']"
   ]
  },
  {
   "cell_type": "code",
   "execution_count": null,
   "metadata": {},
   "outputs": [],
   "source": [
    "df_limpio=df_limpio[['Tipo de Propiedad','Ambientes','Superficie Cubierta','Superficie Total','Titulo','Descripcion']]\n",
    "df_limpio.sample(5)"
   ]
  },
  {
   "cell_type": "markdown",
   "metadata": {},
   "source": [
    "# Parte Posición Geográfica"
   ]
  },
  {
   "cell_type": "code",
   "execution_count": null,
   "metadata": {},
   "outputs": [],
   "source": [
    "df_localidad_ex = pd.DataFrame(item for item in df_posicion_geografica.place_with_parent_names.str.split('|'))\n",
    "df_localidad_ex.isnull().sum()\n",
    "##Las variables de \"zona\" 4,5 y 6 estan muy incompletas. la mas recuperable es la 4\n",
    "#df_posicion_geografica['pais_ex'] = df_localidad_ex[1]\n",
    "#df_posicion_geografica['provincia_ex'] = df_localidad_ex[2]\n",
    "#df_posicion_geografica['localidad_ex'] = df_localidad_ex[3]\n",
    "#df_posicion_geografica['barrio_ex'] = df_localidad_ex[4]\n",
    "#df_posicion_geografica['zona_ex'] = df_localidad_ex[5]"
   ]
  },
  {
   "cell_type": "code",
   "execution_count": null,
   "metadata": {},
   "outputs": [],
   "source": [
    "set(df_localidad_ex[1]) #Categorias de pais"
   ]
  },
  {
   "cell_type": "code",
   "execution_count": null,
   "metadata": {},
   "outputs": [],
   "source": [
    "set(df_localidad_ex[2]) #Categoria de provincia, BSAS esta dividida en 5 partes"
   ]
  },
  {
   "cell_type": "code",
   "execution_count": null,
   "metadata": {},
   "outputs": [],
   "source": [
    "set(df_localidad_ex[3]) #Localidad"
   ]
  },
  {
   "cell_type": "code",
   "execution_count": null,
   "metadata": {},
   "outputs": [],
   "source": [
    "len(set(df_localidad_ex[4])) #Barrio"
   ]
  },
  {
   "cell_type": "code",
   "execution_count": null,
   "metadata": {},
   "outputs": [],
   "source": [
    "set(df_localidad_ex[5])"
   ]
  },
  {
   "cell_type": "code",
   "execution_count": null,
   "metadata": {},
   "outputs": [],
   "source": [
    "set(df_localidad_ex[6]) #datos vacios"
   ]
  },
  {
   "cell_type": "code",
   "execution_count": null,
   "metadata": {},
   "outputs": [],
   "source": [
    "df_localidad_ex[df_localidad_ex[4] =='coordenadas 34.255511'] \n",
    "df_localidad_ex.iloc[7367,4] ='Nordelta'\n",
    "## El registro 7367 es el unico que tiene este campo y esta en Nordelta segun Properatti"
   ]
  },
  {
   "cell_type": "code",
   "execution_count": null,
   "metadata": {},
   "outputs": [],
   "source": [
    "print('Vacios: ',len(df_localidad_ex[(df_localidad_ex[4] == '') | (df_localidad_ex[4].isnull())][4]))\n",
    "print('Con datos:',len(df_localidad_ex)-len(df_localidad_ex[(df_localidad_ex[4] == '') | (df_localidad_ex[4].isnull())][4]))\n",
    "\n",
    "## Hay 80803 vacios, lo mas facil seria tirarlo, lo ideal seria buscar por la lat/lon de donde viene realmente, pero no tenemos\n",
    "## datos para todos ni el tiempo para hacerlo, en vez de eso lo que hacemos es pegarle a los vacios y los nulos el dato de\n",
    "## la localidad, que sigue un criterio parecido al que tiene el dataset"
   ]
  },
  {
   "cell_type": "code",
   "execution_count": null,
   "metadata": {},
   "outputs": [],
   "source": [
    "df_posicion_geografica['pais_ex'] = df_localidad_ex[1]\n",
    "df_posicion_geografica['provincia_ex'] = df_localidad_ex[2]\n",
    "df_posicion_geografica['localidad_ex'] = df_localidad_ex[3]\n",
    "df_posicion_geografica['barrio_ex'] = df_localidad_ex[4]"
   ]
  },
  {
   "cell_type": "code",
   "execution_count": null,
   "metadata": {},
   "outputs": [],
   "source": [
    "df_posicion_geografica.place_name.fillna(df_posicion_geografica.localidad_ex,inplace=True)"
   ]
  },
  {
   "cell_type": "code",
   "execution_count": null,
   "metadata": {},
   "outputs": [],
   "source": [
    "df_posicion_geografica[df_posicion_geografica.place_name !=df_posicion_geografica.localidad_ex].head()\n",
    "##Hay muchas areas en las que no coinciden el place name con la localidad a la que encontramos que pertenece\n",
    "##En muchos casos coinciden con algun barrio/zona del daaset"
   ]
  },
  {
   "cell_type": "code",
   "execution_count": null,
   "metadata": {},
   "outputs": [],
   "source": [
    "len(df_posicion_geografica[df_posicion_geografica.place_name !=df_posicion_geografica.localidad_ex])\n",
    "#Hay 35170 datos que no coinciden"
   ]
  },
  {
   "cell_type": "code",
   "execution_count": null,
   "metadata": {},
   "outputs": [],
   "source": [
    "df_posicion_geografica.barrio_ex =df_posicion_geografica.apply(lambda x: x.localidad_ex \n",
    "                                       if x.barrio_ex == '' or x.barrio_ex ==None \n",
    "                                       else x.barrio_ex,1)"
   ]
  },
  {
   "cell_type": "code",
   "execution_count": null,
   "metadata": {},
   "outputs": [],
   "source": [
    "df_posicion_geografica[df_posicion_geografica.barrio_ex == ''].title.iloc[0]"
   ]
  },
  {
   "cell_type": "code",
   "execution_count": null,
   "metadata": {
    "scrolled": true
   },
   "outputs": [],
   "source": [
    "df_posicion_geografica.head()"
   ]
  },
  {
   "cell_type": "code",
   "execution_count": null,
   "metadata": {},
   "outputs": [],
   "source": [
    "df_limpio['Pais'] = df_posicion_geografica['pais_ex']\n",
    "df_limpio['Provincia'] = df_posicion_geografica['provincia_ex']\n",
    "df_limpio['Localidad'] = df_posicion_geografica['localidad_ex']\n",
    "df_limpio['Barrio'] = df_posicion_geografica['barrio_ex']"
   ]
  },
  {
   "cell_type": "code",
   "execution_count": null,
   "metadata": {},
   "outputs": [],
   "source": [
    "df_limpio=df_limpio[['Tipo de Propiedad','Ambientes','Superficie Cubierta','Superficie Total','Pais','Provincia','Localidad','Barrio','Titulo','Descripcion']]"
   ]
  },
  {
   "cell_type": "code",
   "execution_count": null,
   "metadata": {},
   "outputs": [],
   "source": [
    "df_limpio.head()"
   ]
  },
  {
   "cell_type": "code",
   "execution_count": null,
   "metadata": {},
   "outputs": [],
   "source": [
    "df_precio.info()"
   ]
  },
  {
   "cell_type": "code",
   "execution_count": null,
   "metadata": {},
   "outputs": [],
   "source": [
    "df_limpio['Precio Metro Cuadrado'] = df_precio.price_usd_per_m2               \n",
    "df_limpio['Precio'] = df_precio.price_aprox_usd"
   ]
  },
  {
   "cell_type": "code",
   "execution_count": null,
   "metadata": {},
   "outputs": [],
   "source": [
    "df_limpio=df_limpio[['Precio Metro Cuadrado','Precio','Tipo de Propiedad','Ambientes','Superficie Cubierta','Superficie Total','Pais','Provincia','Localidad','Barrio','Titulo','Descripcion']]"
   ]
  },
  {
   "cell_type": "code",
   "execution_count": null,
   "metadata": {},
   "outputs": [],
   "source": [
    "df_limpio.head()"
   ]
  },
  {
   "cell_type": "markdown",
   "metadata": {},
   "source": [
    "# Modelado"
   ]
  },
  {
   "cell_type": "code",
   "execution_count": null,
   "metadata": {},
   "outputs": [],
   "source": [
    "df_limpio.iloc[205]"
   ]
  },
  {
   "cell_type": "code",
   "execution_count": null,
   "metadata": {},
   "outputs": [],
   "source": [
    "def recalcular_precio_metro_cuadrado(x):\n",
    "    try:\n",
    "        if np.isnan(np.array(x['Precio Metro Cuadrado'])):\n",
    "            if not(np.isnan(np.array(x['Superficie Total'])) or np.isnan(np.array(x['Precio']))):\n",
    "                return x['Precio']/x['Superficie Total']\n",
    "    except:\n",
    "        return np.nan\n",
    "df_limpio['Precio Metro Cuadrado'].fillna(df_limpio.apply(recalcular_precio_metro_cuadrado,1),inplace=True)"
   ]
  },
  {
   "cell_type": "code",
   "execution_count": null,
   "metadata": {},
   "outputs": [],
   "source": [
    "df_limpio.isnull().sum()"
   ]
  },
  {
   "cell_type": "code",
   "execution_count": null,
   "metadata": {},
   "outputs": [],
   "source": [
    "df_definitivo=df_limpio.drop(columns=['Descripcion','Titulo']).dropna()\n"
   ]
  },
  {
   "cell_type": "code",
   "execution_count": null,
   "metadata": {},
   "outputs": [],
   "source": [
    "df_definitivo."
   ]
  },
  {
   "cell_type": "code",
   "execution_count": null,
   "metadata": {},
   "outputs": [],
   "source": [
    "df_definitivo.corr()"
   ]
  },
  {
   "cell_type": "code",
   "execution_count": null,
   "metadata": {},
   "outputs": [],
   "source": [
    "df_dummies =pd.get_dummies(df_definitivo,columns=['Localidad','Tipo de Propiedad'], drop_first=True)"
   ]
  },
  {
   "cell_type": "code",
   "execution_count": null,
   "metadata": {},
   "outputs": [],
   "source": [
    "df_dummies.corr()"
   ]
  },
  {
   "cell_type": "code",
   "execution_count": null,
   "metadata": {},
   "outputs": [],
   "source": [
    "model =LinearRegression(fit_intercept = True)\n",
    "modelRidge=Ridge()\n",
    "modelLasso=Lasso()\n",
    "y = df_dummies['Precio Metro Cuadrado']\n",
    "X = df_dummies.drop(columns=['Precio Metro Cuadrado','Pais','Barrio','Provincia'])\n",
    "Xtrain,Xtest,ytrain,ytest= train_test_split(X,y,\\\n",
    "                                     random_state=1)"
   ]
  },
  {
   "cell_type": "code",
   "execution_count": null,
   "metadata": {},
   "outputs": [],
   "source": [
    "Xtrain.shape,ytrain.shape"
   ]
  },
  {
   "cell_type": "code",
   "execution_count": null,
   "metadata": {},
   "outputs": [],
   "source": [
    "Xtest.shape,ytest.shape"
   ]
  },
  {
   "cell_type": "code",
   "execution_count": null,
   "metadata": {},
   "outputs": [],
   "source": [
    "model.fit(Xtrain,ytrain)\n",
    "modelRidge.fit(Xtrain,ytrain)\n",
    "modelLasso.fit(Xtrain,ytrain)"
   ]
  },
  {
   "cell_type": "code",
   "execution_count": null,
   "metadata": {},
   "outputs": [],
   "source": [
    "model.intercept_"
   ]
  },
  {
   "cell_type": "code",
   "execution_count": null,
   "metadata": {},
   "outputs": [],
   "source": [
    "df_coef=pd.DataFrame(model.coef_).T\n",
    "df_coef.columns = df_dummies.drop(columns=['Precio Metro Cuadrado','Pais','Barrio','Provincia']).columns"
   ]
  },
  {
   "cell_type": "code",
   "execution_count": null,
   "metadata": {},
   "outputs": [],
   "source": [
    "df_coef"
   ]
  },
  {
   "cell_type": "code",
   "execution_count": null,
   "metadata": {},
   "outputs": [],
   "source": [
    "ypred=model.predict(Xtest)\n",
    "ypredRidge=modelRidge.predict(Xtest)\n",
    "ypredLasso=modelLasso.predict(Xtest)"
   ]
  },
  {
   "cell_type": "code",
   "execution_count": null,
   "metadata": {},
   "outputs": [],
   "source": [
    "print('Lineal: ',metrics.r2_score(ytest,ypred))\n",
    "print('Ridge: ',metrics.r2_score(ytest,ypredRidge))\n",
    "print('Lasso: ',metrics.r2_score(ytest,ypredLasso))\n",
    "\n"
   ]
  },
  {
   "cell_type": "code",
   "execution_count": null,
   "metadata": {},
   "outputs": [],
   "source": []
  }
 ],
 "metadata": {
  "kernelspec": {
   "display_name": "Python 3",
   "language": "python",
   "name": "python3"
  },
  "language_info": {
   "codemirror_mode": {
    "name": "ipython",
    "version": 3
   },
   "file_extension": ".py",
   "mimetype": "text/x-python",
   "name": "python",
   "nbconvert_exporter": "python",
   "pygments_lexer": "ipython3",
   "version": "3.7.3"
  }
 },
 "nbformat": 4,
 "nbformat_minor": 2
}
