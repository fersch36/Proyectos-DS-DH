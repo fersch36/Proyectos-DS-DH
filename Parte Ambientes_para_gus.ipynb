{
 "cells": [
  {
   "cell_type": "code",
   "execution_count": 1,
   "metadata": {},
   "outputs": [],
   "source": [
    "import pandas as pd\n",
    "import numpy as np\n",
    "import scipy.stats as st\n",
    "import matplotlib.pyplot as plt\n",
    "import seaborn as sns\n",
    "import re\n",
    "%matplotlib inline\n"
   ]
  },
  {
   "cell_type": "markdown",
   "metadata": {},
   "source": [
    "## Importación Dataset"
   ]
  },
  {
   "cell_type": "code",
   "execution_count": 2,
   "metadata": {},
   "outputs": [
    {
     "name": "stderr",
     "output_type": "stream",
     "text": [
      "C:\\Users\\zelru\\Anaconda3\\lib\\site-packages\\pandas\\core\\indexing.py:1494: FutureWarning: \n",
      "Passing list-likes to .loc or [] with any missing label will raise\n",
      "KeyError in the future, you can use .reindex() as an alternative.\n",
      "\n",
      "See the documentation here:\n",
      "https://pandas.pydata.org/pandas-docs/stable/indexing.html#deprecate-loc-reindex-listlike\n",
      "  return self._getitem_tuple(key)\n"
     ]
    }
   ],
   "source": [
    "df = pd.read_csv('properatti.csv', index_col = 0) ### Dataset Completo\n",
    "## DataFrame Partido en distintas partes relevantes\n",
    "df_posicion_geografica = df.loc[:,['place_name','state_name','country_name','place_with_parent_names' \\\n",
    "                                   ,'geonames_id','lat','lon','lat-lon', \\\n",
    "                                   'describe','title']] ### Parte con Posición Geográfica\n",
    "df_localidad=df.loc[:,['place_name','place_with_parent_names','describe','title']] ## Parte con Localidades\n",
    "df_ambientes = df.loc[:,['rooms','property_type','description','title']]  ## Parte con Ambientes\n",
    "df_pisos = df.loc[:,['floor','property_type','description','title']]  ## Parte con Pisos\n",
    "df_precio = df.loc[:,['price','currency','price_aprox_local_currency','price_aprox_usd',\\\n",
    "                      'surface_total_in_m2','surface_covered_in_m2','price_usd_per_m2',\\\n",
    "                      'price_per_m2','description','title']]  ## Parte con Precios y Superficies"
   ]
  },
  {
   "cell_type": "markdown",
   "metadata": {},
   "source": [
    "## Funciones"
   ]
  },
  {
   "cell_type": "code",
   "execution_count": 3,
   "metadata": {},
   "outputs": [],
   "source": [
    "def update(df,column,s):\n",
    "    '''\n",
    "    Reemplaza los valores de la columna del DataFrame con\n",
    "    los valores no nulos de la serie\n",
    "    '''\n",
    "    df[column]=s.fillna(df[column])\n",
    "    return df\n",
    "\n",
    "def busqueda_ambientes(x):\n",
    "    '''\n",
    "    Busca la palabra amb (de ambientes) y devuelve el número que tiene por delante\n",
    "    '''\n",
    "    try:\n",
    "        pattern = '(\\d+)\\s*amb'\n",
    "        regex = re.compile(pattern, flags = re.IGNORECASE | re.UNICODE)\n",
    "        m = regex.search(x)\n",
    "        if m:\n",
    "            return float(m.group(1))\n",
    "        else:\n",
    "            return np.NaN\n",
    "    except:\n",
    "        return np.NaN\n",
    "\n",
    "def busqueda_monoambientes(x):\n",
    "    '''\n",
    "    Busca en la palabra monoambiente y devuelve 1\n",
    "    '''\n",
    "    if type(x) is str:\n",
    "        if x.lower().find('monoambiente') >-1:\n",
    "            return 1\n",
    "\n",
    "def busqueda_moneda(x):\n",
    "    try:\n",
    "        pattern = 'U\\$D\\s*([\\d\\.]+)'\n",
    "        regex = re.compile(pattern, flags = re.IGNORECASE | re.UNICODE)\n",
    "        m = regex.search(x)\n",
    "        if m:\n",
    "            return float(m.group(1).replace('.',''))\n",
    "        else:\n",
    "            np.NaN\n",
    "    except:\n",
    "        return np.NaN\n",
    "    \n",
    "def parsear_numeros(x):\n",
    "    '''\n",
    "    Reemplaza numeros escritos en letras por sus equivalentes\n",
    "    en arábigos.\n",
    "    '''\n",
    "    try:\n",
    "        numeros={'uno':1,'un':1,'una':1,'dos':2,'tres':3,'cuatro':4,'cinco':5,'seis':6,'siete':7,'ocho':8,'nueve':9,'diez':10}\n",
    "        for key in numeros:\n",
    "            x = x.lower()\n",
    "            x=x.replace(key,str(numeros[key]))\n",
    "        return x\n",
    "    except:\n",
    "        return x\n",
    "\n",
    "def busqueda_por_texto(x):\n",
    "    '''\n",
    "    Busca palabras claves asociadas a ambientes, como dormitorio, comedor, living, etc.\n",
    "    y devuelve el número de veces que estas aparecen.\n",
    "    '''\n",
    "    result = 0.0\n",
    "    valor = 0.0\n",
    "    try:\n",
    "        pattern = r\"(\\d*\\s*living\\s*cocina\\s*comedor|living\\s*comedor|living)|(\\d*\\s*dormitorio)|(\\d*\\s*comedor)\"\n",
    "        regex = re.compile(pattern, flags = re.IGNORECASE | re.UNICODE)\n",
    "        grupos = regex.findall(x)\n",
    "        for grupo in grupos:\n",
    "            for elemento in grupo:\n",
    "                regex_dos = re.compile(r'(\\d+)', flags = re.IGNORECASE | re.UNICODE)\n",
    "                cantidad = regex_dos.search(elemento)\n",
    "                if cantidad is not None:\n",
    "                    valor+=float(cantidad.group())\n",
    "            if result == valor:\n",
    "                result+=1\n",
    "                valor+=1\n",
    "            else:\n",
    "                result=valor\n",
    "        if result > 0.0:\n",
    "            return result\n",
    "        else:\n",
    "            return np.NaN\n",
    "    except:\n",
    "        return np.NaN\n",
    "def convert_to_int(x):\n",
    "    return int(x)"
   ]
  },
  {
   "cell_type": "markdown",
   "metadata": {},
   "source": [
    "## Breve Descripción del Dataset"
   ]
  },
  {
   "cell_type": "code",
   "execution_count": 4,
   "metadata": {},
   "outputs": [
    {
     "data": {
      "text/html": [
       "<div>\n",
       "<style scoped>\n",
       "    .dataframe tbody tr th:only-of-type {\n",
       "        vertical-align: middle;\n",
       "    }\n",
       "\n",
       "    .dataframe tbody tr th {\n",
       "        vertical-align: top;\n",
       "    }\n",
       "\n",
       "    .dataframe thead th {\n",
       "        text-align: right;\n",
       "    }\n",
       "</style>\n",
       "<table border=\"1\" class=\"dataframe\">\n",
       "  <thead>\n",
       "    <tr style=\"text-align: right;\">\n",
       "      <th></th>\n",
       "      <th>operation</th>\n",
       "      <th>property_type</th>\n",
       "      <th>place_name</th>\n",
       "      <th>place_with_parent_names</th>\n",
       "      <th>country_name</th>\n",
       "      <th>state_name</th>\n",
       "      <th>geonames_id</th>\n",
       "      <th>lat-lon</th>\n",
       "      <th>lat</th>\n",
       "      <th>lon</th>\n",
       "      <th>...</th>\n",
       "      <th>surface_covered_in_m2</th>\n",
       "      <th>price_usd_per_m2</th>\n",
       "      <th>price_per_m2</th>\n",
       "      <th>floor</th>\n",
       "      <th>rooms</th>\n",
       "      <th>expenses</th>\n",
       "      <th>properati_url</th>\n",
       "      <th>description</th>\n",
       "      <th>title</th>\n",
       "      <th>image_thumbnail</th>\n",
       "    </tr>\n",
       "  </thead>\n",
       "  <tbody>\n",
       "    <tr>\n",
       "      <th>0</th>\n",
       "      <td>sell</td>\n",
       "      <td>PH</td>\n",
       "      <td>Mataderos</td>\n",
       "      <td>|Argentina|Capital Federal|Mataderos|</td>\n",
       "      <td>Argentina</td>\n",
       "      <td>Capital Federal</td>\n",
       "      <td>3430787.0</td>\n",
       "      <td>-34.6618237,-58.5088387</td>\n",
       "      <td>-34.661824</td>\n",
       "      <td>-58.508839</td>\n",
       "      <td>...</td>\n",
       "      <td>40.0</td>\n",
       "      <td>1127.272727</td>\n",
       "      <td>1550.000000</td>\n",
       "      <td>NaN</td>\n",
       "      <td>NaN</td>\n",
       "      <td>NaN</td>\n",
       "      <td>http://www.properati.com.ar/15bo8_venta_ph_mat...</td>\n",
       "      <td>2 AMBIENTES TIPO CASA PLANTA BAJA POR PASILLO,...</td>\n",
       "      <td>2 AMB TIPO CASA SIN EXPENSAS EN PB</td>\n",
       "      <td>https://thumbs4.properati.com/8/BluUYiHJLhgIIK...</td>\n",
       "    </tr>\n",
       "    <tr>\n",
       "      <th>1</th>\n",
       "      <td>sell</td>\n",
       "      <td>apartment</td>\n",
       "      <td>La Plata</td>\n",
       "      <td>|Argentina|Bs.As. G.B.A. Zona Sur|La Plata|</td>\n",
       "      <td>Argentina</td>\n",
       "      <td>Bs.As. G.B.A. Zona Sur</td>\n",
       "      <td>3432039.0</td>\n",
       "      <td>-34.9038831,-57.9643295</td>\n",
       "      <td>-34.903883</td>\n",
       "      <td>-57.964330</td>\n",
       "      <td>...</td>\n",
       "      <td>NaN</td>\n",
       "      <td>NaN</td>\n",
       "      <td>NaN</td>\n",
       "      <td>NaN</td>\n",
       "      <td>NaN</td>\n",
       "      <td>NaN</td>\n",
       "      <td>http://www.properati.com.ar/15bob_venta_depart...</td>\n",
       "      <td>Venta de departamento en décimo piso al frente...</td>\n",
       "      <td>VENTA Depto 2 dorm. a estrenar 7 e/ 36 y 37   ...</td>\n",
       "      <td>https://thumbs4.properati.com/7/ikpVBu2ztHA7jv...</td>\n",
       "    </tr>\n",
       "    <tr>\n",
       "      <th>2</th>\n",
       "      <td>sell</td>\n",
       "      <td>apartment</td>\n",
       "      <td>Mataderos</td>\n",
       "      <td>|Argentina|Capital Federal|Mataderos|</td>\n",
       "      <td>Argentina</td>\n",
       "      <td>Capital Federal</td>\n",
       "      <td>3430787.0</td>\n",
       "      <td>-34.6522615,-58.5229825</td>\n",
       "      <td>-34.652262</td>\n",
       "      <td>-58.522982</td>\n",
       "      <td>...</td>\n",
       "      <td>55.0</td>\n",
       "      <td>1309.090909</td>\n",
       "      <td>1309.090909</td>\n",
       "      <td>NaN</td>\n",
       "      <td>NaN</td>\n",
       "      <td>NaN</td>\n",
       "      <td>http://www.properati.com.ar/15bod_venta_depart...</td>\n",
       "      <td>2 AMBIENTES 3ER PISO LATERAL LIVING COMEDOR AM...</td>\n",
       "      <td>2 AMB 3ER PISO CON ASCENSOR APTO CREDITO</td>\n",
       "      <td>https://thumbs4.properati.com/5/SXKr34F_IwG3W_...</td>\n",
       "    </tr>\n",
       "    <tr>\n",
       "      <th>3</th>\n",
       "      <td>sell</td>\n",
       "      <td>PH</td>\n",
       "      <td>Liniers</td>\n",
       "      <td>|Argentina|Capital Federal|Liniers|</td>\n",
       "      <td>Argentina</td>\n",
       "      <td>Capital Federal</td>\n",
       "      <td>3431333.0</td>\n",
       "      <td>-34.6477969,-58.5164244</td>\n",
       "      <td>-34.647797</td>\n",
       "      <td>-58.516424</td>\n",
       "      <td>...</td>\n",
       "      <td>NaN</td>\n",
       "      <td>NaN</td>\n",
       "      <td>NaN</td>\n",
       "      <td>NaN</td>\n",
       "      <td>NaN</td>\n",
       "      <td>NaN</td>\n",
       "      <td>http://www.properati.com.ar/15boh_venta_ph_lin...</td>\n",
       "      <td>PH 3 ambientes con patio. Hay 3 deptos en lote...</td>\n",
       "      <td>PH 3 amb. cfte. reciclado</td>\n",
       "      <td>https://thumbs4.properati.com/3/DgIfX-85Mog5SP...</td>\n",
       "    </tr>\n",
       "    <tr>\n",
       "      <th>4</th>\n",
       "      <td>sell</td>\n",
       "      <td>apartment</td>\n",
       "      <td>Centro</td>\n",
       "      <td>|Argentina|Buenos Aires Costa Atlántica|Mar de...</td>\n",
       "      <td>Argentina</td>\n",
       "      <td>Buenos Aires Costa Atlántica</td>\n",
       "      <td>3435548.0</td>\n",
       "      <td>-38.0026256,-57.5494468</td>\n",
       "      <td>-38.002626</td>\n",
       "      <td>-57.549447</td>\n",
       "      <td>...</td>\n",
       "      <td>35.0</td>\n",
       "      <td>1828.571429</td>\n",
       "      <td>1828.571429</td>\n",
       "      <td>NaN</td>\n",
       "      <td>NaN</td>\n",
       "      <td>NaN</td>\n",
       "      <td>http://www.properati.com.ar/15bok_venta_depart...</td>\n",
       "      <td>DEPARTAMENTO CON FANTÁSTICA ILUMINACIÓN NATURA...</td>\n",
       "      <td>DEPTO 2 AMB AL CONTRAFRENTE ZONA CENTRO/PLAZA ...</td>\n",
       "      <td>https://thumbs4.properati.com/5/xrRqlNcSI_vs-f...</td>\n",
       "    </tr>\n",
       "  </tbody>\n",
       "</table>\n",
       "<p>5 rows × 25 columns</p>\n",
       "</div>"
      ],
      "text/plain": [
       "  operation property_type place_name  \\\n",
       "0      sell            PH  Mataderos   \n",
       "1      sell     apartment   La Plata   \n",
       "2      sell     apartment  Mataderos   \n",
       "3      sell            PH    Liniers   \n",
       "4      sell     apartment     Centro   \n",
       "\n",
       "                             place_with_parent_names country_name  \\\n",
       "0              |Argentina|Capital Federal|Mataderos|    Argentina   \n",
       "1        |Argentina|Bs.As. G.B.A. Zona Sur|La Plata|    Argentina   \n",
       "2              |Argentina|Capital Federal|Mataderos|    Argentina   \n",
       "3                |Argentina|Capital Federal|Liniers|    Argentina   \n",
       "4  |Argentina|Buenos Aires Costa Atlántica|Mar de...    Argentina   \n",
       "\n",
       "                     state_name  geonames_id                  lat-lon  \\\n",
       "0               Capital Federal    3430787.0  -34.6618237,-58.5088387   \n",
       "1        Bs.As. G.B.A. Zona Sur    3432039.0  -34.9038831,-57.9643295   \n",
       "2               Capital Federal    3430787.0  -34.6522615,-58.5229825   \n",
       "3               Capital Federal    3431333.0  -34.6477969,-58.5164244   \n",
       "4  Buenos Aires Costa Atlántica    3435548.0  -38.0026256,-57.5494468   \n",
       "\n",
       "         lat        lon  ...  surface_covered_in_m2 price_usd_per_m2  \\\n",
       "0 -34.661824 -58.508839  ...                   40.0      1127.272727   \n",
       "1 -34.903883 -57.964330  ...                    NaN              NaN   \n",
       "2 -34.652262 -58.522982  ...                   55.0      1309.090909   \n",
       "3 -34.647797 -58.516424  ...                    NaN              NaN   \n",
       "4 -38.002626 -57.549447  ...                   35.0      1828.571429   \n",
       "\n",
       "   price_per_m2  floor  rooms  expenses  \\\n",
       "0   1550.000000    NaN    NaN       NaN   \n",
       "1           NaN    NaN    NaN       NaN   \n",
       "2   1309.090909    NaN    NaN       NaN   \n",
       "3           NaN    NaN    NaN       NaN   \n",
       "4   1828.571429    NaN    NaN       NaN   \n",
       "\n",
       "                                       properati_url  \\\n",
       "0  http://www.properati.com.ar/15bo8_venta_ph_mat...   \n",
       "1  http://www.properati.com.ar/15bob_venta_depart...   \n",
       "2  http://www.properati.com.ar/15bod_venta_depart...   \n",
       "3  http://www.properati.com.ar/15boh_venta_ph_lin...   \n",
       "4  http://www.properati.com.ar/15bok_venta_depart...   \n",
       "\n",
       "                                         description  \\\n",
       "0  2 AMBIENTES TIPO CASA PLANTA BAJA POR PASILLO,...   \n",
       "1  Venta de departamento en décimo piso al frente...   \n",
       "2  2 AMBIENTES 3ER PISO LATERAL LIVING COMEDOR AM...   \n",
       "3  PH 3 ambientes con patio. Hay 3 deptos en lote...   \n",
       "4  DEPARTAMENTO CON FANTÁSTICA ILUMINACIÓN NATURA...   \n",
       "\n",
       "                                               title  \\\n",
       "0                 2 AMB TIPO CASA SIN EXPENSAS EN PB   \n",
       "1  VENTA Depto 2 dorm. a estrenar 7 e/ 36 y 37   ...   \n",
       "2           2 AMB 3ER PISO CON ASCENSOR APTO CREDITO   \n",
       "3                       PH 3 amb. cfte. reciclado      \n",
       "4  DEPTO 2 AMB AL CONTRAFRENTE ZONA CENTRO/PLAZA ...   \n",
       "\n",
       "                                     image_thumbnail  \n",
       "0  https://thumbs4.properati.com/8/BluUYiHJLhgIIK...  \n",
       "1  https://thumbs4.properati.com/7/ikpVBu2ztHA7jv...  \n",
       "2  https://thumbs4.properati.com/5/SXKr34F_IwG3W_...  \n",
       "3  https://thumbs4.properati.com/3/DgIfX-85Mog5SP...  \n",
       "4  https://thumbs4.properati.com/5/xrRqlNcSI_vs-f...  \n",
       "\n",
       "[5 rows x 25 columns]"
      ]
     },
     "execution_count": 4,
     "metadata": {},
     "output_type": "execute_result"
    }
   ],
   "source": [
    "df.head()"
   ]
  },
  {
   "cell_type": "code",
   "execution_count": 5,
   "metadata": {},
   "outputs": [
    {
     "data": {
      "text/html": [
       "<div>\n",
       "<style scoped>\n",
       "    .dataframe tbody tr th:only-of-type {\n",
       "        vertical-align: middle;\n",
       "    }\n",
       "\n",
       "    .dataframe tbody tr th {\n",
       "        vertical-align: top;\n",
       "    }\n",
       "\n",
       "    .dataframe thead th {\n",
       "        text-align: right;\n",
       "    }\n",
       "</style>\n",
       "<table border=\"1\" class=\"dataframe\">\n",
       "  <thead>\n",
       "    <tr style=\"text-align: right;\">\n",
       "      <th></th>\n",
       "      <th>geonames_id</th>\n",
       "      <th>lat</th>\n",
       "      <th>lon</th>\n",
       "      <th>price</th>\n",
       "      <th>price_aprox_local_currency</th>\n",
       "      <th>price_aprox_usd</th>\n",
       "      <th>surface_total_in_m2</th>\n",
       "      <th>surface_covered_in_m2</th>\n",
       "      <th>price_usd_per_m2</th>\n",
       "      <th>price_per_m2</th>\n",
       "      <th>floor</th>\n",
       "      <th>rooms</th>\n",
       "      <th>expenses</th>\n",
       "    </tr>\n",
       "  </thead>\n",
       "  <tbody>\n",
       "    <tr>\n",
       "      <th>count</th>\n",
       "      <td>1.025030e+05</td>\n",
       "      <td>69670.000000</td>\n",
       "      <td>69670.000000</td>\n",
       "      <td>1.008100e+05</td>\n",
       "      <td>1.008100e+05</td>\n",
       "      <td>1.008100e+05</td>\n",
       "      <td>81892.000000</td>\n",
       "      <td>101313.000000</td>\n",
       "      <td>68617.000000</td>\n",
       "      <td>8.765800e+04</td>\n",
       "      <td>7899.000000</td>\n",
       "      <td>47390.000000</td>\n",
       "      <td>1.426200e+04</td>\n",
       "    </tr>\n",
       "    <tr>\n",
       "      <th>mean</th>\n",
       "      <td>3.574442e+06</td>\n",
       "      <td>-34.626210</td>\n",
       "      <td>-59.266290</td>\n",
       "      <td>4.685259e+05</td>\n",
       "      <td>4.229397e+06</td>\n",
       "      <td>2.397006e+05</td>\n",
       "      <td>233.795328</td>\n",
       "      <td>133.050181</td>\n",
       "      <td>2160.086916</td>\n",
       "      <td>6.912216e+03</td>\n",
       "      <td>17.452336</td>\n",
       "      <td>3.080840</td>\n",
       "      <td>5.009234e+03</td>\n",
       "    </tr>\n",
       "    <tr>\n",
       "      <th>std</th>\n",
       "      <td>3.541306e+05</td>\n",
       "      <td>1.980936</td>\n",
       "      <td>2.299922</td>\n",
       "      <td>2.260101e+06</td>\n",
       "      <td>6.904714e+06</td>\n",
       "      <td>3.913239e+05</td>\n",
       "      <td>1782.222147</td>\n",
       "      <td>724.351479</td>\n",
       "      <td>2759.288621</td>\n",
       "      <td>2.837864e+04</td>\n",
       "      <td>120.243621</td>\n",
       "      <td>1.860773</td>\n",
       "      <td>1.204403e+05</td>\n",
       "    </tr>\n",
       "    <tr>\n",
       "      <th>min</th>\n",
       "      <td>3.427208e+06</td>\n",
       "      <td>-54.823985</td>\n",
       "      <td>-75.678931</td>\n",
       "      <td>0.000000e+00</td>\n",
       "      <td>0.000000e+00</td>\n",
       "      <td>0.000000e+00</td>\n",
       "      <td>0.000000</td>\n",
       "      <td>0.000000</td>\n",
       "      <td>0.600000</td>\n",
       "      <td>1.510204e+00</td>\n",
       "      <td>1.000000</td>\n",
       "      <td>1.000000</td>\n",
       "      <td>1.000000e+00</td>\n",
       "    </tr>\n",
       "    <tr>\n",
       "      <th>25%</th>\n",
       "      <td>3.430234e+06</td>\n",
       "      <td>-34.669065</td>\n",
       "      <td>-58.727040</td>\n",
       "      <td>1.100000e+05</td>\n",
       "      <td>1.583309e+06</td>\n",
       "      <td>8.973388e+04</td>\n",
       "      <td>50.000000</td>\n",
       "      <td>45.000000</td>\n",
       "      <td>1218.181818</td>\n",
       "      <td>1.550000e+03</td>\n",
       "      <td>1.000000</td>\n",
       "      <td>2.000000</td>\n",
       "      <td>1.000000e+03</td>\n",
       "    </tr>\n",
       "    <tr>\n",
       "      <th>50%</th>\n",
       "      <td>3.433910e+06</td>\n",
       "      <td>-34.597985</td>\n",
       "      <td>-58.480128</td>\n",
       "      <td>1.850000e+05</td>\n",
       "      <td>2.558452e+06</td>\n",
       "      <td>1.450000e+05</td>\n",
       "      <td>84.000000</td>\n",
       "      <td>75.000000</td>\n",
       "      <td>1800.000000</td>\n",
       "      <td>2.213115e+03</td>\n",
       "      <td>3.000000</td>\n",
       "      <td>3.000000</td>\n",
       "      <td>2.000000e+03</td>\n",
       "    </tr>\n",
       "    <tr>\n",
       "      <th>75%</th>\n",
       "      <td>3.836668e+06</td>\n",
       "      <td>-34.441299</td>\n",
       "      <td>-58.395908</td>\n",
       "      <td>4.200000e+05</td>\n",
       "      <td>4.675792e+06</td>\n",
       "      <td>2.650000e+05</td>\n",
       "      <td>200.000000</td>\n",
       "      <td>150.000000</td>\n",
       "      <td>2486.411765</td>\n",
       "      <td>3.355549e+03</td>\n",
       "      <td>6.000000</td>\n",
       "      <td>4.000000</td>\n",
       "      <td>4.000000e+03</td>\n",
       "    </tr>\n",
       "    <tr>\n",
       "      <th>max</th>\n",
       "      <td>6.948895e+06</td>\n",
       "      <td>4.545843</td>\n",
       "      <td>-53.733330</td>\n",
       "      <td>6.500000e+08</td>\n",
       "      <td>8.212711e+08</td>\n",
       "      <td>4.654544e+07</td>\n",
       "      <td>200000.000000</td>\n",
       "      <td>187000.000000</td>\n",
       "      <td>206333.333333</td>\n",
       "      <td>4.000000e+06</td>\n",
       "      <td>3150.000000</td>\n",
       "      <td>32.000000</td>\n",
       "      <td>1.000150e+07</td>\n",
       "    </tr>\n",
       "  </tbody>\n",
       "</table>\n",
       "</div>"
      ],
      "text/plain": [
       "        geonames_id           lat           lon         price  \\\n",
       "count  1.025030e+05  69670.000000  69670.000000  1.008100e+05   \n",
       "mean   3.574442e+06    -34.626210    -59.266290  4.685259e+05   \n",
       "std    3.541306e+05      1.980936      2.299922  2.260101e+06   \n",
       "min    3.427208e+06    -54.823985    -75.678931  0.000000e+00   \n",
       "25%    3.430234e+06    -34.669065    -58.727040  1.100000e+05   \n",
       "50%    3.433910e+06    -34.597985    -58.480128  1.850000e+05   \n",
       "75%    3.836668e+06    -34.441299    -58.395908  4.200000e+05   \n",
       "max    6.948895e+06      4.545843    -53.733330  6.500000e+08   \n",
       "\n",
       "       price_aprox_local_currency  price_aprox_usd  surface_total_in_m2  \\\n",
       "count                1.008100e+05     1.008100e+05         81892.000000   \n",
       "mean                 4.229397e+06     2.397006e+05           233.795328   \n",
       "std                  6.904714e+06     3.913239e+05          1782.222147   \n",
       "min                  0.000000e+00     0.000000e+00             0.000000   \n",
       "25%                  1.583309e+06     8.973388e+04            50.000000   \n",
       "50%                  2.558452e+06     1.450000e+05            84.000000   \n",
       "75%                  4.675792e+06     2.650000e+05           200.000000   \n",
       "max                  8.212711e+08     4.654544e+07        200000.000000   \n",
       "\n",
       "       surface_covered_in_m2  price_usd_per_m2  price_per_m2        floor  \\\n",
       "count          101313.000000      68617.000000  8.765800e+04  7899.000000   \n",
       "mean              133.050181       2160.086916  6.912216e+03    17.452336   \n",
       "std               724.351479       2759.288621  2.837864e+04   120.243621   \n",
       "min                 0.000000          0.600000  1.510204e+00     1.000000   \n",
       "25%                45.000000       1218.181818  1.550000e+03     1.000000   \n",
       "50%                75.000000       1800.000000  2.213115e+03     3.000000   \n",
       "75%               150.000000       2486.411765  3.355549e+03     6.000000   \n",
       "max            187000.000000     206333.333333  4.000000e+06  3150.000000   \n",
       "\n",
       "              rooms      expenses  \n",
       "count  47390.000000  1.426200e+04  \n",
       "mean       3.080840  5.009234e+03  \n",
       "std        1.860773  1.204403e+05  \n",
       "min        1.000000  1.000000e+00  \n",
       "25%        2.000000  1.000000e+03  \n",
       "50%        3.000000  2.000000e+03  \n",
       "75%        4.000000  4.000000e+03  \n",
       "max       32.000000  1.000150e+07  "
      ]
     },
     "execution_count": 5,
     "metadata": {},
     "output_type": "execute_result"
    }
   ],
   "source": [
    "df.describe()"
   ]
  },
  {
   "cell_type": "code",
   "execution_count": 6,
   "metadata": {
    "scrolled": true
   },
   "outputs": [
    {
     "name": "stdout",
     "output_type": "stream",
     "text": [
      "<class 'pandas.core.frame.DataFrame'>\n",
      "Int64Index: 121220 entries, 0 to 121219\n",
      "Data columns (total 25 columns):\n",
      "operation                     121220 non-null object\n",
      "property_type                 121220 non-null object\n",
      "place_name                    121197 non-null object\n",
      "place_with_parent_names       121220 non-null object\n",
      "country_name                  121220 non-null object\n",
      "state_name                    121220 non-null object\n",
      "geonames_id                   102503 non-null float64\n",
      "lat-lon                       69670 non-null object\n",
      "lat                           69670 non-null float64\n",
      "lon                           69670 non-null float64\n",
      "price                         100810 non-null float64\n",
      "currency                      100809 non-null object\n",
      "price_aprox_local_currency    100810 non-null float64\n",
      "price_aprox_usd               100810 non-null float64\n",
      "surface_total_in_m2           81892 non-null float64\n",
      "surface_covered_in_m2         101313 non-null float64\n",
      "price_usd_per_m2              68617 non-null float64\n",
      "price_per_m2                  87658 non-null float64\n",
      "floor                         7899 non-null float64\n",
      "rooms                         47390 non-null float64\n",
      "expenses                      14262 non-null float64\n",
      "properati_url                 121220 non-null object\n",
      "description                   121218 non-null object\n",
      "title                         121220 non-null object\n",
      "image_thumbnail               118108 non-null object\n",
      "dtypes: float64(13), object(12)\n",
      "memory usage: 24.0+ MB\n"
     ]
    }
   ],
   "source": [
    "df.info();"
   ]
  },
  {
   "cell_type": "code",
   "execution_count": 7,
   "metadata": {
    "scrolled": false
   },
   "outputs": [
    {
     "data": {
      "text/plain": [
       "operation                          0\n",
       "property_type                      0\n",
       "place_name                        23\n",
       "place_with_parent_names            0\n",
       "country_name                       0\n",
       "state_name                         0\n",
       "geonames_id                    18717\n",
       "lat-lon                        51550\n",
       "lat                            51550\n",
       "lon                            51550\n",
       "price                          20410\n",
       "currency                       20411\n",
       "price_aprox_local_currency     20410\n",
       "price_aprox_usd                20410\n",
       "surface_total_in_m2            39328\n",
       "surface_covered_in_m2          19907\n",
       "price_usd_per_m2               52603\n",
       "price_per_m2                   33562\n",
       "floor                         113321\n",
       "rooms                          73830\n",
       "expenses                      106958\n",
       "properati_url                      0\n",
       "description                        2\n",
       "title                              0\n",
       "image_thumbnail                 3112\n",
       "dtype: int64"
      ]
     },
     "execution_count": 7,
     "metadata": {},
     "output_type": "execute_result"
    }
   ],
   "source": [
    "df.isnull().sum()"
   ]
  },
  {
   "cell_type": "code",
   "execution_count": 8,
   "metadata": {
    "scrolled": true
   },
   "outputs": [
    {
     "data": {
      "text/plain": [
       "9761    http://www.properati.com.ar/165i3_venta_casa_c...\n",
       "Name: properati_url, dtype: object"
      ]
     },
     "execution_count": 8,
     "metadata": {},
     "output_type": "execute_result"
    }
   ],
   "source": [
    "df.loc[(~df.price.isnull()) & (df.currency.isnull())].properati_url\n",
    "##la fila que tiene el precio pero no tiene currency es la 9761, El precio esta en 0.\n"
   ]
  },
  {
   "cell_type": "markdown",
   "metadata": {},
   "source": [
    "# Parte Ambientes"
   ]
  },
  {
   "cell_type": "markdown",
   "metadata": {},
   "source": [
    "* Descripción"
   ]
  },
  {
   "cell_type": "code",
   "execution_count": 9,
   "metadata": {},
   "outputs": [
    {
     "data": {
      "text/html": [
       "<div>\n",
       "<style scoped>\n",
       "    .dataframe tbody tr th:only-of-type {\n",
       "        vertical-align: middle;\n",
       "    }\n",
       "\n",
       "    .dataframe tbody tr th {\n",
       "        vertical-align: top;\n",
       "    }\n",
       "\n",
       "    .dataframe thead th {\n",
       "        text-align: right;\n",
       "    }\n",
       "</style>\n",
       "<table border=\"1\" class=\"dataframe\">\n",
       "  <thead>\n",
       "    <tr style=\"text-align: right;\">\n",
       "      <th></th>\n",
       "      <th>rooms</th>\n",
       "      <th>property_type</th>\n",
       "      <th>description</th>\n",
       "      <th>title</th>\n",
       "    </tr>\n",
       "  </thead>\n",
       "  <tbody>\n",
       "    <tr>\n",
       "      <th>0</th>\n",
       "      <td>NaN</td>\n",
       "      <td>PH</td>\n",
       "      <td>2 AMBIENTES TIPO CASA PLANTA BAJA POR PASILLO,...</td>\n",
       "      <td>2 AMB TIPO CASA SIN EXPENSAS EN PB</td>\n",
       "    </tr>\n",
       "    <tr>\n",
       "      <th>1</th>\n",
       "      <td>NaN</td>\n",
       "      <td>apartment</td>\n",
       "      <td>Venta de departamento en décimo piso al frente...</td>\n",
       "      <td>VENTA Depto 2 dorm. a estrenar 7 e/ 36 y 37   ...</td>\n",
       "    </tr>\n",
       "    <tr>\n",
       "      <th>2</th>\n",
       "      <td>NaN</td>\n",
       "      <td>apartment</td>\n",
       "      <td>2 AMBIENTES 3ER PISO LATERAL LIVING COMEDOR AM...</td>\n",
       "      <td>2 AMB 3ER PISO CON ASCENSOR APTO CREDITO</td>\n",
       "    </tr>\n",
       "    <tr>\n",
       "      <th>3</th>\n",
       "      <td>NaN</td>\n",
       "      <td>PH</td>\n",
       "      <td>PH 3 ambientes con patio. Hay 3 deptos en lote...</td>\n",
       "      <td>PH 3 amb. cfte. reciclado</td>\n",
       "    </tr>\n",
       "    <tr>\n",
       "      <th>4</th>\n",
       "      <td>NaN</td>\n",
       "      <td>apartment</td>\n",
       "      <td>DEPARTAMENTO CON FANTÁSTICA ILUMINACIÓN NATURA...</td>\n",
       "      <td>DEPTO 2 AMB AL CONTRAFRENTE ZONA CENTRO/PLAZA ...</td>\n",
       "    </tr>\n",
       "  </tbody>\n",
       "</table>\n",
       "</div>"
      ],
      "text/plain": [
       "   rooms property_type                                        description  \\\n",
       "0    NaN            PH  2 AMBIENTES TIPO CASA PLANTA BAJA POR PASILLO,...   \n",
       "1    NaN     apartment  Venta de departamento en décimo piso al frente...   \n",
       "2    NaN     apartment  2 AMBIENTES 3ER PISO LATERAL LIVING COMEDOR AM...   \n",
       "3    NaN            PH  PH 3 ambientes con patio. Hay 3 deptos en lote...   \n",
       "4    NaN     apartment  DEPARTAMENTO CON FANTÁSTICA ILUMINACIÓN NATURA...   \n",
       "\n",
       "                                               title  \n",
       "0                 2 AMB TIPO CASA SIN EXPENSAS EN PB  \n",
       "1  VENTA Depto 2 dorm. a estrenar 7 e/ 36 y 37   ...  \n",
       "2           2 AMB 3ER PISO CON ASCENSOR APTO CREDITO  \n",
       "3                       PH 3 amb. cfte. reciclado     \n",
       "4  DEPTO 2 AMB AL CONTRAFRENTE ZONA CENTRO/PLAZA ...  "
      ]
     },
     "execution_count": 9,
     "metadata": {},
     "output_type": "execute_result"
    }
   ],
   "source": [
    "df_ambientes.head()"
   ]
  },
  {
   "cell_type": "code",
   "execution_count": 10,
   "metadata": {},
   "outputs": [
    {
     "data": {
      "text/html": [
       "<div>\n",
       "<style scoped>\n",
       "    .dataframe tbody tr th:only-of-type {\n",
       "        vertical-align: middle;\n",
       "    }\n",
       "\n",
       "    .dataframe tbody tr th {\n",
       "        vertical-align: top;\n",
       "    }\n",
       "\n",
       "    .dataframe thead th {\n",
       "        text-align: right;\n",
       "    }\n",
       "</style>\n",
       "<table border=\"1\" class=\"dataframe\">\n",
       "  <thead>\n",
       "    <tr style=\"text-align: right;\">\n",
       "      <th></th>\n",
       "      <th>rooms</th>\n",
       "    </tr>\n",
       "  </thead>\n",
       "  <tbody>\n",
       "    <tr>\n",
       "      <th>count</th>\n",
       "      <td>47390.000000</td>\n",
       "    </tr>\n",
       "    <tr>\n",
       "      <th>mean</th>\n",
       "      <td>3.080840</td>\n",
       "    </tr>\n",
       "    <tr>\n",
       "      <th>std</th>\n",
       "      <td>1.860773</td>\n",
       "    </tr>\n",
       "    <tr>\n",
       "      <th>min</th>\n",
       "      <td>1.000000</td>\n",
       "    </tr>\n",
       "    <tr>\n",
       "      <th>25%</th>\n",
       "      <td>2.000000</td>\n",
       "    </tr>\n",
       "    <tr>\n",
       "      <th>50%</th>\n",
       "      <td>3.000000</td>\n",
       "    </tr>\n",
       "    <tr>\n",
       "      <th>75%</th>\n",
       "      <td>4.000000</td>\n",
       "    </tr>\n",
       "    <tr>\n",
       "      <th>max</th>\n",
       "      <td>32.000000</td>\n",
       "    </tr>\n",
       "  </tbody>\n",
       "</table>\n",
       "</div>"
      ],
      "text/plain": [
       "              rooms\n",
       "count  47390.000000\n",
       "mean       3.080840\n",
       "std        1.860773\n",
       "min        1.000000\n",
       "25%        2.000000\n",
       "50%        3.000000\n",
       "75%        4.000000\n",
       "max       32.000000"
      ]
     },
     "execution_count": 10,
     "metadata": {},
     "output_type": "execute_result"
    }
   ],
   "source": [
    "df_ambientes.describe()"
   ]
  },
  {
   "cell_type": "code",
   "execution_count": 11,
   "metadata": {},
   "outputs": [
    {
     "name": "stdout",
     "output_type": "stream",
     "text": [
      "<class 'pandas.core.frame.DataFrame'>\n",
      "Int64Index: 121220 entries, 0 to 121219\n",
      "Data columns (total 4 columns):\n",
      "rooms            47390 non-null float64\n",
      "property_type    121220 non-null object\n",
      "description      121218 non-null object\n",
      "title            121220 non-null object\n",
      "dtypes: float64(1), object(3)\n",
      "memory usage: 4.6+ MB\n"
     ]
    }
   ],
   "source": [
    "df_ambientes.info();"
   ]
  },
  {
   "cell_type": "code",
   "execution_count": 12,
   "metadata": {},
   "outputs": [
    {
     "data": {
      "text/plain": [
       "rooms            73830\n",
       "property_type        0\n",
       "description          2\n",
       "title                0\n",
       "dtype: int64"
      ]
     },
     "execution_count": 12,
     "metadata": {},
     "output_type": "execute_result"
    }
   ],
   "source": [
    "df_ambientes.isnull().sum()"
   ]
  },
  {
   "cell_type": "markdown",
   "metadata": {},
   "source": [
    "* Limpieza de Datos"
   ]
  },
  {
   "cell_type": "code",
   "execution_count": 13,
   "metadata": {},
   "outputs": [
    {
     "data": {
      "text/plain": [
       "' Torre I Mondrian. 3 ambientes con terraza y dos baños al frente.Vitraux ofrece en el ultimo nivel, Piscina con Solarium, un espacio con Sala de Reunión para uso profesional, eventos o proyecciones con un amplio Foyer, Sauna, Gimnasio, un Salón de Usos Múltiples con cocina y una amplia expansión. Asimismo cuenta con un Hall en Doble altura y un amplio Estar que balconea al mismo en el primer piso.Así destaca la Excelente Relación de espacios de uso común sobre el metro propio, sobre todo en Studios que rondan los 30 metros propios y pueden gozar de todos los diferentes usos especiales.'"
      ]
     },
     "execution_count": 13,
     "metadata": {},
     "output_type": "execute_result"
    }
   ],
   "source": [
    "df_ambientes[(df_ambientes.property_type =='apartment') & (~df_ambientes.rooms.isnull())].iloc[0,2]"
   ]
  },
  {
   "cell_type": "code",
   "execution_count": 14,
   "metadata": {},
   "outputs": [],
   "source": [
    "df_ambientes_nulos=df_ambientes[df_ambientes.rooms.isnull()] ## Nos quedamos solo con los elementos nulos"
   ]
  },
  {
   "cell_type": "code",
   "execution_count": 15,
   "metadata": {},
   "outputs": [],
   "source": [
    "df_ambientes.description=df_ambientes.description.apply(parsear_numeros)## Reemplaza los números escritos en letras por los arábigos"
   ]
  },
  {
   "cell_type": "code",
   "execution_count": 16,
   "metadata": {},
   "outputs": [
    {
     "data": {
      "text/plain": [
       "rooms            21099\n",
       "property_type        0\n",
       "description          2\n",
       "title                0\n",
       "dtype: int64"
      ]
     },
     "execution_count": 16,
     "metadata": {},
     "output_type": "execute_result"
    }
   ],
   "source": [
    "df_ambientes = update(df_ambientes,'rooms',df_ambientes.description.apply(busqueda_por_texto))\n",
    "df_ambientes.isnull().sum()\n",
    "#df_ambientes_nulos.rooms.fillna(df_ambientes_nulos.description.apply(busqueda_por_texto),inplace=True)"
   ]
  },
  {
   "cell_type": "code",
   "execution_count": 17,
   "metadata": {},
   "outputs": [
    {
     "data": {
      "text/plain": [
       "rooms            14263\n",
       "property_type        0\n",
       "description          2\n",
       "title                0\n",
       "dtype: int64"
      ]
     },
     "execution_count": 17,
     "metadata": {},
     "output_type": "execute_result"
    }
   ],
   "source": [
    "df_ambientes = update(df_ambientes,'rooms',df_ambientes.description.apply(busqueda_ambientes))\n",
    "df_ambientes = update(df_ambientes,'rooms',df_ambientes.title.apply(busqueda_ambientes))\n",
    "#df_ambientes.rooms.fillna(df_ambientes.description.apply(busqueda_ambientes),inplace=True)\n",
    "#df_ambientes.rooms.fillna(df_ambientes.title.apply(busqueda_ambientes),inplace=True)\n",
    "## Rellena los Ambientes vacíos en base a la cantidad de ambientes dichas en la descripción\n",
    "df_ambientes.isnull().sum()"
   ]
  },
  {
   "cell_type": "code",
   "execution_count": 18,
   "metadata": {},
   "outputs": [
    {
     "data": {
      "text/plain": [
       "rooms            11985\n",
       "property_type        0\n",
       "description          2\n",
       "title                0\n",
       "dtype: int64"
      ]
     },
     "execution_count": 18,
     "metadata": {},
     "output_type": "execute_result"
    }
   ],
   "source": [
    "df_ambientes = update(df_ambientes,'rooms',df_ambientes.description.apply(busqueda_monoambientes))\n",
    "df_ambientes = update(df_ambientes,'rooms',df_ambientes.title.apply(busqueda_monoambientes))\n",
    "#df_ambientes.rooms.fillna(df_ambientes.description.apply(busqueda_monoambientes),inplace=True)\n",
    "#df_ambientes.rooms.fillna(df_ambientes.title.apply(busqueda_monoambientes),inplace=True)\n",
    "## Rellena los Ambientes vacíos en base a si es un monoambiente o no (presente en la descripción)\n",
    "df_ambientes.isnull().sum()"
   ]
  },
  {
   "cell_type": "code",
   "execution_count": 19,
   "metadata": {
    "scrolled": true
   },
   "outputs": [
    {
     "data": {
      "text/plain": [
       "rooms            11985\n",
       "property_type        0\n",
       "description          2\n",
       "title                0\n",
       "dtype: int64"
      ]
     },
     "execution_count": 19,
     "metadata": {},
     "output_type": "execute_result"
    }
   ],
   "source": [
    "df_ambientes.isnull().sum()"
   ]
  },
  {
   "cell_type": "code",
   "execution_count": 20,
   "metadata": {},
   "outputs": [],
   "source": [
    "df_ambientes.rooms = df_ambientes.rooms.apply(lambda x: 0 if np.isnan(x) else int(x))"
   ]
  },
  {
   "cell_type": "code",
   "execution_count": 21,
   "metadata": {
    "scrolled": false
   },
   "outputs": [
    {
     "data": {
      "text/plain": [
       "('apartment',\n",
       " 4,\n",
       " 'exclusivo  departamento de excelente categoria en venta en castelar160 mts2  cubiertos.  4 ambientes con balcón terraza, parrilla y cochera. entrega marzo 2018.el precio publicado corresponde al valor de contado  para las 1idades de primer y seg1do piso. financiacion: anticipo usd71.000, usd 105.000 a la escritura y el resto financiado en 36 cuotas (con refuerzos semestrales) valor financiado usd 380.940piso con palier privado con puerta de seguridad  y entrada de servicio. linving comedor , 3 dormitorios 1 de los cuales es en suite  con ducha escocesa, con vestidor. otros 2 dormitorios con placars  que comparten 1 baño completo con bañera.  pisos de madera en dormitorios y living comedor, pisos de porcelanato en pasillos y cocina. ventanas de aluminio con dvh (doble vidrio hermético) en todo el depto. cocina completa (con cocina vitroceramica, horno eléctrico, microondas, heladera con frezzer, cafetera express to2 marca bgh),  despensa y lavadero. toilete, balcón terraza con parrilla y cerramiento con parasoles de seguridad  corredizos de aluminio simil madera. aire acondicionado central, iluminación del depto. y de espacios com1es del edificio  con paneles fotovoltaicos. agua caliente provista por termotanques solares. instalación eléctrica inteligente con cámaras de seguridad incorporadas (domótica) este nove2o sistema de seguridad te permite ver las cámaras desde el celular o computadora, f1ciona con wifi permitiendo mover las cámaras dentro del depto. sin instalaciones complejas. las mismas tienen micrófono incorporado. posee 1a memoria  sd que graba más de 1 mes de filmación y se renueva automáticamente.el sistema de  electricidad con domótica te permite atender el portero sin estar en tu casa, suena en tu celular. podes encender y apagar los electrodoméstico , el aire acondicionado, la calefacción, etc.  desde el teléfono. baulera y cava para vinos individuales para cada 1idad f1cional.  cochera.el edificio cuenta con ascensor de seguridad con tarjeta magnética individual. sum de usos multiples con cocina, aire acondicionado central, baño y  terraza.diseño del edificio sustentable- edificado con  estructura de hormigón tradicional y cerramientos con nuevas tecnologías de construcción. (concrehaus o cassaforma) se trata de 1a tecnología muy dif1dida en el m1do que consiste  paneles de poliestireno expandido, malla de acero y concreto proyectado, que optimiza tiempos de producción, aportando 1 alto grado de aislación térmica y acústica, contribuyendo  a la reducción de consumo energético para acondicionamiento interior, con la consecuente disminución en el impacto ambiental y el beneficio de menores costos de habitabilidad. a su vez este material   por su condición monolítica, ofrece características sismo-resistentes y excelente durabilidad.no dude en consultar!! en cumplimiento de la ley 2340 cucicba, ley 10.973 de la prov.bs.as., ley nacional 25.028, ley 22.802 de lealtad comercial, ley 24.240 de defensa al consumidor, las normas del código civil y comercial de la nación y constitucionales, los agentes no ejercen el corretaje inmobiliario. todas las operaciones inmobiliarias son objeto de intermediación y conclusión por parte de los martilleros y corredores colegia2, cuyos datos se exhiben debajo del nombre de la inmobiliaria.',\n",
       " 'VENTA DE POZO- DEPTO 4 AMBIENTES- CASTELAR.')"
      ]
     },
     "execution_count": 21,
     "metadata": {},
     "output_type": "execute_result"
    }
   ],
   "source": [
    "x=24\n",
    "df_ambientes.iloc[x,1],df_ambientes.iloc[x,0],df_ambientes.iloc[x,2],df_ambientes.iloc[x,3]## Estado de los Ambientes al presente"
   ]
  },
  {
   "cell_type": "code",
   "execution_count": 22,
   "metadata": {},
   "outputs": [
    {
     "data": {
      "text/plain": [
       "'excelente departamento 2 ambientes contrafrente con balcon a pulmon de manzana.a solo media cuadra de la av. santa fe.living                   3,06 x 5,30 dormitorio          2,80 x 3,60     baño                     1,55 x 2,11     cocina                  1,60 x 3,13    balcon                  4,61 x 1 posee 2 aires acondiciona2 nuevos.terraza.total cubiertos: 35,66semi  3,56total: 39,22     aviso publicado por pixel inmobiliario (servicio de páginas web para inmobiliarias).'"
      ]
     },
     "execution_count": 22,
     "metadata": {},
     "output_type": "execute_result"
    }
   ],
   "source": [
    "df_ambientes.iloc[12,2]"
   ]
  },
  {
   "cell_type": "code",
   "execution_count": 82,
   "metadata": {},
   "outputs": [
    {
     "data": {
      "image/png": "[encoded data removed]",
      "text/plain": [
       "<Figure size 432x288 with 1 Axes>"
      ]
     },
     "metadata": {},
     "output_type": "display_data"
    }
   ],
   "source": [
    "def cust_mean(grp):\n",
    "    grp['mean'] = grp['option_value'].mean()\n",
    "    return grp\n",
    "\n",
    "#objects = ('Python', 'C++', 'Java', 'Perl', 'Scala', 'Lisp')\n",
    "#y_pos = np.arange(len(df_ambientes.property_type))\n",
    "\n",
    "df_ambientes_mean =df_ambientes.groupby('property_type').mean()\n",
    "property_type = list(set(df_ambientes.property_type))\n",
    "valores=list(df_ambientes_mean.rooms)\n",
    "\n",
    "index = np.arange(len(property_type))\n",
    "plt.bar(index, valores)\n",
    "plt.xlabel('Ambientes', fontsize=5)\n",
    "plt.ylabel('Tipo de Propiedad', fontsize=5)\n",
    "plt.xticks(index, property_type, fontsize=5, rotation=30)\n",
    "plt.title('Promedio de Ambientes por Tipo de Propiedad')\n",
    "plt.show()\n",
    "## Hay un problema en la data\n",
    "\n",
    "#plt.show()"
   ]
  },
  {
   "cell_type": "raw",
   "metadata": {},
   "source": []
  },
  {
   "cell_type": "code",
   "execution_count": 41,
   "metadata": {},
   "outputs": [
    {
     "data": {
      "image/png": "[encoded data removed]",
      "text/plain": [
       "<Figure size 864x216 with 4 Axes>"
      ]
     },
     "metadata": {},
     "output_type": "display_data"
    }
   ],
   "source": [
    "\n"
   ]
  },
  {
   "cell_type": "code",
   "execution_count": 24,
   "metadata": {},
   "outputs": [
    {
     "data": {
      "image/png": "[encoded data removed]",
      "text/plain": [
       "<Figure size 432x288 with 1 Axes>"
      ]
     },
     "metadata": {
      "needs_background": "light"
     },
     "output_type": "display_data"
    }
   ],
   "source": [
    "fig, ax = plt.subplots()\n",
    "ax.hist(df_ambientes.rooms,bins=range(11))\n",
    "ax.ticklabel_format(useOffset=False, style='plain')\n",
    "plt.show()\n",
    "\n"
   ]
  },
  {
   "cell_type": "code",
   "execution_count": 29,
   "metadata": {},
   "outputs": [
    {
     "data": {
      "image/png": "[encoded data removed]",
      "text/plain": [
       "<Figure size 864x216 with 4 Axes>"
      ]
     },
     "metadata": {},
     "output_type": "display_data"
    }
   ],
   "source": [
    "sns.set(style=\"ticks\", color_codes=True)\n",
    "g = sns.FacetGrid(df_ambientes, col=\"property_type\")\n",
    "g = g.map(plt.hist, \"rooms\",bins=range(11))"
   ]
  },
  {
   "cell_type": "code",
   "execution_count": null,
   "metadata": {},
   "outputs": [],
   "source": []
  }
 ],
 "metadata": {
  "kernelspec": {
   "display_name": "Python 3",
   "language": "python",
   "name": "python3"
  },
  "language_info": {
   "codemirror_mode": {
    "name": "ipython",
    "version": 3
   },
   "file_extension": ".py",
   "mimetype": "text/x-python",
   "name": "python",
   "nbconvert_exporter": "python",
   "pygments_lexer": "ipython3",
   "version": "3.7.3"
  }
 },
 "nbformat": 4,
 "nbformat_minor": 2
}
