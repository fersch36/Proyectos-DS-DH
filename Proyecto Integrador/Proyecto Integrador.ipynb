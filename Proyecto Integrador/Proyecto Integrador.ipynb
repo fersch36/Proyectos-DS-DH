{
 "cells": [
  {
   "cell_type": "code",
   "execution_count": 45,
   "metadata": {},
   "outputs": [],
   "source": [
    "import pandas as pd\n",
    "import numpy as np\n",
    "import matplotlib\n",
    "import matplotlib.pyplot as plt\n",
    "import matplotlib.dates as mdates\n",
    "import seaborn as sns\n",
    "import datetime as dt\n",
    "from sklearn.metrics import r2_score\n",
    "from sklearn.preprocessing import add_dummy_feature,OneHotEncoder\n",
    "from sklearn.tree import DecisionTreeRegressor\n",
    "from sklearn.model_selection import cross_val_score,train_test_split,GridSearchCV,StratifiedKFold\n",
    "from sklearn.linear_model import LinearRegression,Ridge,Lasso,ElasticNet\n",
    "from sklearn.pipeline import Pipeline\n",
    "%matplotlib inline"
   ]
  },
  {
   "cell_type": "code",
   "execution_count": 46,
   "metadata": {},
   "outputs": [],
   "source": [
    "from sklearn.base import (BaseEstimator,\n",
    "                          TransformerMixin,\n",
    "                          ClassifierMixin,\n",
    "                          RegressorMixin)"
   ]
  },
  {
   "cell_type": "code",
   "execution_count": 47,
   "metadata": {},
   "outputs": [],
   "source": [
    "def rendimiento(Model,X_train,X_test,y_train,y_test):\n",
    "    y_pred_train=Model.predict(X_train)\n",
    "    y_pred=Model.predict(X_test)\n",
    "    print('Best Estimator: ',Model.best_estimator_)\n",
    "    print('Train: ',r2_score(y_train,y_pred_train))\n",
    "    print('Test: ',r2_score(y_test,y_pred))"
   ]
  },
  {
   "cell_type": "code",
   "execution_count": 48,
   "metadata": {},
   "outputs": [],
   "source": [
    "#df_import = pd.read_csv('DS_Soccer_Players.csv',sep=';',decimal=',',thousands=\".\",encoding='utf-8')\n",
    "#df_import.to_csv('DS_Soccer_2.csv',index=False)\n",
    "df_import =pd.read_csv('DS_Soccer_2.csv')"
   ]
  },
  {
   "cell_type": "code",
   "execution_count": 49,
   "metadata": {},
   "outputs": [],
   "source": [
    "cv = StratifiedKFold(n_splits=5, random_state=41, shuffle=True)"
   ]
  },
  {
   "cell_type": "code",
   "execution_count": 18,
   "metadata": {},
   "outputs": [
    {
     "data": {
      "text/html": [
       "<div>\n",
       "<style scoped>\n",
       "    .dataframe tbody tr th:only-of-type {\n",
       "        vertical-align: middle;\n",
       "    }\n",
       "\n",
       "    .dataframe tbody tr th {\n",
       "        vertical-align: top;\n",
       "    }\n",
       "\n",
       "    .dataframe thead th {\n",
       "        text-align: right;\n",
       "    }\n",
       "</style>\n",
       "<table border=\"1\" class=\"dataframe\">\n",
       "  <thead>\n",
       "    <tr style=\"text-align: right;\">\n",
       "      <th></th>\n",
       "      <th>Name</th>\n",
       "      <th>Nationality</th>\n",
       "      <th>National_Position</th>\n",
       "      <th>National_Kit</th>\n",
       "      <th>Club</th>\n",
       "      <th>Club_Position</th>\n",
       "      <th>Club_Kit</th>\n",
       "      <th>Club_Joining</th>\n",
       "      <th>Contract_Expiry</th>\n",
       "      <th>Rating</th>\n",
       "      <th>...</th>\n",
       "      <th>Curve</th>\n",
       "      <th>Freekick_Accuracy</th>\n",
       "      <th>Penalties</th>\n",
       "      <th>Volleys</th>\n",
       "      <th>GK_Positioning</th>\n",
       "      <th>GK_Diving</th>\n",
       "      <th>GK_Kicking</th>\n",
       "      <th>GK_Handling</th>\n",
       "      <th>GK_Reflexes</th>\n",
       "      <th>market_value</th>\n",
       "    </tr>\n",
       "  </thead>\n",
       "  <tbody>\n",
       "    <tr>\n",
       "      <th>0</th>\n",
       "      <td>Cristiano Ronaldo</td>\n",
       "      <td>Portugal</td>\n",
       "      <td>LS</td>\n",
       "      <td>70.0</td>\n",
       "      <td>Real Madrid</td>\n",
       "      <td>LW</td>\n",
       "      <td>70</td>\n",
       "      <td>1/7/2009</td>\n",
       "      <td>20210</td>\n",
       "      <td>94</td>\n",
       "      <td>...</td>\n",
       "      <td>81</td>\n",
       "      <td>76</td>\n",
       "      <td>85</td>\n",
       "      <td>88</td>\n",
       "      <td>14</td>\n",
       "      <td>7</td>\n",
       "      <td>15</td>\n",
       "      <td>11</td>\n",
       "      <td>11</td>\n",
       "      <td>90000000.0</td>\n",
       "    </tr>\n",
       "    <tr>\n",
       "      <th>1</th>\n",
       "      <td>Lionel Messi</td>\n",
       "      <td>Argentina</td>\n",
       "      <td>RW</td>\n",
       "      <td>100.0</td>\n",
       "      <td>FC Barcelona</td>\n",
       "      <td>RW</td>\n",
       "      <td>100</td>\n",
       "      <td>1/7/2004</td>\n",
       "      <td>20180</td>\n",
       "      <td>93</td>\n",
       "      <td>...</td>\n",
       "      <td>89</td>\n",
       "      <td>90</td>\n",
       "      <td>74</td>\n",
       "      <td>85</td>\n",
       "      <td>14</td>\n",
       "      <td>6</td>\n",
       "      <td>15</td>\n",
       "      <td>11</td>\n",
       "      <td>8</td>\n",
       "      <td>150000000.0</td>\n",
       "    </tr>\n",
       "    <tr>\n",
       "      <th>2</th>\n",
       "      <td>Neymar</td>\n",
       "      <td>Brazil</td>\n",
       "      <td>LW</td>\n",
       "      <td>100.0</td>\n",
       "      <td>FC Barcelona</td>\n",
       "      <td>LW</td>\n",
       "      <td>110</td>\n",
       "      <td>1/7/2013</td>\n",
       "      <td>20210</td>\n",
       "      <td>92</td>\n",
       "      <td>...</td>\n",
       "      <td>79</td>\n",
       "      <td>84</td>\n",
       "      <td>81</td>\n",
       "      <td>83</td>\n",
       "      <td>15</td>\n",
       "      <td>9</td>\n",
       "      <td>15</td>\n",
       "      <td>9</td>\n",
       "      <td>11</td>\n",
       "      <td>180000000.0</td>\n",
       "    </tr>\n",
       "    <tr>\n",
       "      <th>3</th>\n",
       "      <td>Luis Suárez</td>\n",
       "      <td>Uruguay</td>\n",
       "      <td>LS</td>\n",
       "      <td>90.0</td>\n",
       "      <td>FC Barcelona</td>\n",
       "      <td>ST</td>\n",
       "      <td>90</td>\n",
       "      <td>11/7/2014</td>\n",
       "      <td>20210</td>\n",
       "      <td>92</td>\n",
       "      <td>...</td>\n",
       "      <td>86</td>\n",
       "      <td>84</td>\n",
       "      <td>85</td>\n",
       "      <td>88</td>\n",
       "      <td>33</td>\n",
       "      <td>27</td>\n",
       "      <td>31</td>\n",
       "      <td>25</td>\n",
       "      <td>37</td>\n",
       "      <td>50000000.0</td>\n",
       "    </tr>\n",
       "    <tr>\n",
       "      <th>4</th>\n",
       "      <td>Manuel Neuer</td>\n",
       "      <td>Germany</td>\n",
       "      <td>GK</td>\n",
       "      <td>10.0</td>\n",
       "      <td>FC Bayern</td>\n",
       "      <td>GK</td>\n",
       "      <td>10</td>\n",
       "      <td>1/7/2011</td>\n",
       "      <td>20210</td>\n",
       "      <td>92</td>\n",
       "      <td>...</td>\n",
       "      <td>14</td>\n",
       "      <td>11</td>\n",
       "      <td>47</td>\n",
       "      <td>11</td>\n",
       "      <td>91</td>\n",
       "      <td>89</td>\n",
       "      <td>95</td>\n",
       "      <td>90</td>\n",
       "      <td>89</td>\n",
       "      <td>92000000.0</td>\n",
       "    </tr>\n",
       "  </tbody>\n",
       "</table>\n",
       "<p>5 rows × 54 columns</p>\n",
       "</div>"
      ],
      "text/plain": [
       "                Name Nationality National_Position  National_Kit  \\\n",
       "0  Cristiano Ronaldo    Portugal                LS          70.0   \n",
       "1       Lionel Messi   Argentina                RW         100.0   \n",
       "2             Neymar      Brazil                LW         100.0   \n",
       "3        Luis Suárez     Uruguay                LS          90.0   \n",
       "4       Manuel Neuer     Germany                GK          10.0   \n",
       "\n",
       "           Club Club_Position  Club_Kit Club_Joining  Contract_Expiry  Rating  \\\n",
       "0   Real Madrid            LW        70     1/7/2009            20210      94   \n",
       "1  FC Barcelona            RW       100     1/7/2004            20180      93   \n",
       "2  FC Barcelona            LW       110     1/7/2013            20210      92   \n",
       "3  FC Barcelona            ST        90    11/7/2014            20210      92   \n",
       "4     FC Bayern            GK        10     1/7/2011            20210      92   \n",
       "\n",
       "   ... Curve Freekick_Accuracy Penalties Volleys  GK_Positioning GK_Diving  \\\n",
       "0  ...    81                76        85      88              14         7   \n",
       "1  ...    89                90        74      85              14         6   \n",
       "2  ...    79                84        81      83              15         9   \n",
       "3  ...    86                84        85      88              33        27   \n",
       "4  ...    14                11        47      11              91        89   \n",
       "\n",
       "  GK_Kicking  GK_Handling  GK_Reflexes  market_value  \n",
       "0         15           11           11    90000000.0  \n",
       "1         15           11            8   150000000.0  \n",
       "2         15            9           11   180000000.0  \n",
       "3         31           25           37    50000000.0  \n",
       "4         95           90           89    92000000.0  \n",
       "\n",
       "[5 rows x 54 columns]"
      ]
     },
     "execution_count": 18,
     "metadata": {},
     "output_type": "execute_result"
    }
   ],
   "source": [
    "df_import.head()"
   ]
  },
  {
   "cell_type": "code",
   "execution_count": 19,
   "metadata": {},
   "outputs": [],
   "source": [
    "target = df_import['market_value']\n",
    "data = df_import.drop(columns=['market_value'])"
   ]
  },
  {
   "cell_type": "code",
   "execution_count": 20,
   "metadata": {},
   "outputs": [],
   "source": [
    "X_train,X_test,y_train,y_test=train_test_split(data,target,random_state=12345)"
   ]
  },
  {
   "cell_type": "code",
   "execution_count": 21,
   "metadata": {},
   "outputs": [
    {
     "data": {
      "text/plain": [
       "(3614, 53)"
      ]
     },
     "execution_count": 21,
     "metadata": {},
     "output_type": "execute_result"
    }
   ],
   "source": [
    "X_test.shape"
   ]
  },
  {
   "cell_type": "code",
   "execution_count": 22,
   "metadata": {},
   "outputs": [
    {
     "ename": "NameError",
     "evalue": "name 'FutbolDataProcessor' is not defined",
     "output_type": "error",
     "traceback": [
      "\u001b[1;31m---------------------------------------------------------------------------\u001b[0m",
      "\u001b[1;31mNameError\u001b[0m                                 Traceback (most recent call last)",
      "\u001b[1;32m<ipython-input-22-254f1a8d3ba2>\u001b[0m in \u001b[0;36m<module>\u001b[1;34m\u001b[0m\n\u001b[1;32m----> 1\u001b[1;33m \u001b[0mpipe\u001b[0m\u001b[1;33m=\u001b[0m\u001b[0mPipeline\u001b[0m\u001b[1;33m(\u001b[0m\u001b[1;33m[\u001b[0m\u001b[1;33m(\u001b[0m\u001b[1;34m'Processor'\u001b[0m\u001b[1;33m,\u001b[0m\u001b[0mFutbolDataProcessor\u001b[0m\u001b[1;33m(\u001b[0m\u001b[1;33m)\u001b[0m\u001b[1;33m)\u001b[0m\u001b[1;33m,\u001b[0m\u001b[1;33m(\u001b[0m\u001b[1;34m'OneHotEnconder'\u001b[0m\u001b[1;33m,\u001b[0m\u001b[0mOneHotEncoder\u001b[0m\u001b[1;33m(\u001b[0m\u001b[1;33m)\u001b[0m\u001b[1;33m)\u001b[0m\u001b[1;33m,\u001b[0m\u001b[1;33m(\u001b[0m\u001b[1;34m'Lin'\u001b[0m\u001b[1;33m,\u001b[0m\u001b[0mLinearRegression\u001b[0m\u001b[1;33m(\u001b[0m\u001b[1;33m)\u001b[0m\u001b[1;33m)\u001b[0m\u001b[1;33m]\u001b[0m\u001b[1;33m,\u001b[0m\u001b[0mmemory\u001b[0m\u001b[1;33m=\u001b[0m\u001b[1;32mNone\u001b[0m\u001b[1;33m,\u001b[0m\u001b[0mverbose\u001b[0m\u001b[1;33m=\u001b[0m\u001b[1;32mTrue\u001b[0m\u001b[1;33m)\u001b[0m\u001b[1;33m\u001b[0m\u001b[1;33m\u001b[0m\u001b[0m\n\u001b[0m\u001b[0;32m      2\u001b[0m \u001b[0mpipe\u001b[0m\u001b[1;33m.\u001b[0m\u001b[0mfit\u001b[0m\u001b[1;33m(\u001b[0m\u001b[0mX_train\u001b[0m\u001b[1;33m,\u001b[0m\u001b[0my_train\u001b[0m\u001b[1;33m)\u001b[0m\u001b[1;33m\u001b[0m\u001b[1;33m\u001b[0m\u001b[0m\n",
      "\u001b[1;31mNameError\u001b[0m: name 'FutbolDataProcessor' is not defined"
     ]
    }
   ],
   "source": [
    "pipe=Pipeline([('Processor',FutbolDataProcessor()),('OneHotEnconder',OneHotEncoder()),('Lin',LinearRegression())],memory=None,verbose=True)\n",
    "pipe.fit(X_train,y_train)"
   ]
  },
  {
   "cell_type": "code",
   "execution_count": 23,
   "metadata": {},
   "outputs": [
    {
     "ename": "NameError",
     "evalue": "name 'pipe' is not defined",
     "output_type": "error",
     "traceback": [
      "\u001b[1;31m---------------------------------------------------------------------------\u001b[0m",
      "\u001b[1;31mNameError\u001b[0m                                 Traceback (most recent call last)",
      "\u001b[1;32m<ipython-input-23-27d7947f0ac7>\u001b[0m in \u001b[0;36m<module>\u001b[1;34m\u001b[0m\n\u001b[1;32m----> 1\u001b[1;33m \u001b[0mpipe\u001b[0m\u001b[1;33m.\u001b[0m\u001b[0mscore\u001b[0m\u001b[1;33m(\u001b[0m\u001b[0mX_test\u001b[0m\u001b[1;33m,\u001b[0m\u001b[0my_test\u001b[0m\u001b[1;33m)\u001b[0m\u001b[1;33m\u001b[0m\u001b[1;33m\u001b[0m\u001b[0m\n\u001b[0m",
      "\u001b[1;31mNameError\u001b[0m: name 'pipe' is not defined"
     ]
    }
   ],
   "source": [
    "pipe.score(X_test,y_test)"
   ]
  },
  {
   "cell_type": "code",
   "execution_count": 24,
   "metadata": {},
   "outputs": [
    {
     "ename": "NameError",
     "evalue": "name 'pipe' is not defined",
     "output_type": "error",
     "traceback": [
      "\u001b[1;31m---------------------------------------------------------------------------\u001b[0m",
      "\u001b[1;31mNameError\u001b[0m                                 Traceback (most recent call last)",
      "\u001b[1;32m<ipython-input-24-41cd73bc6b13>\u001b[0m in \u001b[0;36m<module>\u001b[1;34m\u001b[0m\n\u001b[1;32m----> 1\u001b[1;33m \u001b[0my_pred\u001b[0m\u001b[1;33m=\u001b[0m\u001b[0mpipe\u001b[0m\u001b[1;33m.\u001b[0m\u001b[0mpredict\u001b[0m\u001b[1;33m(\u001b[0m\u001b[0mX_test\u001b[0m\u001b[1;33m)\u001b[0m\u001b[1;33m\u001b[0m\u001b[1;33m\u001b[0m\u001b[0m\n\u001b[0m\u001b[0;32m      2\u001b[0m \u001b[0my_pred\u001b[0m\u001b[1;33m.\u001b[0m\u001b[0mshape\u001b[0m\u001b[1;33m\u001b[0m\u001b[1;33m\u001b[0m\u001b[0m\n",
      "\u001b[1;31mNameError\u001b[0m: name 'pipe' is not defined"
     ]
    }
   ],
   "source": [
    "y_pred=pipe.predict(X_test)\n",
    "y_pred.shape"
   ]
  },
  {
   "cell_type": "code",
   "execution_count": 17,
   "metadata": {},
   "outputs": [
    {
     "ename": "NameError",
     "evalue": "name 'FutbolDataProcessor' is not defined",
     "output_type": "error",
     "traceback": [
      "\u001b[1;31m---------------------------------------------------------------------------\u001b[0m",
      "\u001b[1;31mNameError\u001b[0m                                 Traceback (most recent call last)",
      "\u001b[1;32m<ipython-input-17-842765f62c4f>\u001b[0m in \u001b[0;36m<module>\u001b[1;34m\u001b[0m\n\u001b[1;32m----> 1\u001b[1;33m \u001b[0mprocessor\u001b[0m\u001b[1;33m=\u001b[0m\u001b[0mFutbolDataProcessor\u001b[0m\u001b[1;33m(\u001b[0m\u001b[1;33m)\u001b[0m\u001b[1;33m\u001b[0m\u001b[1;33m\u001b[0m\u001b[0m\n\u001b[0m\u001b[0;32m      2\u001b[0m \u001b[0mdf\u001b[0m\u001b[1;33m=\u001b[0m\u001b[0mprocessor\u001b[0m\u001b[1;33m.\u001b[0m\u001b[0mfit_transform\u001b[0m\u001b[1;33m(\u001b[0m\u001b[0mdf_import\u001b[0m\u001b[1;33m)\u001b[0m\u001b[1;33m\u001b[0m\u001b[1;33m\u001b[0m\u001b[0m\n\u001b[0;32m      3\u001b[0m \u001b[0mdf\u001b[0m\u001b[1;33m.\u001b[0m\u001b[0mhead\u001b[0m\u001b[1;33m(\u001b[0m\u001b[1;33m)\u001b[0m\u001b[1;33m\u001b[0m\u001b[1;33m\u001b[0m\u001b[0m\n",
      "\u001b[1;31mNameError\u001b[0m: name 'FutbolDataProcessor' is not defined"
     ]
    }
   ],
   "source": [
    "processor=FutbolDataProcessor()\n",
    "df=processor.fit_transform(df_import)\n",
    "df.head()"
   ]
  },
  {
   "cell_type": "markdown",
   "metadata": {},
   "source": [
    "Los clubes ---> agrupar porque ligas son parte, \"Liga buena, liga mala\"\n",
    "Club grande y otros."
   ]
  },
  {
   "cell_type": "code",
   "execution_count": 25,
   "metadata": {},
   "outputs": [
    {
     "ename": "NameError",
     "evalue": "name 'df' is not defined",
     "output_type": "error",
     "traceback": [
      "\u001b[1;31m---------------------------------------------------------------------------\u001b[0m",
      "\u001b[1;31mNameError\u001b[0m                                 Traceback (most recent call last)",
      "\u001b[1;32m<ipython-input-25-e5452aaa0f42>\u001b[0m in \u001b[0;36m<module>\u001b[1;34m\u001b[0m\n\u001b[1;32m----> 1\u001b[1;33m \u001b[0mmylist\u001b[0m \u001b[1;33m=\u001b[0m \u001b[0mlist\u001b[0m\u001b[1;33m(\u001b[0m\u001b[0mdf\u001b[0m\u001b[1;33m.\u001b[0m\u001b[0mselect_dtypes\u001b[0m\u001b[1;33m(\u001b[0m\u001b[0minclude\u001b[0m\u001b[1;33m=\u001b[0m\u001b[1;33m[\u001b[0m\u001b[1;34m'object'\u001b[0m\u001b[1;33m]\u001b[0m\u001b[1;33m)\u001b[0m\u001b[1;33m.\u001b[0m\u001b[0mcolumns\u001b[0m\u001b[1;33m)\u001b[0m\u001b[1;33m\u001b[0m\u001b[1;33m\u001b[0m\u001b[0m\n\u001b[0m\u001b[0;32m      2\u001b[0m \u001b[0mmylist\u001b[0m\u001b[1;33m\u001b[0m\u001b[1;33m\u001b[0m\u001b[0m\n",
      "\u001b[1;31mNameError\u001b[0m: name 'df' is not defined"
     ]
    }
   ],
   "source": [
    "mylist = list(df.select_dtypes(include=['object']).columns)\n",
    "mylist"
   ]
  },
  {
   "cell_type": "code",
   "execution_count": 26,
   "metadata": {},
   "outputs": [
    {
     "ename": "NameError",
     "evalue": "name 'df' is not defined",
     "output_type": "error",
     "traceback": [
      "\u001b[1;31m---------------------------------------------------------------------------\u001b[0m",
      "\u001b[1;31mNameError\u001b[0m                                 Traceback (most recent call last)",
      "\u001b[1;32m<ipython-input-26-4f4408922025>\u001b[0m in \u001b[0;36m<module>\u001b[1;34m\u001b[0m\n\u001b[1;32m----> 1\u001b[1;33m \u001b[0mdf\u001b[0m\u001b[1;33m.\u001b[0m\u001b[0mto_csv\u001b[0m\u001b[1;33m(\u001b[0m\u001b[1;34m'data_procesada.csv'\u001b[0m\u001b[1;33m)\u001b[0m\u001b[1;33m\u001b[0m\u001b[1;33m\u001b[0m\u001b[0m\n\u001b[0m",
      "\u001b[1;31mNameError\u001b[0m: name 'df' is not defined"
     ]
    }
   ],
   "source": [
    "df.to_csv('data_procesada.csv')"
   ]
  },
  {
   "cell_type": "code",
   "execution_count": 27,
   "metadata": {},
   "outputs": [
    {
     "ename": "NameError",
     "evalue": "name 'df' is not defined",
     "output_type": "error",
     "traceback": [
      "\u001b[1;31m---------------------------------------------------------------------------\u001b[0m",
      "\u001b[1;31mNameError\u001b[0m                                 Traceback (most recent call last)",
      "\u001b[1;32m<ipython-input-27-be40887f365e>\u001b[0m in \u001b[0;36m<module>\u001b[1;34m\u001b[0m\n\u001b[1;32m----> 1\u001b[1;33m \u001b[0mmylist\u001b[0m \u001b[1;33m=\u001b[0m \u001b[0mlist\u001b[0m\u001b[1;33m(\u001b[0m\u001b[0mdf\u001b[0m\u001b[1;33m.\u001b[0m\u001b[0mselect_dtypes\u001b[0m\u001b[1;33m(\u001b[0m\u001b[0minclude\u001b[0m\u001b[1;33m=\u001b[0m\u001b[1;33m[\u001b[0m\u001b[1;34m'datetime64'\u001b[0m\u001b[1;33m]\u001b[0m\u001b[1;33m)\u001b[0m\u001b[1;33m.\u001b[0m\u001b[0mcolumns\u001b[0m\u001b[1;33m)\u001b[0m\u001b[1;33m\u001b[0m\u001b[1;33m\u001b[0m\u001b[0m\n\u001b[0m\u001b[0;32m      2\u001b[0m \u001b[0mmylist\u001b[0m\u001b[1;33m\u001b[0m\u001b[1;33m\u001b[0m\u001b[0m\n",
      "\u001b[1;31mNameError\u001b[0m: name 'df' is not defined"
     ]
    }
   ],
   "source": [
    "mylist = list(df.select_dtypes(include=['datetime64']).columns)\n",
    "mylist"
   ]
  },
  {
   "cell_type": "markdown",
   "metadata": {},
   "source": [
    "Tiramos Preffered Position porque son demasiadas categorias.\n",
    "Tiramos Club porque son demasiadas categorias."
   ]
  },
  {
   "cell_type": "markdown",
   "metadata": {},
   "source": [
    "# Hay jugadores que no juegan en la seleccion nacional"
   ]
  },
  {
   "cell_type": "code",
   "execution_count": 29,
   "metadata": {},
   "outputs": [
    {
     "ename": "NameError",
     "evalue": "name 'df' is not defined",
     "output_type": "error",
     "traceback": [
      "\u001b[1;31m---------------------------------------------------------------------------\u001b[0m",
      "\u001b[1;31mNameError\u001b[0m                                 Traceback (most recent call last)",
      "\u001b[1;32m<ipython-input-29-003445993a94>\u001b[0m in \u001b[0;36m<module>\u001b[1;34m\u001b[0m\n\u001b[1;32m----> 1\u001b[1;33m \u001b[0mdf_corr\u001b[0m\u001b[1;33m=\u001b[0m\u001b[0mdf\u001b[0m\u001b[1;33m.\u001b[0m\u001b[0mcorr\u001b[0m\u001b[1;33m(\u001b[0m\u001b[1;33m)\u001b[0m\u001b[1;33m\u001b[0m\u001b[1;33m\u001b[0m\u001b[0m\n\u001b[0m\u001b[0;32m      2\u001b[0m \u001b[0msns\u001b[0m\u001b[1;33m.\u001b[0m\u001b[0mheatmap\u001b[0m\u001b[1;33m(\u001b[0m\u001b[0mdf_corr\u001b[0m\u001b[1;33m)\u001b[0m\u001b[1;33m\u001b[0m\u001b[1;33m\u001b[0m\u001b[0m\n",
      "\u001b[1;31mNameError\u001b[0m: name 'df' is not defined"
     ]
    }
   ],
   "source": [
    "df_corr=df.corr()\n",
    "sns.heatmap(df_corr)"
   ]
  },
  {
   "cell_type": "markdown",
   "metadata": {},
   "source": [
    "# Vemos que las variables que mas parecerian tener influencia en que tan bueno es el jugador no es que tan buen control tiene de la pelota, sino habilidades que tienen. Esto demuestra que el futbol es un juego de equipo."
   ]
  },
  {
   "cell_type": "code",
   "execution_count": 30,
   "metadata": {},
   "outputs": [
    {
     "ename": "NameError",
     "evalue": "name 'df_corr' is not defined",
     "output_type": "error",
     "traceback": [
      "\u001b[1;31m---------------------------------------------------------------------------\u001b[0m",
      "\u001b[1;31mNameError\u001b[0m                                 Traceback (most recent call last)",
      "\u001b[1;32m<ipython-input-30-2a58f67c93b4>\u001b[0m in \u001b[0;36m<module>\u001b[1;34m\u001b[0m\n\u001b[1;32m----> 1\u001b[1;33m \u001b[0mdf_corr\u001b[0m\u001b[1;33m.\u001b[0m\u001b[0mRating\u001b[0m\u001b[1;33m.\u001b[0m\u001b[0msort_values\u001b[0m\u001b[1;33m(\u001b[0m\u001b[0mascending\u001b[0m\u001b[1;33m=\u001b[0m\u001b[1;32mFalse\u001b[0m\u001b[1;33m)\u001b[0m\u001b[1;33m[\u001b[0m\u001b[1;36m1\u001b[0m\u001b[1;33m:\u001b[0m\u001b[1;33m]\u001b[0m\u001b[1;33m\u001b[0m\u001b[1;33m\u001b[0m\u001b[0m\n\u001b[0m",
      "\u001b[1;31mNameError\u001b[0m: name 'df_corr' is not defined"
     ]
    }
   ],
   "source": [
    "df_corr.Rating.sort_values(ascending=False)[1:]"
   ]
  },
  {
   "cell_type": "code",
   "execution_count": 31,
   "metadata": {},
   "outputs": [
    {
     "ename": "NameError",
     "evalue": "name 'df_corr' is not defined",
     "output_type": "error",
     "traceback": [
      "\u001b[1;31m---------------------------------------------------------------------------\u001b[0m",
      "\u001b[1;31mNameError\u001b[0m                                 Traceback (most recent call last)",
      "\u001b[1;32m<ipython-input-31-4b9f1b4a7d18>\u001b[0m in \u001b[0;36m<module>\u001b[1;34m\u001b[0m\n\u001b[1;32m----> 1\u001b[1;33m \u001b[0mpd\u001b[0m\u001b[1;33m.\u001b[0m\u001b[0mDataFrame\u001b[0m\u001b[1;33m(\u001b[0m\u001b[0mdf_corr\u001b[0m\u001b[1;33m.\u001b[0m\u001b[0mmarket_value\u001b[0m\u001b[1;33m.\u001b[0m\u001b[0msort_values\u001b[0m\u001b[1;33m(\u001b[0m\u001b[0mascending\u001b[0m\u001b[1;33m=\u001b[0m\u001b[1;32mFalse\u001b[0m\u001b[1;33m)\u001b[0m\u001b[1;33m)\u001b[0m\u001b[1;33m.\u001b[0m\u001b[0mto_csv\u001b[0m\u001b[1;33m(\u001b[0m\u001b[1;34m'Correlacion_Market_Value.csv'\u001b[0m\u001b[1;33m)\u001b[0m\u001b[1;33m\u001b[0m\u001b[1;33m\u001b[0m\u001b[0m\n\u001b[0m",
      "\u001b[1;31mNameError\u001b[0m: name 'df_corr' is not defined"
     ]
    }
   ],
   "source": [
    "pd.DataFrame(df_corr.market_value.sort_values(ascending=False)).to_csv('Correlacion_Market_Value.csv')"
   ]
  },
  {
   "cell_type": "code",
   "execution_count": 32,
   "metadata": {},
   "outputs": [
    {
     "ename": "NameError",
     "evalue": "name 'df' is not defined",
     "output_type": "error",
     "traceback": [
      "\u001b[1;31m---------------------------------------------------------------------------\u001b[0m",
      "\u001b[1;31mNameError\u001b[0m                                 Traceback (most recent call last)",
      "\u001b[1;32m<ipython-input-32-e2fa3cd68107>\u001b[0m in \u001b[0;36m<module>\u001b[1;34m\u001b[0m\n\u001b[1;32m----> 1\u001b[1;33m \u001b[0mtarget\u001b[0m \u001b[1;33m=\u001b[0m \u001b[0mdf\u001b[0m\u001b[1;33m[\u001b[0m\u001b[1;34m'market_value'\u001b[0m\u001b[1;33m]\u001b[0m\u001b[1;33m\u001b[0m\u001b[1;33m\u001b[0m\u001b[0m\n\u001b[0m\u001b[0;32m      2\u001b[0m \u001b[0mdata\u001b[0m \u001b[1;33m=\u001b[0m \u001b[0mdf\u001b[0m\u001b[1;33m.\u001b[0m\u001b[0mdrop\u001b[0m\u001b[1;33m(\u001b[0m\u001b[0mcolumns\u001b[0m\u001b[1;33m=\u001b[0m\u001b[1;33m[\u001b[0m\u001b[1;34m'market_value'\u001b[0m\u001b[1;33m]\u001b[0m\u001b[1;33m)\u001b[0m\u001b[1;33m\u001b[0m\u001b[1;33m\u001b[0m\u001b[0m\n",
      "\u001b[1;31mNameError\u001b[0m: name 'df' is not defined"
     ]
    }
   ],
   "source": [
    "target = df['market_value']\n",
    "data = df.drop(columns=['market_value'])"
   ]
  },
  {
   "cell_type": "code",
   "execution_count": 33,
   "metadata": {},
   "outputs": [],
   "source": [
    "X_train,X_test,y_train,y_test=train_test_split(data,target,random_state=12345)"
   ]
  },
  {
   "cell_type": "markdown",
   "metadata": {},
   "source": [
    "<h1> Modelos Lineales </h1>"
   ]
  },
  {
   "cell_type": "markdown",
   "metadata": {},
   "source": [
    "<h5> Lineal </h5>"
   ]
  },
  {
   "cell_type": "code",
   "execution_count": 34,
   "metadata": {},
   "outputs": [
    {
     "name": "stdout",
     "output_type": "stream",
     "text": [
      "Fitting 5 folds for each of 2 candidates, totalling 10 fits\n"
     ]
    },
    {
     "name": "stderr",
     "output_type": "stream",
     "text": [
      "C:\\Users\\zelru\\Anaconda3\\lib\\site-packages\\sklearn\\model_selection\\_split.py:657: Warning: The least populated class in y has only 1 members, which is too few. The minimum number of members in any class cannot be less than n_splits=5.\n",
      "  % (min_groups, self.n_splits)), Warning)\n",
      "[Parallel(n_jobs=-1)]: Using backend LokyBackend with 8 concurrent workers.\n",
      "[Parallel(n_jobs=-1)]: Done   6 out of  10 | elapsed:    4.9s remaining:    3.2s\n"
     ]
    },
    {
     "ename": "ValueError",
     "evalue": "could not convert string to float: 'Daniel CongrÃ©'",
     "output_type": "error",
     "traceback": [
      "\u001b[1;31m---------------------------------------------------------------------------\u001b[0m",
      "\u001b[1;31m_RemoteTraceback\u001b[0m                          Traceback (most recent call last)",
      "\u001b[1;31m_RemoteTraceback\u001b[0m: \n\"\"\"\nTraceback (most recent call last):\n  File \"C:\\Users\\zelru\\Anaconda3\\lib\\site-packages\\joblib\\externals\\loky\\process_executor.py\", line 418, in _process_worker\n    r = call_item()\n  File \"C:\\Users\\zelru\\Anaconda3\\lib\\site-packages\\joblib\\externals\\loky\\process_executor.py\", line 272, in __call__\n    return self.fn(*self.args, **self.kwargs)\n  File \"C:\\Users\\zelru\\Anaconda3\\lib\\site-packages\\joblib\\_parallel_backends.py\", line 567, in __call__\n    return self.func(*args, **kwargs)\n  File \"C:\\Users\\zelru\\Anaconda3\\lib\\site-packages\\joblib\\parallel.py\", line 225, in __call__\n    for func, args, kwargs in self.items]\n  File \"C:\\Users\\zelru\\Anaconda3\\lib\\site-packages\\joblib\\parallel.py\", line 225, in <listcomp>\n    for func, args, kwargs in self.items]\n  File \"C:\\Users\\zelru\\Anaconda3\\lib\\site-packages\\sklearn\\model_selection\\_validation.py\", line 514, in _fit_and_score\n    estimator.fit(X_train, y_train, **fit_params)\n  File \"C:\\Users\\zelru\\Anaconda3\\lib\\site-packages\\sklearn\\linear_model\\base.py\", line 463, in fit\n    y_numeric=True, multi_output=True)\n  File \"C:\\Users\\zelru\\Anaconda3\\lib\\site-packages\\sklearn\\utils\\validation.py\", line 719, in check_X_y\n    estimator=estimator)\n  File \"C:\\Users\\zelru\\Anaconda3\\lib\\site-packages\\sklearn\\utils\\validation.py\", line 536, in check_array\n    array = array.astype(np.float64)\nValueError: could not convert string to float: 'Daniel CongrÃ©'\n\"\"\"",
      "\nThe above exception was the direct cause of the following exception:\n",
      "\u001b[1;31mValueError\u001b[0m                                Traceback (most recent call last)",
      "\u001b[1;32m<ipython-input-34-10218f4dfe46>\u001b[0m in \u001b[0;36m<module>\u001b[1;34m\u001b[0m\n\u001b[0;32m      1\u001b[0m \u001b[0mparam_Lineal\u001b[0m \u001b[1;33m=\u001b[0m \u001b[1;33m{\u001b[0m\u001b[1;34m'fit_intercept'\u001b[0m\u001b[1;33m:\u001b[0m \u001b[1;33m[\u001b[0m\u001b[1;32mFalse\u001b[0m\u001b[1;33m,\u001b[0m\u001b[1;32mTrue\u001b[0m\u001b[1;33m]\u001b[0m\u001b[1;33m}\u001b[0m\u001b[1;33m\u001b[0m\u001b[1;33m\u001b[0m\u001b[0m\n\u001b[0;32m      2\u001b[0m \u001b[0mLineal\u001b[0m \u001b[1;33m=\u001b[0m \u001b[0mGridSearchCV\u001b[0m\u001b[1;33m(\u001b[0m\u001b[0mLinearRegression\u001b[0m\u001b[1;33m(\u001b[0m\u001b[1;33m)\u001b[0m\u001b[1;33m,\u001b[0m \u001b[0mparam_grid\u001b[0m\u001b[1;33m=\u001b[0m\u001b[0mparam_Lineal\u001b[0m\u001b[1;33m,\u001b[0m \u001b[0mcv\u001b[0m\u001b[1;33m=\u001b[0m\u001b[0mcv\u001b[0m\u001b[1;33m,\u001b[0m \u001b[0mverbose\u001b[0m\u001b[1;33m=\u001b[0m\u001b[1;36m1\u001b[0m\u001b[1;33m,\u001b[0m \u001b[0mn_jobs\u001b[0m\u001b[1;33m=\u001b[0m\u001b[1;33m-\u001b[0m\u001b[1;36m1\u001b[0m\u001b[1;33m)\u001b[0m\u001b[1;33m\u001b[0m\u001b[1;33m\u001b[0m\u001b[0m\n\u001b[1;32m----> 3\u001b[1;33m \u001b[0mLineal\u001b[0m\u001b[1;33m.\u001b[0m\u001b[0mfit\u001b[0m\u001b[1;33m(\u001b[0m\u001b[0mX_train\u001b[0m\u001b[1;33m,\u001b[0m\u001b[0my_train\u001b[0m\u001b[1;33m)\u001b[0m\u001b[1;33m\u001b[0m\u001b[1;33m\u001b[0m\u001b[0m\n\u001b[0m",
      "\u001b[1;32m~\\Anaconda3\\lib\\site-packages\\sklearn\\model_selection\\_search.py\u001b[0m in \u001b[0;36mfit\u001b[1;34m(self, X, y, groups, **fit_params)\u001b[0m\n\u001b[0;32m    685\u001b[0m                 \u001b[1;32mreturn\u001b[0m \u001b[0mresults\u001b[0m\u001b[1;33m\u001b[0m\u001b[1;33m\u001b[0m\u001b[0m\n\u001b[0;32m    686\u001b[0m \u001b[1;33m\u001b[0m\u001b[0m\n\u001b[1;32m--> 687\u001b[1;33m             \u001b[0mself\u001b[0m\u001b[1;33m.\u001b[0m\u001b[0m_run_search\u001b[0m\u001b[1;33m(\u001b[0m\u001b[0mevaluate_candidates\u001b[0m\u001b[1;33m)\u001b[0m\u001b[1;33m\u001b[0m\u001b[1;33m\u001b[0m\u001b[0m\n\u001b[0m\u001b[0;32m    688\u001b[0m \u001b[1;33m\u001b[0m\u001b[0m\n\u001b[0;32m    689\u001b[0m         \u001b[1;31m# For multi-metric evaluation, store the best_index_, best_params_ and\u001b[0m\u001b[1;33m\u001b[0m\u001b[1;33m\u001b[0m\u001b[1;33m\u001b[0m\u001b[0m\n",
      "\u001b[1;32m~\\Anaconda3\\lib\\site-packages\\sklearn\\model_selection\\_search.py\u001b[0m in \u001b[0;36m_run_search\u001b[1;34m(self, evaluate_candidates)\u001b[0m\n\u001b[0;32m   1146\u001b[0m     \u001b[1;32mdef\u001b[0m \u001b[0m_run_search\u001b[0m\u001b[1;33m(\u001b[0m\u001b[0mself\u001b[0m\u001b[1;33m,\u001b[0m \u001b[0mevaluate_candidates\u001b[0m\u001b[1;33m)\u001b[0m\u001b[1;33m:\u001b[0m\u001b[1;33m\u001b[0m\u001b[1;33m\u001b[0m\u001b[0m\n\u001b[0;32m   1147\u001b[0m         \u001b[1;34m\"\"\"Search all candidates in param_grid\"\"\"\u001b[0m\u001b[1;33m\u001b[0m\u001b[1;33m\u001b[0m\u001b[0m\n\u001b[1;32m-> 1148\u001b[1;33m         \u001b[0mevaluate_candidates\u001b[0m\u001b[1;33m(\u001b[0m\u001b[0mParameterGrid\u001b[0m\u001b[1;33m(\u001b[0m\u001b[0mself\u001b[0m\u001b[1;33m.\u001b[0m\u001b[0mparam_grid\u001b[0m\u001b[1;33m)\u001b[0m\u001b[1;33m)\u001b[0m\u001b[1;33m\u001b[0m\u001b[1;33m\u001b[0m\u001b[0m\n\u001b[0m\u001b[0;32m   1149\u001b[0m \u001b[1;33m\u001b[0m\u001b[0m\n\u001b[0;32m   1150\u001b[0m \u001b[1;33m\u001b[0m\u001b[0m\n",
      "\u001b[1;32m~\\Anaconda3\\lib\\site-packages\\sklearn\\model_selection\\_search.py\u001b[0m in \u001b[0;36mevaluate_candidates\u001b[1;34m(candidate_params)\u001b[0m\n\u001b[0;32m    664\u001b[0m                                \u001b[1;32mfor\u001b[0m \u001b[0mparameters\u001b[0m\u001b[1;33m,\u001b[0m \u001b[1;33m(\u001b[0m\u001b[0mtrain\u001b[0m\u001b[1;33m,\u001b[0m \u001b[0mtest\u001b[0m\u001b[1;33m)\u001b[0m\u001b[1;33m\u001b[0m\u001b[1;33m\u001b[0m\u001b[0m\n\u001b[0;32m    665\u001b[0m                                in product(candidate_params,\n\u001b[1;32m--> 666\u001b[1;33m                                           cv.split(X, y, groups)))\n\u001b[0m\u001b[0;32m    667\u001b[0m \u001b[1;33m\u001b[0m\u001b[0m\n\u001b[0;32m    668\u001b[0m                 \u001b[1;32mif\u001b[0m \u001b[0mlen\u001b[0m\u001b[1;33m(\u001b[0m\u001b[0mout\u001b[0m\u001b[1;33m)\u001b[0m \u001b[1;33m<\u001b[0m \u001b[1;36m1\u001b[0m\u001b[1;33m:\u001b[0m\u001b[1;33m\u001b[0m\u001b[1;33m\u001b[0m\u001b[0m\n",
      "\u001b[1;32m~\\Anaconda3\\lib\\site-packages\\joblib\\parallel.py\u001b[0m in \u001b[0;36m__call__\u001b[1;34m(self, iterable)\u001b[0m\n\u001b[0;32m    932\u001b[0m \u001b[1;33m\u001b[0m\u001b[0m\n\u001b[0;32m    933\u001b[0m             \u001b[1;32mwith\u001b[0m \u001b[0mself\u001b[0m\u001b[1;33m.\u001b[0m\u001b[0m_backend\u001b[0m\u001b[1;33m.\u001b[0m\u001b[0mretrieval_context\u001b[0m\u001b[1;33m(\u001b[0m\u001b[1;33m)\u001b[0m\u001b[1;33m:\u001b[0m\u001b[1;33m\u001b[0m\u001b[1;33m\u001b[0m\u001b[0m\n\u001b[1;32m--> 934\u001b[1;33m                 \u001b[0mself\u001b[0m\u001b[1;33m.\u001b[0m\u001b[0mretrieve\u001b[0m\u001b[1;33m(\u001b[0m\u001b[1;33m)\u001b[0m\u001b[1;33m\u001b[0m\u001b[1;33m\u001b[0m\u001b[0m\n\u001b[0m\u001b[0;32m    935\u001b[0m             \u001b[1;31m# Make sure that we get a last message telling us we are done\u001b[0m\u001b[1;33m\u001b[0m\u001b[1;33m\u001b[0m\u001b[1;33m\u001b[0m\u001b[0m\n\u001b[0;32m    936\u001b[0m             \u001b[0melapsed_time\u001b[0m \u001b[1;33m=\u001b[0m \u001b[0mtime\u001b[0m\u001b[1;33m.\u001b[0m\u001b[0mtime\u001b[0m\u001b[1;33m(\u001b[0m\u001b[1;33m)\u001b[0m \u001b[1;33m-\u001b[0m \u001b[0mself\u001b[0m\u001b[1;33m.\u001b[0m\u001b[0m_start_time\u001b[0m\u001b[1;33m\u001b[0m\u001b[1;33m\u001b[0m\u001b[0m\n",
      "\u001b[1;32m~\\Anaconda3\\lib\\site-packages\\joblib\\parallel.py\u001b[0m in \u001b[0;36mretrieve\u001b[1;34m(self)\u001b[0m\n\u001b[0;32m    831\u001b[0m             \u001b[1;32mtry\u001b[0m\u001b[1;33m:\u001b[0m\u001b[1;33m\u001b[0m\u001b[1;33m\u001b[0m\u001b[0m\n\u001b[0;32m    832\u001b[0m                 \u001b[1;32mif\u001b[0m \u001b[0mgetattr\u001b[0m\u001b[1;33m(\u001b[0m\u001b[0mself\u001b[0m\u001b[1;33m.\u001b[0m\u001b[0m_backend\u001b[0m\u001b[1;33m,\u001b[0m \u001b[1;34m'supports_timeout'\u001b[0m\u001b[1;33m,\u001b[0m \u001b[1;32mFalse\u001b[0m\u001b[1;33m)\u001b[0m\u001b[1;33m:\u001b[0m\u001b[1;33m\u001b[0m\u001b[1;33m\u001b[0m\u001b[0m\n\u001b[1;32m--> 833\u001b[1;33m                     \u001b[0mself\u001b[0m\u001b[1;33m.\u001b[0m\u001b[0m_output\u001b[0m\u001b[1;33m.\u001b[0m\u001b[0mextend\u001b[0m\u001b[1;33m(\u001b[0m\u001b[0mjob\u001b[0m\u001b[1;33m.\u001b[0m\u001b[0mget\u001b[0m\u001b[1;33m(\u001b[0m\u001b[0mtimeout\u001b[0m\u001b[1;33m=\u001b[0m\u001b[0mself\u001b[0m\u001b[1;33m.\u001b[0m\u001b[0mtimeout\u001b[0m\u001b[1;33m)\u001b[0m\u001b[1;33m)\u001b[0m\u001b[1;33m\u001b[0m\u001b[1;33m\u001b[0m\u001b[0m\n\u001b[0m\u001b[0;32m    834\u001b[0m                 \u001b[1;32melse\u001b[0m\u001b[1;33m:\u001b[0m\u001b[1;33m\u001b[0m\u001b[1;33m\u001b[0m\u001b[0m\n\u001b[0;32m    835\u001b[0m                     \u001b[0mself\u001b[0m\u001b[1;33m.\u001b[0m\u001b[0m_output\u001b[0m\u001b[1;33m.\u001b[0m\u001b[0mextend\u001b[0m\u001b[1;33m(\u001b[0m\u001b[0mjob\u001b[0m\u001b[1;33m.\u001b[0m\u001b[0mget\u001b[0m\u001b[1;33m(\u001b[0m\u001b[1;33m)\u001b[0m\u001b[1;33m)\u001b[0m\u001b[1;33m\u001b[0m\u001b[1;33m\u001b[0m\u001b[0m\n",
      "\u001b[1;32m~\\Anaconda3\\lib\\site-packages\\joblib\\_parallel_backends.py\u001b[0m in \u001b[0;36mwrap_future_result\u001b[1;34m(future, timeout)\u001b[0m\n\u001b[0;32m    519\u001b[0m         AsyncResults.get from multiprocessing.\"\"\"\n\u001b[0;32m    520\u001b[0m         \u001b[1;32mtry\u001b[0m\u001b[1;33m:\u001b[0m\u001b[1;33m\u001b[0m\u001b[1;33m\u001b[0m\u001b[0m\n\u001b[1;32m--> 521\u001b[1;33m             \u001b[1;32mreturn\u001b[0m \u001b[0mfuture\u001b[0m\u001b[1;33m.\u001b[0m\u001b[0mresult\u001b[0m\u001b[1;33m(\u001b[0m\u001b[0mtimeout\u001b[0m\u001b[1;33m=\u001b[0m\u001b[0mtimeout\u001b[0m\u001b[1;33m)\u001b[0m\u001b[1;33m\u001b[0m\u001b[1;33m\u001b[0m\u001b[0m\n\u001b[0m\u001b[0;32m    522\u001b[0m         \u001b[1;32mexcept\u001b[0m \u001b[0mLokyTimeoutError\u001b[0m\u001b[1;33m:\u001b[0m\u001b[1;33m\u001b[0m\u001b[1;33m\u001b[0m\u001b[0m\n\u001b[0;32m    523\u001b[0m             \u001b[1;32mraise\u001b[0m \u001b[0mTimeoutError\u001b[0m\u001b[1;33m(\u001b[0m\u001b[1;33m)\u001b[0m\u001b[1;33m\u001b[0m\u001b[1;33m\u001b[0m\u001b[0m\n",
      "\u001b[1;32m~\\Anaconda3\\lib\\concurrent\\futures\\_base.py\u001b[0m in \u001b[0;36mresult\u001b[1;34m(self, timeout)\u001b[0m\n\u001b[0;32m    430\u001b[0m                 \u001b[1;32mraise\u001b[0m \u001b[0mCancelledError\u001b[0m\u001b[1;33m(\u001b[0m\u001b[1;33m)\u001b[0m\u001b[1;33m\u001b[0m\u001b[1;33m\u001b[0m\u001b[0m\n\u001b[0;32m    431\u001b[0m             \u001b[1;32melif\u001b[0m \u001b[0mself\u001b[0m\u001b[1;33m.\u001b[0m\u001b[0m_state\u001b[0m \u001b[1;33m==\u001b[0m \u001b[0mFINISHED\u001b[0m\u001b[1;33m:\u001b[0m\u001b[1;33m\u001b[0m\u001b[1;33m\u001b[0m\u001b[0m\n\u001b[1;32m--> 432\u001b[1;33m                 \u001b[1;32mreturn\u001b[0m \u001b[0mself\u001b[0m\u001b[1;33m.\u001b[0m\u001b[0m__get_result\u001b[0m\u001b[1;33m(\u001b[0m\u001b[1;33m)\u001b[0m\u001b[1;33m\u001b[0m\u001b[1;33m\u001b[0m\u001b[0m\n\u001b[0m\u001b[0;32m    433\u001b[0m             \u001b[1;32melse\u001b[0m\u001b[1;33m:\u001b[0m\u001b[1;33m\u001b[0m\u001b[1;33m\u001b[0m\u001b[0m\n\u001b[0;32m    434\u001b[0m                 \u001b[1;32mraise\u001b[0m \u001b[0mTimeoutError\u001b[0m\u001b[1;33m(\u001b[0m\u001b[1;33m)\u001b[0m\u001b[1;33m\u001b[0m\u001b[1;33m\u001b[0m\u001b[0m\n",
      "\u001b[1;32m~\\Anaconda3\\lib\\concurrent\\futures\\_base.py\u001b[0m in \u001b[0;36m__get_result\u001b[1;34m(self)\u001b[0m\n\u001b[0;32m    382\u001b[0m     \u001b[1;32mdef\u001b[0m \u001b[0m__get_result\u001b[0m\u001b[1;33m(\u001b[0m\u001b[0mself\u001b[0m\u001b[1;33m)\u001b[0m\u001b[1;33m:\u001b[0m\u001b[1;33m\u001b[0m\u001b[1;33m\u001b[0m\u001b[0m\n\u001b[0;32m    383\u001b[0m         \u001b[1;32mif\u001b[0m \u001b[0mself\u001b[0m\u001b[1;33m.\u001b[0m\u001b[0m_exception\u001b[0m\u001b[1;33m:\u001b[0m\u001b[1;33m\u001b[0m\u001b[1;33m\u001b[0m\u001b[0m\n\u001b[1;32m--> 384\u001b[1;33m             \u001b[1;32mraise\u001b[0m \u001b[0mself\u001b[0m\u001b[1;33m.\u001b[0m\u001b[0m_exception\u001b[0m\u001b[1;33m\u001b[0m\u001b[1;33m\u001b[0m\u001b[0m\n\u001b[0m\u001b[0;32m    385\u001b[0m         \u001b[1;32melse\u001b[0m\u001b[1;33m:\u001b[0m\u001b[1;33m\u001b[0m\u001b[1;33m\u001b[0m\u001b[0m\n\u001b[0;32m    386\u001b[0m             \u001b[1;32mreturn\u001b[0m \u001b[0mself\u001b[0m\u001b[1;33m.\u001b[0m\u001b[0m_result\u001b[0m\u001b[1;33m\u001b[0m\u001b[1;33m\u001b[0m\u001b[0m\n",
      "\u001b[1;31mValueError\u001b[0m: could not convert string to float: 'Daniel CongrÃ©'"
     ]
    }
   ],
   "source": [
    "param_Lineal = {'fit_intercept': [False,True]}\n",
    "Lineal = GridSearchCV(LinearRegression(), param_grid=param_Lineal, cv=cv, verbose=1, n_jobs=-1)\n",
    "Lineal.fit(X_train,y_train)"
   ]
  },
  {
   "cell_type": "code",
   "execution_count": null,
   "metadata": {},
   "outputs": [],
   "source": [
    "rendimiento(Lineal,X_train,X_test,y_train,y_test)"
   ]
  },
  {
   "cell_type": "markdown",
   "metadata": {},
   "source": [
    "<h5> Ridge </h5>"
   ]
  },
  {
   "cell_type": "code",
   "execution_count": null,
   "metadata": {},
   "outputs": [],
   "source": [
    "param_Ridge =  {\"max_iter\": [1, 5, 10], \"alpha\": [0.0001, 0.001, 0.01, 0.1, 1, 10, 100],'fit_intercept': [False,True]}\n",
    "Ridge = GridSearchCV(Ridge(), param_grid=param_Ridge, cv=cv, verbose=1, n_jobs=-1)\n",
    "Ridge.fit(X_train,y_train)"
   ]
  },
  {
   "cell_type": "code",
   "execution_count": null,
   "metadata": {},
   "outputs": [],
   "source": [
    "rendimiento(Ridge,X_train,X_test,y_train,y_test)"
   ]
  },
  {
   "cell_type": "code",
   "execution_count": null,
   "metadata": {},
   "outputs": [],
   "source": [
    "param_Lasso =  {\"max_iter\": [1, 5, 10],\n",
    "                      \"alpha\": [0.0001, 0.001, 0.01, 0.1, 1, 10, 100],\n",
    "                      'fit_intercept': [False,True]}\n",
    "Model_Lasso = GridSearchCV(Lasso(), param_grid=param_Lasso, cv=cv, verbose=1, n_jobs=-1)\n",
    "Model_Lasso.fit(X_train,y_train)"
   ]
  },
  {
   "cell_type": "code",
   "execution_count": null,
   "metadata": {},
   "outputs": [],
   "source": [
    "rendimiento(Model_Lasso,X_train,X_test,y_train,y_test)"
   ]
  },
  {
   "cell_type": "code",
   "execution_count": null,
   "metadata": {},
   "outputs": [],
   "source": [
    "l=Lasso(alpha=100, copy_X=True, fit_intercept=True, max_iter=5, normalize=False,\n",
    "      positive=False, precompute=False, random_state=None, selection='cyclic',\n",
    "      tol=0.0001, warm_start=False)\n",
    "l.fit(X_train,y_train)\n"
   ]
  },
  {
   "cell_type": "code",
   "execution_count": null,
   "metadata": {},
   "outputs": [],
   "source": [
    "l.coef_"
   ]
  },
  {
   "cell_type": "markdown",
   "metadata": {},
   "source": [
    "<h5> Elastic Search </h5>"
   ]
  },
  {
   "cell_type": "code",
   "execution_count": null,
   "metadata": {},
   "outputs": [],
   "source": [
    "param_Elastic_Net = {\"max_iter\": [1, 5, 10],\n",
    "                      \"alpha\": [0.0001, 0.001, 0.01, 0.1, 1, 10, 100],\n",
    "                      \"l1_ratio\": np.arange(0.0, 1.0, 0.1)}\n",
    "Model_Elastic_Net = GridSearchCV(ElasticNet(), param_grid=param_Elastic_Net, cv=cv, verbose=1, n_jobs=-1)\n",
    "Model_Elastic_Net.fit(X_train,y_train)"
   ]
  },
  {
   "cell_type": "code",
   "execution_count": null,
   "metadata": {},
   "outputs": [],
   "source": [
    "rendimiento(Model_Elastic_Net,X_train,X_test,y_train,y_test)"
   ]
  },
  {
   "cell_type": "markdown",
   "metadata": {},
   "source": [
    "# Arboles de Desicion"
   ]
  },
  {
   "cell_type": "code",
   "execution_count": null,
   "metadata": {},
   "outputs": [],
   "source": [
    "\n",
    "treereg = DecisionTreeRegressor(random_state=1)\n",
    "treereg.fit(X_train, y_train)"
   ]
  },
  {
   "cell_type": "code",
   "execution_count": null,
   "metadata": {},
   "outputs": [],
   "source": [
    "# Predecir los precios del set de prueba\n",
    "\n",
    "preds_train = treereg.predict(X_train)\n",
    "print('Train:',r2_score(y_train, preds_train))\n",
    "preds = treereg.predict(X_test)\n",
    "print('Test:',r2_score(y_test, preds))\n"
   ]
  },
  {
   "cell_type": "code",
   "execution_count": null,
   "metadata": {},
   "outputs": [],
   "source": [
    "# Mostrar los valores predichos y reales en un gráfico\n",
    "plt.figure(figsize=(5,5))\n",
    "plt.scatter(preds, y_test);"
   ]
  },
  {
   "cell_type": "code",
   "execution_count": null,
   "metadata": {},
   "outputs": [],
   "source": [
    "plt.figure(figsize=(5,5))\n",
    "plt.scatter(preds_train, y_train);"
   ]
  },
  {
   "cell_type": "code",
   "execution_count": null,
   "metadata": {},
   "outputs": [],
   "source": []
  },
  {
   "cell_type": "code",
   "execution_count": null,
   "metadata": {},
   "outputs": [],
   "source": []
  },
  {
   "cell_type": "code",
   "execution_count": null,
   "metadata": {},
   "outputs": [],
   "source": [
    "pd.DataFrame({'atributo':data.columns, 'importancia':treereg.feature_importances_}).sort_values('importancia', ascending = False)"
   ]
  },
  {
   "cell_type": "code",
   "execution_count": 35,
   "metadata": {},
   "outputs": [
    {
     "name": "stderr",
     "output_type": "stream",
     "text": [
      "C:\\Users\\zelru\\Anaconda3\\lib\\site-packages\\sklearn\\model_selection\\_validation.py:528: FutureWarning: From version 0.22, errors during fit will result in a cross validation score of NaN by default. Use error_score='raise' if you want an exception raised or error_score=np.nan to adopt the behavior from version 0.22.\n",
      "  FutureWarning)\n"
     ]
    },
    {
     "ename": "ValueError",
     "evalue": "could not convert string to float: 'Collantes'",
     "output_type": "error",
     "traceback": [
      "\u001b[1;31m---------------------------------------------------------------------------\u001b[0m",
      "\u001b[1;31mValueError\u001b[0m                                Traceback (most recent call last)",
      "\u001b[1;32m<ipython-input-35-79f2e615fa46>\u001b[0m in \u001b[0;36m<module>\u001b[1;34m\u001b[0m\n\u001b[0;32m      4\u001b[0m \u001b[1;32mfor\u001b[0m \u001b[0mi\u001b[0m \u001b[1;32min\u001b[0m \u001b[0mrange\u001b[0m\u001b[1;33m(\u001b[0m\u001b[1;36m1\u001b[0m\u001b[1;33m,\u001b[0m \u001b[1;36m11\u001b[0m\u001b[1;33m)\u001b[0m\u001b[1;33m:\u001b[0m\u001b[1;33m\u001b[0m\u001b[1;33m\u001b[0m\u001b[0m\n\u001b[0;32m      5\u001b[0m     \u001b[0mtreereg\u001b[0m \u001b[1;33m=\u001b[0m \u001b[0mDecisionTreeRegressor\u001b[0m\u001b[1;33m(\u001b[0m\u001b[0mmax_depth\u001b[0m\u001b[1;33m=\u001b[0m\u001b[0mi\u001b[0m\u001b[1;33m,\u001b[0m \u001b[0mrandom_state\u001b[0m\u001b[1;33m=\u001b[0m\u001b[1;36m1\u001b[0m\u001b[1;33m)\u001b[0m\u001b[1;33m\u001b[0m\u001b[1;33m\u001b[0m\u001b[0m\n\u001b[1;32m----> 6\u001b[1;33m     \u001b[0mscores\u001b[0m \u001b[1;33m=\u001b[0m \u001b[0mcross_val_score\u001b[0m\u001b[1;33m(\u001b[0m\u001b[0mtreereg\u001b[0m\u001b[1;33m,\u001b[0m \u001b[0mX_train\u001b[0m\u001b[1;33m,\u001b[0m \u001b[0my_train\u001b[0m\u001b[1;33m,\u001b[0m \u001b[0mcv\u001b[0m\u001b[1;33m=\u001b[0m\u001b[1;36m3\u001b[0m\u001b[1;33m,\u001b[0m \u001b[0mscoring\u001b[0m\u001b[1;33m=\u001b[0m\u001b[1;34m'neg_mean_squared_error'\u001b[0m\u001b[1;33m)\u001b[0m\u001b[1;33m\u001b[0m\u001b[1;33m\u001b[0m\u001b[0m\n\u001b[0m\u001b[0;32m      7\u001b[0m     \u001b[0mcurrent_score\u001b[0m \u001b[1;33m=\u001b[0m \u001b[0mnp\u001b[0m\u001b[1;33m.\u001b[0m\u001b[0mmean\u001b[0m\u001b[1;33m(\u001b[0m\u001b[0mnp\u001b[0m\u001b[1;33m.\u001b[0m\u001b[0msqrt\u001b[0m\u001b[1;33m(\u001b[0m\u001b[1;33m-\u001b[0m\u001b[0mscores\u001b[0m\u001b[1;33m)\u001b[0m\u001b[1;33m)\u001b[0m\u001b[1;33m\u001b[0m\u001b[1;33m\u001b[0m\u001b[0m\n\u001b[0;32m      8\u001b[0m     \u001b[1;31m# Selecciona el mejor comparando con el mejor hasta ahora.\u001b[0m\u001b[1;33m\u001b[0m\u001b[1;33m\u001b[0m\u001b[1;33m\u001b[0m\u001b[0m\n",
      "\u001b[1;32m~\\Anaconda3\\lib\\site-packages\\sklearn\\model_selection\\_validation.py\u001b[0m in \u001b[0;36mcross_val_score\u001b[1;34m(estimator, X, y, groups, scoring, cv, n_jobs, verbose, fit_params, pre_dispatch, error_score)\u001b[0m\n\u001b[0;32m    387\u001b[0m                                 \u001b[0mfit_params\u001b[0m\u001b[1;33m=\u001b[0m\u001b[0mfit_params\u001b[0m\u001b[1;33m,\u001b[0m\u001b[1;33m\u001b[0m\u001b[1;33m\u001b[0m\u001b[0m\n\u001b[0;32m    388\u001b[0m                                 \u001b[0mpre_dispatch\u001b[0m\u001b[1;33m=\u001b[0m\u001b[0mpre_dispatch\u001b[0m\u001b[1;33m,\u001b[0m\u001b[1;33m\u001b[0m\u001b[1;33m\u001b[0m\u001b[0m\n\u001b[1;32m--> 389\u001b[1;33m                                 error_score=error_score)\n\u001b[0m\u001b[0;32m    390\u001b[0m     \u001b[1;32mreturn\u001b[0m \u001b[0mcv_results\u001b[0m\u001b[1;33m[\u001b[0m\u001b[1;34m'test_score'\u001b[0m\u001b[1;33m]\u001b[0m\u001b[1;33m\u001b[0m\u001b[1;33m\u001b[0m\u001b[0m\n\u001b[0;32m    391\u001b[0m \u001b[1;33m\u001b[0m\u001b[0m\n",
      "\u001b[1;32m~\\Anaconda3\\lib\\site-packages\\sklearn\\model_selection\\_validation.py\u001b[0m in \u001b[0;36mcross_validate\u001b[1;34m(estimator, X, y, groups, scoring, cv, n_jobs, verbose, fit_params, pre_dispatch, return_train_score, return_estimator, error_score)\u001b[0m\n\u001b[0;32m    229\u001b[0m             \u001b[0mreturn_times\u001b[0m\u001b[1;33m=\u001b[0m\u001b[1;32mTrue\u001b[0m\u001b[1;33m,\u001b[0m \u001b[0mreturn_estimator\u001b[0m\u001b[1;33m=\u001b[0m\u001b[0mreturn_estimator\u001b[0m\u001b[1;33m,\u001b[0m\u001b[1;33m\u001b[0m\u001b[1;33m\u001b[0m\u001b[0m\n\u001b[0;32m    230\u001b[0m             error_score=error_score)\n\u001b[1;32m--> 231\u001b[1;33m         for train, test in cv.split(X, y, groups))\n\u001b[0m\u001b[0;32m    232\u001b[0m \u001b[1;33m\u001b[0m\u001b[0m\n\u001b[0;32m    233\u001b[0m     \u001b[0mzipped_scores\u001b[0m \u001b[1;33m=\u001b[0m \u001b[0mlist\u001b[0m\u001b[1;33m(\u001b[0m\u001b[0mzip\u001b[0m\u001b[1;33m(\u001b[0m\u001b[1;33m*\u001b[0m\u001b[0mscores\u001b[0m\u001b[1;33m)\u001b[0m\u001b[1;33m)\u001b[0m\u001b[1;33m\u001b[0m\u001b[1;33m\u001b[0m\u001b[0m\n",
      "\u001b[1;32m~\\Anaconda3\\lib\\site-packages\\joblib\\parallel.py\u001b[0m in \u001b[0;36m__call__\u001b[1;34m(self, iterable)\u001b[0m\n\u001b[0;32m    919\u001b[0m             \u001b[1;31m# remaining jobs.\u001b[0m\u001b[1;33m\u001b[0m\u001b[1;33m\u001b[0m\u001b[1;33m\u001b[0m\u001b[0m\n\u001b[0;32m    920\u001b[0m             \u001b[0mself\u001b[0m\u001b[1;33m.\u001b[0m\u001b[0m_iterating\u001b[0m \u001b[1;33m=\u001b[0m \u001b[1;32mFalse\u001b[0m\u001b[1;33m\u001b[0m\u001b[1;33m\u001b[0m\u001b[0m\n\u001b[1;32m--> 921\u001b[1;33m             \u001b[1;32mif\u001b[0m \u001b[0mself\u001b[0m\u001b[1;33m.\u001b[0m\u001b[0mdispatch_one_batch\u001b[0m\u001b[1;33m(\u001b[0m\u001b[0miterator\u001b[0m\u001b[1;33m)\u001b[0m\u001b[1;33m:\u001b[0m\u001b[1;33m\u001b[0m\u001b[1;33m\u001b[0m\u001b[0m\n\u001b[0m\u001b[0;32m    922\u001b[0m                 \u001b[0mself\u001b[0m\u001b[1;33m.\u001b[0m\u001b[0m_iterating\u001b[0m \u001b[1;33m=\u001b[0m \u001b[0mself\u001b[0m\u001b[1;33m.\u001b[0m\u001b[0m_original_iterator\u001b[0m \u001b[1;32mis\u001b[0m \u001b[1;32mnot\u001b[0m \u001b[1;32mNone\u001b[0m\u001b[1;33m\u001b[0m\u001b[1;33m\u001b[0m\u001b[0m\n\u001b[0;32m    923\u001b[0m \u001b[1;33m\u001b[0m\u001b[0m\n",
      "\u001b[1;32m~\\Anaconda3\\lib\\site-packages\\joblib\\parallel.py\u001b[0m in \u001b[0;36mdispatch_one_batch\u001b[1;34m(self, iterator)\u001b[0m\n\u001b[0;32m    757\u001b[0m                 \u001b[1;32mreturn\u001b[0m \u001b[1;32mFalse\u001b[0m\u001b[1;33m\u001b[0m\u001b[1;33m\u001b[0m\u001b[0m\n\u001b[0;32m    758\u001b[0m             \u001b[1;32melse\u001b[0m\u001b[1;33m:\u001b[0m\u001b[1;33m\u001b[0m\u001b[1;33m\u001b[0m\u001b[0m\n\u001b[1;32m--> 759\u001b[1;33m                 \u001b[0mself\u001b[0m\u001b[1;33m.\u001b[0m\u001b[0m_dispatch\u001b[0m\u001b[1;33m(\u001b[0m\u001b[0mtasks\u001b[0m\u001b[1;33m)\u001b[0m\u001b[1;33m\u001b[0m\u001b[1;33m\u001b[0m\u001b[0m\n\u001b[0m\u001b[0;32m    760\u001b[0m                 \u001b[1;32mreturn\u001b[0m \u001b[1;32mTrue\u001b[0m\u001b[1;33m\u001b[0m\u001b[1;33m\u001b[0m\u001b[0m\n\u001b[0;32m    761\u001b[0m \u001b[1;33m\u001b[0m\u001b[0m\n",
      "\u001b[1;32m~\\Anaconda3\\lib\\site-packages\\joblib\\parallel.py\u001b[0m in \u001b[0;36m_dispatch\u001b[1;34m(self, batch)\u001b[0m\n\u001b[0;32m    714\u001b[0m         \u001b[1;32mwith\u001b[0m \u001b[0mself\u001b[0m\u001b[1;33m.\u001b[0m\u001b[0m_lock\u001b[0m\u001b[1;33m:\u001b[0m\u001b[1;33m\u001b[0m\u001b[1;33m\u001b[0m\u001b[0m\n\u001b[0;32m    715\u001b[0m             \u001b[0mjob_idx\u001b[0m \u001b[1;33m=\u001b[0m \u001b[0mlen\u001b[0m\u001b[1;33m(\u001b[0m\u001b[0mself\u001b[0m\u001b[1;33m.\u001b[0m\u001b[0m_jobs\u001b[0m\u001b[1;33m)\u001b[0m\u001b[1;33m\u001b[0m\u001b[1;33m\u001b[0m\u001b[0m\n\u001b[1;32m--> 716\u001b[1;33m             \u001b[0mjob\u001b[0m \u001b[1;33m=\u001b[0m \u001b[0mself\u001b[0m\u001b[1;33m.\u001b[0m\u001b[0m_backend\u001b[0m\u001b[1;33m.\u001b[0m\u001b[0mapply_async\u001b[0m\u001b[1;33m(\u001b[0m\u001b[0mbatch\u001b[0m\u001b[1;33m,\u001b[0m \u001b[0mcallback\u001b[0m\u001b[1;33m=\u001b[0m\u001b[0mcb\u001b[0m\u001b[1;33m)\u001b[0m\u001b[1;33m\u001b[0m\u001b[1;33m\u001b[0m\u001b[0m\n\u001b[0m\u001b[0;32m    717\u001b[0m             \u001b[1;31m# A job can complete so quickly than its callback is\u001b[0m\u001b[1;33m\u001b[0m\u001b[1;33m\u001b[0m\u001b[1;33m\u001b[0m\u001b[0m\n\u001b[0;32m    718\u001b[0m             \u001b[1;31m# called before we get here, causing self._jobs to\u001b[0m\u001b[1;33m\u001b[0m\u001b[1;33m\u001b[0m\u001b[1;33m\u001b[0m\u001b[0m\n",
      "\u001b[1;32m~\\Anaconda3\\lib\\site-packages\\joblib\\_parallel_backends.py\u001b[0m in \u001b[0;36mapply_async\u001b[1;34m(self, func, callback)\u001b[0m\n\u001b[0;32m    180\u001b[0m     \u001b[1;32mdef\u001b[0m \u001b[0mapply_async\u001b[0m\u001b[1;33m(\u001b[0m\u001b[0mself\u001b[0m\u001b[1;33m,\u001b[0m \u001b[0mfunc\u001b[0m\u001b[1;33m,\u001b[0m \u001b[0mcallback\u001b[0m\u001b[1;33m=\u001b[0m\u001b[1;32mNone\u001b[0m\u001b[1;33m)\u001b[0m\u001b[1;33m:\u001b[0m\u001b[1;33m\u001b[0m\u001b[1;33m\u001b[0m\u001b[0m\n\u001b[0;32m    181\u001b[0m         \u001b[1;34m\"\"\"Schedule a func to be run\"\"\"\u001b[0m\u001b[1;33m\u001b[0m\u001b[1;33m\u001b[0m\u001b[0m\n\u001b[1;32m--> 182\u001b[1;33m         \u001b[0mresult\u001b[0m \u001b[1;33m=\u001b[0m \u001b[0mImmediateResult\u001b[0m\u001b[1;33m(\u001b[0m\u001b[0mfunc\u001b[0m\u001b[1;33m)\u001b[0m\u001b[1;33m\u001b[0m\u001b[1;33m\u001b[0m\u001b[0m\n\u001b[0m\u001b[0;32m    183\u001b[0m         \u001b[1;32mif\u001b[0m \u001b[0mcallback\u001b[0m\u001b[1;33m:\u001b[0m\u001b[1;33m\u001b[0m\u001b[1;33m\u001b[0m\u001b[0m\n\u001b[0;32m    184\u001b[0m             \u001b[0mcallback\u001b[0m\u001b[1;33m(\u001b[0m\u001b[0mresult\u001b[0m\u001b[1;33m)\u001b[0m\u001b[1;33m\u001b[0m\u001b[1;33m\u001b[0m\u001b[0m\n",
      "\u001b[1;32m~\\Anaconda3\\lib\\site-packages\\joblib\\_parallel_backends.py\u001b[0m in \u001b[0;36m__init__\u001b[1;34m(self, batch)\u001b[0m\n\u001b[0;32m    547\u001b[0m         \u001b[1;31m# Don't delay the application, to avoid keeping the input\u001b[0m\u001b[1;33m\u001b[0m\u001b[1;33m\u001b[0m\u001b[1;33m\u001b[0m\u001b[0m\n\u001b[0;32m    548\u001b[0m         \u001b[1;31m# arguments in memory\u001b[0m\u001b[1;33m\u001b[0m\u001b[1;33m\u001b[0m\u001b[1;33m\u001b[0m\u001b[0m\n\u001b[1;32m--> 549\u001b[1;33m         \u001b[0mself\u001b[0m\u001b[1;33m.\u001b[0m\u001b[0mresults\u001b[0m \u001b[1;33m=\u001b[0m \u001b[0mbatch\u001b[0m\u001b[1;33m(\u001b[0m\u001b[1;33m)\u001b[0m\u001b[1;33m\u001b[0m\u001b[1;33m\u001b[0m\u001b[0m\n\u001b[0m\u001b[0;32m    550\u001b[0m \u001b[1;33m\u001b[0m\u001b[0m\n\u001b[0;32m    551\u001b[0m     \u001b[1;32mdef\u001b[0m \u001b[0mget\u001b[0m\u001b[1;33m(\u001b[0m\u001b[0mself\u001b[0m\u001b[1;33m)\u001b[0m\u001b[1;33m:\u001b[0m\u001b[1;33m\u001b[0m\u001b[1;33m\u001b[0m\u001b[0m\n",
      "\u001b[1;32m~\\Anaconda3\\lib\\site-packages\\joblib\\parallel.py\u001b[0m in \u001b[0;36m__call__\u001b[1;34m(self)\u001b[0m\n\u001b[0;32m    223\u001b[0m         \u001b[1;32mwith\u001b[0m \u001b[0mparallel_backend\u001b[0m\u001b[1;33m(\u001b[0m\u001b[0mself\u001b[0m\u001b[1;33m.\u001b[0m\u001b[0m_backend\u001b[0m\u001b[1;33m,\u001b[0m \u001b[0mn_jobs\u001b[0m\u001b[1;33m=\u001b[0m\u001b[0mself\u001b[0m\u001b[1;33m.\u001b[0m\u001b[0m_n_jobs\u001b[0m\u001b[1;33m)\u001b[0m\u001b[1;33m:\u001b[0m\u001b[1;33m\u001b[0m\u001b[1;33m\u001b[0m\u001b[0m\n\u001b[0;32m    224\u001b[0m             return [func(*args, **kwargs)\n\u001b[1;32m--> 225\u001b[1;33m                     for func, args, kwargs in self.items]\n\u001b[0m\u001b[0;32m    226\u001b[0m \u001b[1;33m\u001b[0m\u001b[0m\n\u001b[0;32m    227\u001b[0m     \u001b[1;32mdef\u001b[0m \u001b[0m__len__\u001b[0m\u001b[1;33m(\u001b[0m\u001b[0mself\u001b[0m\u001b[1;33m)\u001b[0m\u001b[1;33m:\u001b[0m\u001b[1;33m\u001b[0m\u001b[1;33m\u001b[0m\u001b[0m\n",
      "\u001b[1;32m~\\Anaconda3\\lib\\site-packages\\joblib\\parallel.py\u001b[0m in \u001b[0;36m<listcomp>\u001b[1;34m(.0)\u001b[0m\n\u001b[0;32m    223\u001b[0m         \u001b[1;32mwith\u001b[0m \u001b[0mparallel_backend\u001b[0m\u001b[1;33m(\u001b[0m\u001b[0mself\u001b[0m\u001b[1;33m.\u001b[0m\u001b[0m_backend\u001b[0m\u001b[1;33m,\u001b[0m \u001b[0mn_jobs\u001b[0m\u001b[1;33m=\u001b[0m\u001b[0mself\u001b[0m\u001b[1;33m.\u001b[0m\u001b[0m_n_jobs\u001b[0m\u001b[1;33m)\u001b[0m\u001b[1;33m:\u001b[0m\u001b[1;33m\u001b[0m\u001b[1;33m\u001b[0m\u001b[0m\n\u001b[0;32m    224\u001b[0m             return [func(*args, **kwargs)\n\u001b[1;32m--> 225\u001b[1;33m                     for func, args, kwargs in self.items]\n\u001b[0m\u001b[0;32m    226\u001b[0m \u001b[1;33m\u001b[0m\u001b[0m\n\u001b[0;32m    227\u001b[0m     \u001b[1;32mdef\u001b[0m \u001b[0m__len__\u001b[0m\u001b[1;33m(\u001b[0m\u001b[0mself\u001b[0m\u001b[1;33m)\u001b[0m\u001b[1;33m:\u001b[0m\u001b[1;33m\u001b[0m\u001b[1;33m\u001b[0m\u001b[0m\n",
      "\u001b[1;32m~\\Anaconda3\\lib\\site-packages\\sklearn\\model_selection\\_validation.py\u001b[0m in \u001b[0;36m_fit_and_score\u001b[1;34m(estimator, X, y, scorer, train, test, verbose, parameters, fit_params, return_train_score, return_parameters, return_n_test_samples, return_times, return_estimator, error_score)\u001b[0m\n\u001b[0;32m    512\u001b[0m             \u001b[0mestimator\u001b[0m\u001b[1;33m.\u001b[0m\u001b[0mfit\u001b[0m\u001b[1;33m(\u001b[0m\u001b[0mX_train\u001b[0m\u001b[1;33m,\u001b[0m \u001b[1;33m**\u001b[0m\u001b[0mfit_params\u001b[0m\u001b[1;33m)\u001b[0m\u001b[1;33m\u001b[0m\u001b[1;33m\u001b[0m\u001b[0m\n\u001b[0;32m    513\u001b[0m         \u001b[1;32melse\u001b[0m\u001b[1;33m:\u001b[0m\u001b[1;33m\u001b[0m\u001b[1;33m\u001b[0m\u001b[0m\n\u001b[1;32m--> 514\u001b[1;33m             \u001b[0mestimator\u001b[0m\u001b[1;33m.\u001b[0m\u001b[0mfit\u001b[0m\u001b[1;33m(\u001b[0m\u001b[0mX_train\u001b[0m\u001b[1;33m,\u001b[0m \u001b[0my_train\u001b[0m\u001b[1;33m,\u001b[0m \u001b[1;33m**\u001b[0m\u001b[0mfit_params\u001b[0m\u001b[1;33m)\u001b[0m\u001b[1;33m\u001b[0m\u001b[1;33m\u001b[0m\u001b[0m\n\u001b[0m\u001b[0;32m    515\u001b[0m \u001b[1;33m\u001b[0m\u001b[0m\n\u001b[0;32m    516\u001b[0m     \u001b[1;32mexcept\u001b[0m \u001b[0mException\u001b[0m \u001b[1;32mas\u001b[0m \u001b[0me\u001b[0m\u001b[1;33m:\u001b[0m\u001b[1;33m\u001b[0m\u001b[1;33m\u001b[0m\u001b[0m\n",
      "\u001b[1;32m~\\Anaconda3\\lib\\site-packages\\sklearn\\tree\\tree.py\u001b[0m in \u001b[0;36mfit\u001b[1;34m(self, X, y, sample_weight, check_input, X_idx_sorted)\u001b[0m\n\u001b[0;32m   1155\u001b[0m             \u001b[0msample_weight\u001b[0m\u001b[1;33m=\u001b[0m\u001b[0msample_weight\u001b[0m\u001b[1;33m,\u001b[0m\u001b[1;33m\u001b[0m\u001b[1;33m\u001b[0m\u001b[0m\n\u001b[0;32m   1156\u001b[0m             \u001b[0mcheck_input\u001b[0m\u001b[1;33m=\u001b[0m\u001b[0mcheck_input\u001b[0m\u001b[1;33m,\u001b[0m\u001b[1;33m\u001b[0m\u001b[1;33m\u001b[0m\u001b[0m\n\u001b[1;32m-> 1157\u001b[1;33m             X_idx_sorted=X_idx_sorted)\n\u001b[0m\u001b[0;32m   1158\u001b[0m         \u001b[1;32mreturn\u001b[0m \u001b[0mself\u001b[0m\u001b[1;33m\u001b[0m\u001b[1;33m\u001b[0m\u001b[0m\n\u001b[0;32m   1159\u001b[0m \u001b[1;33m\u001b[0m\u001b[0m\n",
      "\u001b[1;32m~\\Anaconda3\\lib\\site-packages\\sklearn\\tree\\tree.py\u001b[0m in \u001b[0;36mfit\u001b[1;34m(self, X, y, sample_weight, check_input, X_idx_sorted)\u001b[0m\n\u001b[0;32m    128\u001b[0m         \u001b[0mrandom_state\u001b[0m \u001b[1;33m=\u001b[0m \u001b[0mcheck_random_state\u001b[0m\u001b[1;33m(\u001b[0m\u001b[0mself\u001b[0m\u001b[1;33m.\u001b[0m\u001b[0mrandom_state\u001b[0m\u001b[1;33m)\u001b[0m\u001b[1;33m\u001b[0m\u001b[1;33m\u001b[0m\u001b[0m\n\u001b[0;32m    129\u001b[0m         \u001b[1;32mif\u001b[0m \u001b[0mcheck_input\u001b[0m\u001b[1;33m:\u001b[0m\u001b[1;33m\u001b[0m\u001b[1;33m\u001b[0m\u001b[0m\n\u001b[1;32m--> 130\u001b[1;33m             \u001b[0mX\u001b[0m \u001b[1;33m=\u001b[0m \u001b[0mcheck_array\u001b[0m\u001b[1;33m(\u001b[0m\u001b[0mX\u001b[0m\u001b[1;33m,\u001b[0m \u001b[0mdtype\u001b[0m\u001b[1;33m=\u001b[0m\u001b[0mDTYPE\u001b[0m\u001b[1;33m,\u001b[0m \u001b[0maccept_sparse\u001b[0m\u001b[1;33m=\u001b[0m\u001b[1;34m\"csc\"\u001b[0m\u001b[1;33m)\u001b[0m\u001b[1;33m\u001b[0m\u001b[1;33m\u001b[0m\u001b[0m\n\u001b[0m\u001b[0;32m    131\u001b[0m             \u001b[0my\u001b[0m \u001b[1;33m=\u001b[0m \u001b[0mcheck_array\u001b[0m\u001b[1;33m(\u001b[0m\u001b[0my\u001b[0m\u001b[1;33m,\u001b[0m \u001b[0mensure_2d\u001b[0m\u001b[1;33m=\u001b[0m\u001b[1;32mFalse\u001b[0m\u001b[1;33m,\u001b[0m \u001b[0mdtype\u001b[0m\u001b[1;33m=\u001b[0m\u001b[1;32mNone\u001b[0m\u001b[1;33m)\u001b[0m\u001b[1;33m\u001b[0m\u001b[1;33m\u001b[0m\u001b[0m\n\u001b[0;32m    132\u001b[0m             \u001b[1;32mif\u001b[0m \u001b[0missparse\u001b[0m\u001b[1;33m(\u001b[0m\u001b[0mX\u001b[0m\u001b[1;33m)\u001b[0m\u001b[1;33m:\u001b[0m\u001b[1;33m\u001b[0m\u001b[1;33m\u001b[0m\u001b[0m\n",
      "\u001b[1;32m~\\Anaconda3\\lib\\site-packages\\sklearn\\utils\\validation.py\u001b[0m in \u001b[0;36mcheck_array\u001b[1;34m(array, accept_sparse, accept_large_sparse, dtype, order, copy, force_all_finite, ensure_2d, allow_nd, ensure_min_samples, ensure_min_features, warn_on_dtype, estimator)\u001b[0m\n\u001b[0;32m    494\u001b[0m             \u001b[1;32mtry\u001b[0m\u001b[1;33m:\u001b[0m\u001b[1;33m\u001b[0m\u001b[1;33m\u001b[0m\u001b[0m\n\u001b[0;32m    495\u001b[0m                 \u001b[0mwarnings\u001b[0m\u001b[1;33m.\u001b[0m\u001b[0msimplefilter\u001b[0m\u001b[1;33m(\u001b[0m\u001b[1;34m'error'\u001b[0m\u001b[1;33m,\u001b[0m \u001b[0mComplexWarning\u001b[0m\u001b[1;33m)\u001b[0m\u001b[1;33m\u001b[0m\u001b[1;33m\u001b[0m\u001b[0m\n\u001b[1;32m--> 496\u001b[1;33m                 \u001b[0marray\u001b[0m \u001b[1;33m=\u001b[0m \u001b[0mnp\u001b[0m\u001b[1;33m.\u001b[0m\u001b[0masarray\u001b[0m\u001b[1;33m(\u001b[0m\u001b[0marray\u001b[0m\u001b[1;33m,\u001b[0m \u001b[0mdtype\u001b[0m\u001b[1;33m=\u001b[0m\u001b[0mdtype\u001b[0m\u001b[1;33m,\u001b[0m \u001b[0morder\u001b[0m\u001b[1;33m=\u001b[0m\u001b[0morder\u001b[0m\u001b[1;33m)\u001b[0m\u001b[1;33m\u001b[0m\u001b[1;33m\u001b[0m\u001b[0m\n\u001b[0m\u001b[0;32m    497\u001b[0m             \u001b[1;32mexcept\u001b[0m \u001b[0mComplexWarning\u001b[0m\u001b[1;33m:\u001b[0m\u001b[1;33m\u001b[0m\u001b[1;33m\u001b[0m\u001b[0m\n\u001b[0;32m    498\u001b[0m                 raise ValueError(\"Complex data not supported\\n\"\n",
      "\u001b[1;32m~\\Anaconda3\\lib\\site-packages\\numpy\\core\\numeric.py\u001b[0m in \u001b[0;36masarray\u001b[1;34m(a, dtype, order)\u001b[0m\n\u001b[0;32m    536\u001b[0m \u001b[1;33m\u001b[0m\u001b[0m\n\u001b[0;32m    537\u001b[0m     \"\"\"\n\u001b[1;32m--> 538\u001b[1;33m     \u001b[1;32mreturn\u001b[0m \u001b[0marray\u001b[0m\u001b[1;33m(\u001b[0m\u001b[0ma\u001b[0m\u001b[1;33m,\u001b[0m \u001b[0mdtype\u001b[0m\u001b[1;33m,\u001b[0m \u001b[0mcopy\u001b[0m\u001b[1;33m=\u001b[0m\u001b[1;32mFalse\u001b[0m\u001b[1;33m,\u001b[0m \u001b[0morder\u001b[0m\u001b[1;33m=\u001b[0m\u001b[0morder\u001b[0m\u001b[1;33m)\u001b[0m\u001b[1;33m\u001b[0m\u001b[1;33m\u001b[0m\u001b[0m\n\u001b[0m\u001b[0;32m    539\u001b[0m \u001b[1;33m\u001b[0m\u001b[0m\n\u001b[0;32m    540\u001b[0m \u001b[1;33m\u001b[0m\u001b[0m\n",
      "\u001b[1;31mValueError\u001b[0m: could not convert string to float: 'Collantes'"
     ]
    }
   ],
   "source": [
    "all_scores = []\n",
    "best_score = -1\n",
    "best_depth = 0\n",
    "for i in range(1, 11):\n",
    "    treereg = DecisionTreeRegressor(max_depth=i, random_state=1)\n",
    "    scores = cross_val_score(treereg, X_train, y_train, cv=3, scoring='neg_mean_squared_error')\n",
    "    current_score = np.mean(np.sqrt(-scores))\n",
    "    # Selecciona el mejor comparando con el mejor hasta ahora.\n",
    "    if current_score < best_score or best_score == -1:\n",
    "        best_score = current_score\n",
    "        best_depth = i\n",
    "    # Agrega a la lista de scores para graficar\n",
    "    all_scores.append(current_score)\n",
    "    \n",
    "print(\"Mejor score: %s\" % best_score)\n",
    "print(\"Mejor depth: %s\" % best_depth)\n",
    "\n",
    "# Graficar el error como función del max_depth\n",
    "plt.figure()\n",
    "plt.plot(range(1, 11), all_scores)\n",
    "plt.xlabel('x=profundidad maxima del arbol');"
   ]
  },
  {
   "cell_type": "code",
   "execution_count": 36,
   "metadata": {},
   "outputs": [
    {
     "ename": "ValueError",
     "evalue": "could not convert string to float: 'Daniel CongrÃ©'",
     "output_type": "error",
     "traceback": [
      "\u001b[1;31m---------------------------------------------------------------------------\u001b[0m",
      "\u001b[1;31mValueError\u001b[0m                                Traceback (most recent call last)",
      "\u001b[1;32m<ipython-input-36-ca6debfb4c08>\u001b[0m in \u001b[0;36m<module>\u001b[1;34m\u001b[0m\n\u001b[0;32m      1\u001b[0m \u001b[1;31m# Ajustar el modelo utilizando la mejor max_depth\u001b[0m\u001b[1;33m\u001b[0m\u001b[1;33m\u001b[0m\u001b[1;33m\u001b[0m\u001b[0m\n\u001b[0;32m      2\u001b[0m \u001b[0mtreereg_cv\u001b[0m \u001b[1;33m=\u001b[0m \u001b[0mDecisionTreeRegressor\u001b[0m\u001b[1;33m(\u001b[0m\u001b[0mmax_depth\u001b[0m\u001b[1;33m=\u001b[0m\u001b[0mbest_depth\u001b[0m\u001b[1;33m,\u001b[0m \u001b[0mrandom_state\u001b[0m\u001b[1;33m=\u001b[0m\u001b[1;36m1\u001b[0m\u001b[1;33m)\u001b[0m\u001b[1;33m\u001b[0m\u001b[1;33m\u001b[0m\u001b[0m\n\u001b[1;32m----> 3\u001b[1;33m \u001b[0mtreereg_cv\u001b[0m\u001b[1;33m.\u001b[0m\u001b[0mfit\u001b[0m\u001b[1;33m(\u001b[0m\u001b[0mX_train\u001b[0m\u001b[1;33m,\u001b[0m \u001b[0my_train\u001b[0m\u001b[1;33m)\u001b[0m\u001b[1;33m\u001b[0m\u001b[1;33m\u001b[0m\u001b[0m\n\u001b[0m\u001b[0;32m      4\u001b[0m \u001b[1;33m\u001b[0m\u001b[0m\n\u001b[0;32m      5\u001b[0m \u001b[0mpreds_cv\u001b[0m \u001b[1;33m=\u001b[0m \u001b[0mtreereg_cv\u001b[0m\u001b[1;33m.\u001b[0m\u001b[0mpredict\u001b[0m\u001b[1;33m(\u001b[0m\u001b[0mX_test\u001b[0m\u001b[1;33m)\u001b[0m\u001b[1;33m\u001b[0m\u001b[1;33m\u001b[0m\u001b[0m\n",
      "\u001b[1;32m~\\Anaconda3\\lib\\site-packages\\sklearn\\tree\\tree.py\u001b[0m in \u001b[0;36mfit\u001b[1;34m(self, X, y, sample_weight, check_input, X_idx_sorted)\u001b[0m\n\u001b[0;32m   1155\u001b[0m             \u001b[0msample_weight\u001b[0m\u001b[1;33m=\u001b[0m\u001b[0msample_weight\u001b[0m\u001b[1;33m,\u001b[0m\u001b[1;33m\u001b[0m\u001b[1;33m\u001b[0m\u001b[0m\n\u001b[0;32m   1156\u001b[0m             \u001b[0mcheck_input\u001b[0m\u001b[1;33m=\u001b[0m\u001b[0mcheck_input\u001b[0m\u001b[1;33m,\u001b[0m\u001b[1;33m\u001b[0m\u001b[1;33m\u001b[0m\u001b[0m\n\u001b[1;32m-> 1157\u001b[1;33m             X_idx_sorted=X_idx_sorted)\n\u001b[0m\u001b[0;32m   1158\u001b[0m         \u001b[1;32mreturn\u001b[0m \u001b[0mself\u001b[0m\u001b[1;33m\u001b[0m\u001b[1;33m\u001b[0m\u001b[0m\n\u001b[0;32m   1159\u001b[0m \u001b[1;33m\u001b[0m\u001b[0m\n",
      "\u001b[1;32m~\\Anaconda3\\lib\\site-packages\\sklearn\\tree\\tree.py\u001b[0m in \u001b[0;36mfit\u001b[1;34m(self, X, y, sample_weight, check_input, X_idx_sorted)\u001b[0m\n\u001b[0;32m    128\u001b[0m         \u001b[0mrandom_state\u001b[0m \u001b[1;33m=\u001b[0m \u001b[0mcheck_random_state\u001b[0m\u001b[1;33m(\u001b[0m\u001b[0mself\u001b[0m\u001b[1;33m.\u001b[0m\u001b[0mrandom_state\u001b[0m\u001b[1;33m)\u001b[0m\u001b[1;33m\u001b[0m\u001b[1;33m\u001b[0m\u001b[0m\n\u001b[0;32m    129\u001b[0m         \u001b[1;32mif\u001b[0m \u001b[0mcheck_input\u001b[0m\u001b[1;33m:\u001b[0m\u001b[1;33m\u001b[0m\u001b[1;33m\u001b[0m\u001b[0m\n\u001b[1;32m--> 130\u001b[1;33m             \u001b[0mX\u001b[0m \u001b[1;33m=\u001b[0m \u001b[0mcheck_array\u001b[0m\u001b[1;33m(\u001b[0m\u001b[0mX\u001b[0m\u001b[1;33m,\u001b[0m \u001b[0mdtype\u001b[0m\u001b[1;33m=\u001b[0m\u001b[0mDTYPE\u001b[0m\u001b[1;33m,\u001b[0m \u001b[0maccept_sparse\u001b[0m\u001b[1;33m=\u001b[0m\u001b[1;34m\"csc\"\u001b[0m\u001b[1;33m)\u001b[0m\u001b[1;33m\u001b[0m\u001b[1;33m\u001b[0m\u001b[0m\n\u001b[0m\u001b[0;32m    131\u001b[0m             \u001b[0my\u001b[0m \u001b[1;33m=\u001b[0m \u001b[0mcheck_array\u001b[0m\u001b[1;33m(\u001b[0m\u001b[0my\u001b[0m\u001b[1;33m,\u001b[0m \u001b[0mensure_2d\u001b[0m\u001b[1;33m=\u001b[0m\u001b[1;32mFalse\u001b[0m\u001b[1;33m,\u001b[0m \u001b[0mdtype\u001b[0m\u001b[1;33m=\u001b[0m\u001b[1;32mNone\u001b[0m\u001b[1;33m)\u001b[0m\u001b[1;33m\u001b[0m\u001b[1;33m\u001b[0m\u001b[0m\n\u001b[0;32m    132\u001b[0m             \u001b[1;32mif\u001b[0m \u001b[0missparse\u001b[0m\u001b[1;33m(\u001b[0m\u001b[0mX\u001b[0m\u001b[1;33m)\u001b[0m\u001b[1;33m:\u001b[0m\u001b[1;33m\u001b[0m\u001b[1;33m\u001b[0m\u001b[0m\n",
      "\u001b[1;32m~\\Anaconda3\\lib\\site-packages\\sklearn\\utils\\validation.py\u001b[0m in \u001b[0;36mcheck_array\u001b[1;34m(array, accept_sparse, accept_large_sparse, dtype, order, copy, force_all_finite, ensure_2d, allow_nd, ensure_min_samples, ensure_min_features, warn_on_dtype, estimator)\u001b[0m\n\u001b[0;32m    494\u001b[0m             \u001b[1;32mtry\u001b[0m\u001b[1;33m:\u001b[0m\u001b[1;33m\u001b[0m\u001b[1;33m\u001b[0m\u001b[0m\n\u001b[0;32m    495\u001b[0m                 \u001b[0mwarnings\u001b[0m\u001b[1;33m.\u001b[0m\u001b[0msimplefilter\u001b[0m\u001b[1;33m(\u001b[0m\u001b[1;34m'error'\u001b[0m\u001b[1;33m,\u001b[0m \u001b[0mComplexWarning\u001b[0m\u001b[1;33m)\u001b[0m\u001b[1;33m\u001b[0m\u001b[1;33m\u001b[0m\u001b[0m\n\u001b[1;32m--> 496\u001b[1;33m                 \u001b[0marray\u001b[0m \u001b[1;33m=\u001b[0m \u001b[0mnp\u001b[0m\u001b[1;33m.\u001b[0m\u001b[0masarray\u001b[0m\u001b[1;33m(\u001b[0m\u001b[0marray\u001b[0m\u001b[1;33m,\u001b[0m \u001b[0mdtype\u001b[0m\u001b[1;33m=\u001b[0m\u001b[0mdtype\u001b[0m\u001b[1;33m,\u001b[0m \u001b[0morder\u001b[0m\u001b[1;33m=\u001b[0m\u001b[0morder\u001b[0m\u001b[1;33m)\u001b[0m\u001b[1;33m\u001b[0m\u001b[1;33m\u001b[0m\u001b[0m\n\u001b[0m\u001b[0;32m    497\u001b[0m             \u001b[1;32mexcept\u001b[0m \u001b[0mComplexWarning\u001b[0m\u001b[1;33m:\u001b[0m\u001b[1;33m\u001b[0m\u001b[1;33m\u001b[0m\u001b[0m\n\u001b[0;32m    498\u001b[0m                 raise ValueError(\"Complex data not supported\\n\"\n",
      "\u001b[1;32m~\\Anaconda3\\lib\\site-packages\\numpy\\core\\numeric.py\u001b[0m in \u001b[0;36masarray\u001b[1;34m(a, dtype, order)\u001b[0m\n\u001b[0;32m    536\u001b[0m \u001b[1;33m\u001b[0m\u001b[0m\n\u001b[0;32m    537\u001b[0m     \"\"\"\n\u001b[1;32m--> 538\u001b[1;33m     \u001b[1;32mreturn\u001b[0m \u001b[0marray\u001b[0m\u001b[1;33m(\u001b[0m\u001b[0ma\u001b[0m\u001b[1;33m,\u001b[0m \u001b[0mdtype\u001b[0m\u001b[1;33m,\u001b[0m \u001b[0mcopy\u001b[0m\u001b[1;33m=\u001b[0m\u001b[1;32mFalse\u001b[0m\u001b[1;33m,\u001b[0m \u001b[0morder\u001b[0m\u001b[1;33m=\u001b[0m\u001b[0morder\u001b[0m\u001b[1;33m)\u001b[0m\u001b[1;33m\u001b[0m\u001b[1;33m\u001b[0m\u001b[0m\n\u001b[0m\u001b[0;32m    539\u001b[0m \u001b[1;33m\u001b[0m\u001b[0m\n\u001b[0;32m    540\u001b[0m \u001b[1;33m\u001b[0m\u001b[0m\n",
      "\u001b[1;31mValueError\u001b[0m: could not convert string to float: 'Daniel CongrÃ©'"
     ]
    }
   ],
   "source": [
    "# Ajustar el modelo utilizando la mejor max_depth\n",
    "treereg_cv = DecisionTreeRegressor(max_depth=best_depth, random_state=1)\n",
    "treereg_cv.fit(X_train, y_train)\n",
    "\n",
    "preds_cv = treereg_cv.predict(X_test)"
   ]
  },
  {
   "cell_type": "code",
   "execution_count": 37,
   "metadata": {},
   "outputs": [
    {
     "ename": "NameError",
     "evalue": "name 'preds_cv' is not defined",
     "output_type": "error",
     "traceback": [
      "\u001b[1;31m---------------------------------------------------------------------------\u001b[0m",
      "\u001b[1;31mNameError\u001b[0m                                 Traceback (most recent call last)",
      "\u001b[1;32m<ipython-input-37-7669203eb9b3>\u001b[0m in \u001b[0;36m<module>\u001b[1;34m\u001b[0m\n\u001b[0;32m      1\u001b[0m \u001b[1;31m# Calculamos nuevamente el r2_score para juzgar la bondad de la regresión\u001b[0m\u001b[1;33m\u001b[0m\u001b[1;33m\u001b[0m\u001b[1;33m\u001b[0m\u001b[0m\n\u001b[1;32m----> 2\u001b[1;33m \u001b[0mr2_score\u001b[0m\u001b[1;33m(\u001b[0m\u001b[0my_test\u001b[0m\u001b[1;33m,\u001b[0m \u001b[0mpreds_cv\u001b[0m\u001b[1;33m)\u001b[0m\u001b[1;33m\u001b[0m\u001b[1;33m\u001b[0m\u001b[0m\n\u001b[0m",
      "\u001b[1;31mNameError\u001b[0m: name 'preds_cv' is not defined"
     ]
    }
   ],
   "source": [
    "# Calculamos nuevamente el r2_score para juzgar la bondad de la regresión\n",
    "r2_score(y_test, preds_cv)"
   ]
  },
  {
   "cell_type": "code",
   "execution_count": 38,
   "metadata": {},
   "outputs": [
    {
     "ename": "NotFittedError",
     "evalue": "This DecisionTreeRegressor instance is not fitted yet. Call 'fit' with appropriate arguments before using this method.",
     "output_type": "error",
     "traceback": [
      "\u001b[1;31m---------------------------------------------------------------------------\u001b[0m",
      "\u001b[1;31mNotFittedError\u001b[0m                            Traceback (most recent call last)",
      "\u001b[1;32m<ipython-input-38-6f8c4f3d1138>\u001b[0m in \u001b[0;36m<module>\u001b[1;34m\u001b[0m\n\u001b[1;32m----> 1\u001b[1;33m \u001b[0mpreds_train_cv\u001b[0m \u001b[1;33m=\u001b[0m \u001b[0mtreereg_cv\u001b[0m\u001b[1;33m.\u001b[0m\u001b[0mpredict\u001b[0m\u001b[1;33m(\u001b[0m\u001b[0mX_train\u001b[0m\u001b[1;33m)\u001b[0m\u001b[1;33m\u001b[0m\u001b[1;33m\u001b[0m\u001b[0m\n\u001b[0m\u001b[0;32m      2\u001b[0m \u001b[0mr2_score\u001b[0m\u001b[1;33m(\u001b[0m\u001b[0my_train\u001b[0m\u001b[1;33m,\u001b[0m \u001b[0mpreds_train_cv\u001b[0m\u001b[1;33m)\u001b[0m\u001b[1;33m\u001b[0m\u001b[1;33m\u001b[0m\u001b[0m\n",
      "\u001b[1;32m~\\Anaconda3\\lib\\site-packages\\sklearn\\tree\\tree.py\u001b[0m in \u001b[0;36mpredict\u001b[1;34m(self, X, check_input)\u001b[0m\n\u001b[0;32m    427\u001b[0m             \u001b[0mThe\u001b[0m \u001b[0mpredicted\u001b[0m \u001b[0mclasses\u001b[0m\u001b[1;33m,\u001b[0m \u001b[1;32mor\u001b[0m \u001b[0mthe\u001b[0m \u001b[0mpredict\u001b[0m \u001b[0mvalues\u001b[0m\u001b[1;33m.\u001b[0m\u001b[1;33m\u001b[0m\u001b[1;33m\u001b[0m\u001b[0m\n\u001b[0;32m    428\u001b[0m         \"\"\"\n\u001b[1;32m--> 429\u001b[1;33m         \u001b[0mcheck_is_fitted\u001b[0m\u001b[1;33m(\u001b[0m\u001b[0mself\u001b[0m\u001b[1;33m,\u001b[0m \u001b[1;34m'tree_'\u001b[0m\u001b[1;33m)\u001b[0m\u001b[1;33m\u001b[0m\u001b[1;33m\u001b[0m\u001b[0m\n\u001b[0m\u001b[0;32m    430\u001b[0m         \u001b[0mX\u001b[0m \u001b[1;33m=\u001b[0m \u001b[0mself\u001b[0m\u001b[1;33m.\u001b[0m\u001b[0m_validate_X_predict\u001b[0m\u001b[1;33m(\u001b[0m\u001b[0mX\u001b[0m\u001b[1;33m,\u001b[0m \u001b[0mcheck_input\u001b[0m\u001b[1;33m)\u001b[0m\u001b[1;33m\u001b[0m\u001b[1;33m\u001b[0m\u001b[0m\n\u001b[0;32m    431\u001b[0m         \u001b[0mproba\u001b[0m \u001b[1;33m=\u001b[0m \u001b[0mself\u001b[0m\u001b[1;33m.\u001b[0m\u001b[0mtree_\u001b[0m\u001b[1;33m.\u001b[0m\u001b[0mpredict\u001b[0m\u001b[1;33m(\u001b[0m\u001b[0mX\u001b[0m\u001b[1;33m)\u001b[0m\u001b[1;33m\u001b[0m\u001b[1;33m\u001b[0m\u001b[0m\n",
      "\u001b[1;32m~\\Anaconda3\\lib\\site-packages\\sklearn\\utils\\validation.py\u001b[0m in \u001b[0;36mcheck_is_fitted\u001b[1;34m(estimator, attributes, msg, all_or_any)\u001b[0m\n\u001b[0;32m    912\u001b[0m \u001b[1;33m\u001b[0m\u001b[0m\n\u001b[0;32m    913\u001b[0m     \u001b[1;32mif\u001b[0m \u001b[1;32mnot\u001b[0m \u001b[0mall_or_any\u001b[0m\u001b[1;33m(\u001b[0m\u001b[1;33m[\u001b[0m\u001b[0mhasattr\u001b[0m\u001b[1;33m(\u001b[0m\u001b[0mestimator\u001b[0m\u001b[1;33m,\u001b[0m \u001b[0mattr\u001b[0m\u001b[1;33m)\u001b[0m \u001b[1;32mfor\u001b[0m \u001b[0mattr\u001b[0m \u001b[1;32min\u001b[0m \u001b[0mattributes\u001b[0m\u001b[1;33m]\u001b[0m\u001b[1;33m)\u001b[0m\u001b[1;33m:\u001b[0m\u001b[1;33m\u001b[0m\u001b[1;33m\u001b[0m\u001b[0m\n\u001b[1;32m--> 914\u001b[1;33m         \u001b[1;32mraise\u001b[0m \u001b[0mNotFittedError\u001b[0m\u001b[1;33m(\u001b[0m\u001b[0mmsg\u001b[0m \u001b[1;33m%\u001b[0m \u001b[1;33m{\u001b[0m\u001b[1;34m'name'\u001b[0m\u001b[1;33m:\u001b[0m \u001b[0mtype\u001b[0m\u001b[1;33m(\u001b[0m\u001b[0mestimator\u001b[0m\u001b[1;33m)\u001b[0m\u001b[1;33m.\u001b[0m\u001b[0m__name__\u001b[0m\u001b[1;33m}\u001b[0m\u001b[1;33m)\u001b[0m\u001b[1;33m\u001b[0m\u001b[1;33m\u001b[0m\u001b[0m\n\u001b[0m\u001b[0;32m    915\u001b[0m \u001b[1;33m\u001b[0m\u001b[0m\n\u001b[0;32m    916\u001b[0m \u001b[1;33m\u001b[0m\u001b[0m\n",
      "\u001b[1;31mNotFittedError\u001b[0m: This DecisionTreeRegressor instance is not fitted yet. Call 'fit' with appropriate arguments before using this method."
     ]
    }
   ],
   "source": [
    "preds_train_cv = treereg_cv.predict(X_train)\n",
    "r2_score(y_train, preds_train_cv)"
   ]
  },
  {
   "cell_type": "code",
   "execution_count": 39,
   "metadata": {},
   "outputs": [
    {
     "ename": "NotFittedError",
     "evalue": "This DecisionTreeRegressor instance is not fitted yet. Call 'fit' with appropriate arguments before using this method.",
     "output_type": "error",
     "traceback": [
      "\u001b[1;31m---------------------------------------------------------------------------\u001b[0m",
      "\u001b[1;31mNotFittedError\u001b[0m                            Traceback (most recent call last)",
      "\u001b[1;32m<ipython-input-39-1492608edd31>\u001b[0m in \u001b[0;36m<module>\u001b[1;34m\u001b[0m\n\u001b[1;32m----> 1\u001b[1;33m \u001b[0mpd\u001b[0m\u001b[1;33m.\u001b[0m\u001b[0mDataFrame\u001b[0m\u001b[1;33m(\u001b[0m\u001b[1;33m{\u001b[0m\u001b[1;34m'atributo'\u001b[0m\u001b[1;33m:\u001b[0m\u001b[0mdata\u001b[0m\u001b[1;33m.\u001b[0m\u001b[0mcolumns\u001b[0m\u001b[1;33m,\u001b[0m \u001b[1;34m'importancia'\u001b[0m\u001b[1;33m:\u001b[0m\u001b[0mtreereg_cv\u001b[0m\u001b[1;33m.\u001b[0m\u001b[0mfeature_importances_\u001b[0m\u001b[1;33m}\u001b[0m\u001b[1;33m)\u001b[0m\u001b[1;33m.\u001b[0m\u001b[0msort_values\u001b[0m\u001b[1;33m(\u001b[0m\u001b[1;34m'importancia'\u001b[0m\u001b[1;33m,\u001b[0m \u001b[0mascending\u001b[0m \u001b[1;33m=\u001b[0m \u001b[1;32mFalse\u001b[0m\u001b[1;33m)\u001b[0m\u001b[1;33m\u001b[0m\u001b[1;33m\u001b[0m\u001b[0m\n\u001b[0m",
      "\u001b[1;32m~\\Anaconda3\\lib\\site-packages\\sklearn\\tree\\tree.py\u001b[0m in \u001b[0;36mfeature_importances_\u001b[1;34m(self)\u001b[0m\n\u001b[0;32m    523\u001b[0m         \u001b[0mfeature_importances_\u001b[0m \u001b[1;33m:\u001b[0m \u001b[0marray\u001b[0m\u001b[1;33m,\u001b[0m \u001b[0mshape\u001b[0m \u001b[1;33m=\u001b[0m \u001b[1;33m[\u001b[0m\u001b[0mn_features\u001b[0m\u001b[1;33m]\u001b[0m\u001b[1;33m\u001b[0m\u001b[1;33m\u001b[0m\u001b[0m\n\u001b[0;32m    524\u001b[0m         \"\"\"\n\u001b[1;32m--> 525\u001b[1;33m         \u001b[0mcheck_is_fitted\u001b[0m\u001b[1;33m(\u001b[0m\u001b[0mself\u001b[0m\u001b[1;33m,\u001b[0m \u001b[1;34m'tree_'\u001b[0m\u001b[1;33m)\u001b[0m\u001b[1;33m\u001b[0m\u001b[1;33m\u001b[0m\u001b[0m\n\u001b[0m\u001b[0;32m    526\u001b[0m \u001b[1;33m\u001b[0m\u001b[0m\n\u001b[0;32m    527\u001b[0m         \u001b[1;32mreturn\u001b[0m \u001b[0mself\u001b[0m\u001b[1;33m.\u001b[0m\u001b[0mtree_\u001b[0m\u001b[1;33m.\u001b[0m\u001b[0mcompute_feature_importances\u001b[0m\u001b[1;33m(\u001b[0m\u001b[1;33m)\u001b[0m\u001b[1;33m\u001b[0m\u001b[1;33m\u001b[0m\u001b[0m\n",
      "\u001b[1;32m~\\Anaconda3\\lib\\site-packages\\sklearn\\utils\\validation.py\u001b[0m in \u001b[0;36mcheck_is_fitted\u001b[1;34m(estimator, attributes, msg, all_or_any)\u001b[0m\n\u001b[0;32m    912\u001b[0m \u001b[1;33m\u001b[0m\u001b[0m\n\u001b[0;32m    913\u001b[0m     \u001b[1;32mif\u001b[0m \u001b[1;32mnot\u001b[0m \u001b[0mall_or_any\u001b[0m\u001b[1;33m(\u001b[0m\u001b[1;33m[\u001b[0m\u001b[0mhasattr\u001b[0m\u001b[1;33m(\u001b[0m\u001b[0mestimator\u001b[0m\u001b[1;33m,\u001b[0m \u001b[0mattr\u001b[0m\u001b[1;33m)\u001b[0m \u001b[1;32mfor\u001b[0m \u001b[0mattr\u001b[0m \u001b[1;32min\u001b[0m \u001b[0mattributes\u001b[0m\u001b[1;33m]\u001b[0m\u001b[1;33m)\u001b[0m\u001b[1;33m:\u001b[0m\u001b[1;33m\u001b[0m\u001b[1;33m\u001b[0m\u001b[0m\n\u001b[1;32m--> 914\u001b[1;33m         \u001b[1;32mraise\u001b[0m \u001b[0mNotFittedError\u001b[0m\u001b[1;33m(\u001b[0m\u001b[0mmsg\u001b[0m \u001b[1;33m%\u001b[0m \u001b[1;33m{\u001b[0m\u001b[1;34m'name'\u001b[0m\u001b[1;33m:\u001b[0m \u001b[0mtype\u001b[0m\u001b[1;33m(\u001b[0m\u001b[0mestimator\u001b[0m\u001b[1;33m)\u001b[0m\u001b[1;33m.\u001b[0m\u001b[0m__name__\u001b[0m\u001b[1;33m}\u001b[0m\u001b[1;33m)\u001b[0m\u001b[1;33m\u001b[0m\u001b[1;33m\u001b[0m\u001b[0m\n\u001b[0m\u001b[0;32m    915\u001b[0m \u001b[1;33m\u001b[0m\u001b[0m\n\u001b[0;32m    916\u001b[0m \u001b[1;33m\u001b[0m\u001b[0m\n",
      "\u001b[1;31mNotFittedError\u001b[0m: This DecisionTreeRegressor instance is not fitted yet. Call 'fit' with appropriate arguments before using this method."
     ]
    }
   ],
   "source": [
    "pd.DataFrame({'atributo':data.columns, 'importancia':treereg_cv.feature_importances_}).sort_values('importancia', ascending = False)"
   ]
  },
  {
   "cell_type": "code",
   "execution_count": 40,
   "metadata": {},
   "outputs": [
    {
     "ename": "NameError",
     "evalue": "name 'export_graphviz' is not defined",
     "output_type": "error",
     "traceback": [
      "\u001b[1;31m---------------------------------------------------------------------------\u001b[0m",
      "\u001b[1;31mNameError\u001b[0m                                 Traceback (most recent call last)",
      "\u001b[1;32m<ipython-input-40-0a5a23b3b1d0>\u001b[0m in \u001b[0;36m<module>\u001b[1;34m\u001b[0m\n\u001b[1;32m----> 1\u001b[1;33m dot_data=export_graphviz(treereg_cv, out_file=None,  \n\u001b[0m\u001b[0;32m      2\u001b[0m                 \u001b[0mfeature_names\u001b[0m\u001b[1;33m=\u001b[0m\u001b[0mdata\u001b[0m\u001b[1;33m.\u001b[0m\u001b[0mcolumns\u001b[0m\u001b[1;33m,\u001b[0m\u001b[1;33m\u001b[0m\u001b[1;33m\u001b[0m\u001b[0m\n\u001b[0;32m      3\u001b[0m                 \u001b[0mfilled\u001b[0m\u001b[1;33m=\u001b[0m\u001b[1;32mTrue\u001b[0m\u001b[1;33m,\u001b[0m \u001b[0mrounded\u001b[0m\u001b[1;33m=\u001b[0m\u001b[1;32mTrue\u001b[0m\u001b[1;33m,\u001b[0m\u001b[1;33m\u001b[0m\u001b[1;33m\u001b[0m\u001b[0m\n\u001b[0;32m      4\u001b[0m                 special_characters=True)  \n\u001b[0;32m      5\u001b[0m \u001b[0mgraph\u001b[0m \u001b[1;33m=\u001b[0m \u001b[0mpydotplus\u001b[0m\u001b[1;33m.\u001b[0m\u001b[0mgraph_from_dot_data\u001b[0m\u001b[1;33m(\u001b[0m\u001b[0mdot_data\u001b[0m\u001b[1;33m)\u001b[0m\u001b[1;33m\u001b[0m\u001b[1;33m\u001b[0m\u001b[0m\n",
      "\u001b[1;31mNameError\u001b[0m: name 'export_graphviz' is not defined"
     ]
    }
   ],
   "source": [
    "dot_data=export_graphviz(treereg_cv, out_file=None,  \n",
    "                feature_names=data.columns,  \n",
    "                filled=True, rounded=True,  \n",
    "                special_characters=True)  \n",
    "graph = pydotplus.graph_from_dot_data(dot_data)\n",
    "Image(graph.create_png())  "
   ]
  },
  {
   "cell_type": "code",
   "execution_count": null,
   "metadata": {},
   "outputs": [],
   "source": []
  },
  {
   "cell_type": "code",
   "execution_count": 41,
   "metadata": {},
   "outputs": [],
   "source": [
    "\n",
    "param_trees = {'n_estimators': [50, 100, 200], \n",
    "               'max_features': [1, 5, 8, 10, 21], \n",
    "               'max_depth': [5, 20, 50, 70, 100], \n",
    "               'min_samples_leaf':[1, 5, 8, 10, 50]}"
   ]
  },
  {
   "cell_type": "code",
   "execution_count": 42,
   "metadata": {},
   "outputs": [],
   "source": [
    "from sklearn.ensemble import RandomForestRegressor\n",
    "rf = RandomForestRegressor(random_state=12345)"
   ]
  },
  {
   "cell_type": "code",
   "execution_count": 43,
   "metadata": {},
   "outputs": [],
   "source": [
    "grid_search_rf = GridSearchCV(rf, param_grid=param_trees, cv=cv, verbose=1, n_jobs=-1)"
   ]
  },
  {
   "cell_type": "code",
   "execution_count": 44,
   "metadata": {},
   "outputs": [
    {
     "name": "stdout",
     "output_type": "stream",
     "text": [
      "Fitting 5 folds for each of 375 candidates, totalling 1875 fits\n"
     ]
    },
    {
     "name": "stderr",
     "output_type": "stream",
     "text": [
      "C:\\Users\\zelru\\Anaconda3\\lib\\site-packages\\sklearn\\model_selection\\_split.py:657: Warning: The least populated class in y has only 1 members, which is too few. The minimum number of members in any class cannot be less than n_splits=5.\n",
      "  % (min_groups, self.n_splits)), Warning)\n",
      "[Parallel(n_jobs=-1)]: Using backend LokyBackend with 8 concurrent workers.\n"
     ]
    },
    {
     "ename": "ValueError",
     "evalue": "could not convert string to float: 'Daniel CongrÃ©'",
     "output_type": "error",
     "traceback": [
      "\u001b[1;31m---------------------------------------------------------------------------\u001b[0m",
      "\u001b[1;31m_RemoteTraceback\u001b[0m                          Traceback (most recent call last)",
      "\u001b[1;31m_RemoteTraceback\u001b[0m: \n\"\"\"\nTraceback (most recent call last):\n  File \"C:\\Users\\zelru\\Anaconda3\\lib\\site-packages\\joblib\\externals\\loky\\process_executor.py\", line 418, in _process_worker\n    r = call_item()\n  File \"C:\\Users\\zelru\\Anaconda3\\lib\\site-packages\\joblib\\externals\\loky\\process_executor.py\", line 272, in __call__\n    return self.fn(*self.args, **self.kwargs)\n  File \"C:\\Users\\zelru\\Anaconda3\\lib\\site-packages\\joblib\\_parallel_backends.py\", line 567, in __call__\n    return self.func(*args, **kwargs)\n  File \"C:\\Users\\zelru\\Anaconda3\\lib\\site-packages\\joblib\\parallel.py\", line 225, in __call__\n    for func, args, kwargs in self.items]\n  File \"C:\\Users\\zelru\\Anaconda3\\lib\\site-packages\\joblib\\parallel.py\", line 225, in <listcomp>\n    for func, args, kwargs in self.items]\n  File \"C:\\Users\\zelru\\Anaconda3\\lib\\site-packages\\sklearn\\model_selection\\_validation.py\", line 514, in _fit_and_score\n    estimator.fit(X_train, y_train, **fit_params)\n  File \"C:\\Users\\zelru\\Anaconda3\\lib\\site-packages\\sklearn\\ensemble\\forest.py\", line 249, in fit\n    X = check_array(X, accept_sparse=\"csc\", dtype=DTYPE)\n  File \"C:\\Users\\zelru\\Anaconda3\\lib\\site-packages\\sklearn\\utils\\validation.py\", line 496, in check_array\n    array = np.asarray(array, dtype=dtype, order=order)\n  File \"C:\\Users\\zelru\\Anaconda3\\lib\\site-packages\\numpy\\core\\numeric.py\", line 538, in asarray\n    return array(a, dtype, copy=False, order=order)\nValueError: could not convert string to float: 'Daniel CongrÃ©'\n\"\"\"",
      "\nThe above exception was the direct cause of the following exception:\n",
      "\u001b[1;31mValueError\u001b[0m                                Traceback (most recent call last)",
      "\u001b[1;32m<ipython-input-44-a3db1d5b0d00>\u001b[0m in \u001b[0;36m<module>\u001b[1;34m\u001b[0m\n\u001b[1;32m----> 1\u001b[1;33m \u001b[0mgrid_search_rf\u001b[0m\u001b[1;33m.\u001b[0m\u001b[0mfit\u001b[0m\u001b[1;33m(\u001b[0m\u001b[0mX_train\u001b[0m\u001b[1;33m,\u001b[0m \u001b[0my_train\u001b[0m\u001b[1;33m)\u001b[0m\u001b[1;33m\u001b[0m\u001b[1;33m\u001b[0m\u001b[0m\n\u001b[0m",
      "\u001b[1;32m~\\Anaconda3\\lib\\site-packages\\sklearn\\model_selection\\_search.py\u001b[0m in \u001b[0;36mfit\u001b[1;34m(self, X, y, groups, **fit_params)\u001b[0m\n\u001b[0;32m    685\u001b[0m                 \u001b[1;32mreturn\u001b[0m \u001b[0mresults\u001b[0m\u001b[1;33m\u001b[0m\u001b[1;33m\u001b[0m\u001b[0m\n\u001b[0;32m    686\u001b[0m \u001b[1;33m\u001b[0m\u001b[0m\n\u001b[1;32m--> 687\u001b[1;33m             \u001b[0mself\u001b[0m\u001b[1;33m.\u001b[0m\u001b[0m_run_search\u001b[0m\u001b[1;33m(\u001b[0m\u001b[0mevaluate_candidates\u001b[0m\u001b[1;33m)\u001b[0m\u001b[1;33m\u001b[0m\u001b[1;33m\u001b[0m\u001b[0m\n\u001b[0m\u001b[0;32m    688\u001b[0m \u001b[1;33m\u001b[0m\u001b[0m\n\u001b[0;32m    689\u001b[0m         \u001b[1;31m# For multi-metric evaluation, store the best_index_, best_params_ and\u001b[0m\u001b[1;33m\u001b[0m\u001b[1;33m\u001b[0m\u001b[1;33m\u001b[0m\u001b[0m\n",
      "\u001b[1;32m~\\Anaconda3\\lib\\site-packages\\sklearn\\model_selection\\_search.py\u001b[0m in \u001b[0;36m_run_search\u001b[1;34m(self, evaluate_candidates)\u001b[0m\n\u001b[0;32m   1146\u001b[0m     \u001b[1;32mdef\u001b[0m \u001b[0m_run_search\u001b[0m\u001b[1;33m(\u001b[0m\u001b[0mself\u001b[0m\u001b[1;33m,\u001b[0m \u001b[0mevaluate_candidates\u001b[0m\u001b[1;33m)\u001b[0m\u001b[1;33m:\u001b[0m\u001b[1;33m\u001b[0m\u001b[1;33m\u001b[0m\u001b[0m\n\u001b[0;32m   1147\u001b[0m         \u001b[1;34m\"\"\"Search all candidates in param_grid\"\"\"\u001b[0m\u001b[1;33m\u001b[0m\u001b[1;33m\u001b[0m\u001b[0m\n\u001b[1;32m-> 1148\u001b[1;33m         \u001b[0mevaluate_candidates\u001b[0m\u001b[1;33m(\u001b[0m\u001b[0mParameterGrid\u001b[0m\u001b[1;33m(\u001b[0m\u001b[0mself\u001b[0m\u001b[1;33m.\u001b[0m\u001b[0mparam_grid\u001b[0m\u001b[1;33m)\u001b[0m\u001b[1;33m)\u001b[0m\u001b[1;33m\u001b[0m\u001b[1;33m\u001b[0m\u001b[0m\n\u001b[0m\u001b[0;32m   1149\u001b[0m \u001b[1;33m\u001b[0m\u001b[0m\n\u001b[0;32m   1150\u001b[0m \u001b[1;33m\u001b[0m\u001b[0m\n",
      "\u001b[1;32m~\\Anaconda3\\lib\\site-packages\\sklearn\\model_selection\\_search.py\u001b[0m in \u001b[0;36mevaluate_candidates\u001b[1;34m(candidate_params)\u001b[0m\n\u001b[0;32m    664\u001b[0m                                \u001b[1;32mfor\u001b[0m \u001b[0mparameters\u001b[0m\u001b[1;33m,\u001b[0m \u001b[1;33m(\u001b[0m\u001b[0mtrain\u001b[0m\u001b[1;33m,\u001b[0m \u001b[0mtest\u001b[0m\u001b[1;33m)\u001b[0m\u001b[1;33m\u001b[0m\u001b[1;33m\u001b[0m\u001b[0m\n\u001b[0;32m    665\u001b[0m                                in product(candidate_params,\n\u001b[1;32m--> 666\u001b[1;33m                                           cv.split(X, y, groups)))\n\u001b[0m\u001b[0;32m    667\u001b[0m \u001b[1;33m\u001b[0m\u001b[0m\n\u001b[0;32m    668\u001b[0m                 \u001b[1;32mif\u001b[0m \u001b[0mlen\u001b[0m\u001b[1;33m(\u001b[0m\u001b[0mout\u001b[0m\u001b[1;33m)\u001b[0m \u001b[1;33m<\u001b[0m \u001b[1;36m1\u001b[0m\u001b[1;33m:\u001b[0m\u001b[1;33m\u001b[0m\u001b[1;33m\u001b[0m\u001b[0m\n",
      "\u001b[1;32m~\\Anaconda3\\lib\\site-packages\\joblib\\parallel.py\u001b[0m in \u001b[0;36m__call__\u001b[1;34m(self, iterable)\u001b[0m\n\u001b[0;32m    932\u001b[0m \u001b[1;33m\u001b[0m\u001b[0m\n\u001b[0;32m    933\u001b[0m             \u001b[1;32mwith\u001b[0m \u001b[0mself\u001b[0m\u001b[1;33m.\u001b[0m\u001b[0m_backend\u001b[0m\u001b[1;33m.\u001b[0m\u001b[0mretrieval_context\u001b[0m\u001b[1;33m(\u001b[0m\u001b[1;33m)\u001b[0m\u001b[1;33m:\u001b[0m\u001b[1;33m\u001b[0m\u001b[1;33m\u001b[0m\u001b[0m\n\u001b[1;32m--> 934\u001b[1;33m                 \u001b[0mself\u001b[0m\u001b[1;33m.\u001b[0m\u001b[0mretrieve\u001b[0m\u001b[1;33m(\u001b[0m\u001b[1;33m)\u001b[0m\u001b[1;33m\u001b[0m\u001b[1;33m\u001b[0m\u001b[0m\n\u001b[0m\u001b[0;32m    935\u001b[0m             \u001b[1;31m# Make sure that we get a last message telling us we are done\u001b[0m\u001b[1;33m\u001b[0m\u001b[1;33m\u001b[0m\u001b[1;33m\u001b[0m\u001b[0m\n\u001b[0;32m    936\u001b[0m             \u001b[0melapsed_time\u001b[0m \u001b[1;33m=\u001b[0m \u001b[0mtime\u001b[0m\u001b[1;33m.\u001b[0m\u001b[0mtime\u001b[0m\u001b[1;33m(\u001b[0m\u001b[1;33m)\u001b[0m \u001b[1;33m-\u001b[0m \u001b[0mself\u001b[0m\u001b[1;33m.\u001b[0m\u001b[0m_start_time\u001b[0m\u001b[1;33m\u001b[0m\u001b[1;33m\u001b[0m\u001b[0m\n",
      "\u001b[1;32m~\\Anaconda3\\lib\\site-packages\\joblib\\parallel.py\u001b[0m in \u001b[0;36mretrieve\u001b[1;34m(self)\u001b[0m\n\u001b[0;32m    831\u001b[0m             \u001b[1;32mtry\u001b[0m\u001b[1;33m:\u001b[0m\u001b[1;33m\u001b[0m\u001b[1;33m\u001b[0m\u001b[0m\n\u001b[0;32m    832\u001b[0m                 \u001b[1;32mif\u001b[0m \u001b[0mgetattr\u001b[0m\u001b[1;33m(\u001b[0m\u001b[0mself\u001b[0m\u001b[1;33m.\u001b[0m\u001b[0m_backend\u001b[0m\u001b[1;33m,\u001b[0m \u001b[1;34m'supports_timeout'\u001b[0m\u001b[1;33m,\u001b[0m \u001b[1;32mFalse\u001b[0m\u001b[1;33m)\u001b[0m\u001b[1;33m:\u001b[0m\u001b[1;33m\u001b[0m\u001b[1;33m\u001b[0m\u001b[0m\n\u001b[1;32m--> 833\u001b[1;33m                     \u001b[0mself\u001b[0m\u001b[1;33m.\u001b[0m\u001b[0m_output\u001b[0m\u001b[1;33m.\u001b[0m\u001b[0mextend\u001b[0m\u001b[1;33m(\u001b[0m\u001b[0mjob\u001b[0m\u001b[1;33m.\u001b[0m\u001b[0mget\u001b[0m\u001b[1;33m(\u001b[0m\u001b[0mtimeout\u001b[0m\u001b[1;33m=\u001b[0m\u001b[0mself\u001b[0m\u001b[1;33m.\u001b[0m\u001b[0mtimeout\u001b[0m\u001b[1;33m)\u001b[0m\u001b[1;33m)\u001b[0m\u001b[1;33m\u001b[0m\u001b[1;33m\u001b[0m\u001b[0m\n\u001b[0m\u001b[0;32m    834\u001b[0m                 \u001b[1;32melse\u001b[0m\u001b[1;33m:\u001b[0m\u001b[1;33m\u001b[0m\u001b[1;33m\u001b[0m\u001b[0m\n\u001b[0;32m    835\u001b[0m                     \u001b[0mself\u001b[0m\u001b[1;33m.\u001b[0m\u001b[0m_output\u001b[0m\u001b[1;33m.\u001b[0m\u001b[0mextend\u001b[0m\u001b[1;33m(\u001b[0m\u001b[0mjob\u001b[0m\u001b[1;33m.\u001b[0m\u001b[0mget\u001b[0m\u001b[1;33m(\u001b[0m\u001b[1;33m)\u001b[0m\u001b[1;33m)\u001b[0m\u001b[1;33m\u001b[0m\u001b[1;33m\u001b[0m\u001b[0m\n",
      "\u001b[1;32m~\\Anaconda3\\lib\\site-packages\\joblib\\_parallel_backends.py\u001b[0m in \u001b[0;36mwrap_future_result\u001b[1;34m(future, timeout)\u001b[0m\n\u001b[0;32m    519\u001b[0m         AsyncResults.get from multiprocessing.\"\"\"\n\u001b[0;32m    520\u001b[0m         \u001b[1;32mtry\u001b[0m\u001b[1;33m:\u001b[0m\u001b[1;33m\u001b[0m\u001b[1;33m\u001b[0m\u001b[0m\n\u001b[1;32m--> 521\u001b[1;33m             \u001b[1;32mreturn\u001b[0m \u001b[0mfuture\u001b[0m\u001b[1;33m.\u001b[0m\u001b[0mresult\u001b[0m\u001b[1;33m(\u001b[0m\u001b[0mtimeout\u001b[0m\u001b[1;33m=\u001b[0m\u001b[0mtimeout\u001b[0m\u001b[1;33m)\u001b[0m\u001b[1;33m\u001b[0m\u001b[1;33m\u001b[0m\u001b[0m\n\u001b[0m\u001b[0;32m    522\u001b[0m         \u001b[1;32mexcept\u001b[0m \u001b[0mLokyTimeoutError\u001b[0m\u001b[1;33m:\u001b[0m\u001b[1;33m\u001b[0m\u001b[1;33m\u001b[0m\u001b[0m\n\u001b[0;32m    523\u001b[0m             \u001b[1;32mraise\u001b[0m \u001b[0mTimeoutError\u001b[0m\u001b[1;33m(\u001b[0m\u001b[1;33m)\u001b[0m\u001b[1;33m\u001b[0m\u001b[1;33m\u001b[0m\u001b[0m\n",
      "\u001b[1;32m~\\Anaconda3\\lib\\concurrent\\futures\\_base.py\u001b[0m in \u001b[0;36mresult\u001b[1;34m(self, timeout)\u001b[0m\n\u001b[0;32m    430\u001b[0m                 \u001b[1;32mraise\u001b[0m \u001b[0mCancelledError\u001b[0m\u001b[1;33m(\u001b[0m\u001b[1;33m)\u001b[0m\u001b[1;33m\u001b[0m\u001b[1;33m\u001b[0m\u001b[0m\n\u001b[0;32m    431\u001b[0m             \u001b[1;32melif\u001b[0m \u001b[0mself\u001b[0m\u001b[1;33m.\u001b[0m\u001b[0m_state\u001b[0m \u001b[1;33m==\u001b[0m \u001b[0mFINISHED\u001b[0m\u001b[1;33m:\u001b[0m\u001b[1;33m\u001b[0m\u001b[1;33m\u001b[0m\u001b[0m\n\u001b[1;32m--> 432\u001b[1;33m                 \u001b[1;32mreturn\u001b[0m \u001b[0mself\u001b[0m\u001b[1;33m.\u001b[0m\u001b[0m__get_result\u001b[0m\u001b[1;33m(\u001b[0m\u001b[1;33m)\u001b[0m\u001b[1;33m\u001b[0m\u001b[1;33m\u001b[0m\u001b[0m\n\u001b[0m\u001b[0;32m    433\u001b[0m             \u001b[1;32melse\u001b[0m\u001b[1;33m:\u001b[0m\u001b[1;33m\u001b[0m\u001b[1;33m\u001b[0m\u001b[0m\n\u001b[0;32m    434\u001b[0m                 \u001b[1;32mraise\u001b[0m \u001b[0mTimeoutError\u001b[0m\u001b[1;33m(\u001b[0m\u001b[1;33m)\u001b[0m\u001b[1;33m\u001b[0m\u001b[1;33m\u001b[0m\u001b[0m\n",
      "\u001b[1;32m~\\Anaconda3\\lib\\concurrent\\futures\\_base.py\u001b[0m in \u001b[0;36m__get_result\u001b[1;34m(self)\u001b[0m\n\u001b[0;32m    382\u001b[0m     \u001b[1;32mdef\u001b[0m \u001b[0m__get_result\u001b[0m\u001b[1;33m(\u001b[0m\u001b[0mself\u001b[0m\u001b[1;33m)\u001b[0m\u001b[1;33m:\u001b[0m\u001b[1;33m\u001b[0m\u001b[1;33m\u001b[0m\u001b[0m\n\u001b[0;32m    383\u001b[0m         \u001b[1;32mif\u001b[0m \u001b[0mself\u001b[0m\u001b[1;33m.\u001b[0m\u001b[0m_exception\u001b[0m\u001b[1;33m:\u001b[0m\u001b[1;33m\u001b[0m\u001b[1;33m\u001b[0m\u001b[0m\n\u001b[1;32m--> 384\u001b[1;33m             \u001b[1;32mraise\u001b[0m \u001b[0mself\u001b[0m\u001b[1;33m.\u001b[0m\u001b[0m_exception\u001b[0m\u001b[1;33m\u001b[0m\u001b[1;33m\u001b[0m\u001b[0m\n\u001b[0m\u001b[0;32m    385\u001b[0m         \u001b[1;32melse\u001b[0m\u001b[1;33m:\u001b[0m\u001b[1;33m\u001b[0m\u001b[1;33m\u001b[0m\u001b[0m\n\u001b[0;32m    386\u001b[0m             \u001b[1;32mreturn\u001b[0m \u001b[0mself\u001b[0m\u001b[1;33m.\u001b[0m\u001b[0m_result\u001b[0m\u001b[1;33m\u001b[0m\u001b[1;33m\u001b[0m\u001b[0m\n",
      "\u001b[1;31mValueError\u001b[0m: could not convert string to float: 'Daniel CongrÃ©'"
     ]
    }
   ],
   "source": [
    "grid_search_rf.fit(X_train, y_train)"
   ]
  },
  {
   "cell_type": "code",
   "execution_count": null,
   "metadata": {},
   "outputs": [],
   "source": [
    "grid_search_rf.best_estimator_"
   ]
  },
  {
   "cell_type": "code",
   "execution_count": 98,
   "metadata": {},
   "outputs": [
    {
     "name": "stderr",
     "output_type": "stream",
     "text": [
      "C:\\Users\\zelru\\Anaconda3\\lib\\site-packages\\sklearn\\model_selection\\_split.py:657: Warning: The least populated class in y has only 1 members, which is too few. The minimum number of members in any class cannot be less than n_splits=5.\n",
      "  % (min_groups, self.n_splits)), Warning)\n"
     ]
    },
    {
     "name": "stdout",
     "output_type": "stream",
     "text": [
      "Rendimiento de Random Forest GS:\t0.624 ± 0.052\n"
     ]
    }
   ],
   "source": [
    "def evaluar_rendimiento(modelo, nombre, X_train, y_train, cv):\n",
    "    s = cross_val_score(modelo, X_train, y_train, cv=cv, n_jobs=-1)\n",
    "    print(\"Rendimiento de {}:\\t{:0.3} ± {:0.3}\".format( \\\n",
    "        nombre, s.mean().round(3), s.std().round(3)))\n",
    "    \n",
    "evaluar_rendimiento(grid_search_rf.best_estimator_,  \"Random Forest GS\", X_train, y_train, cv)"
   ]
  },
  {
   "cell_type": "code",
   "execution_count": 103,
   "metadata": {},
   "outputs": [
    {
     "name": "stdout",
     "output_type": "stream",
     "text": [
      "Best Estimator:  RandomForestRegressor(bootstrap=True, criterion='mse', max_depth=50,\n",
      "                      max_features=21, max_leaf_nodes=None,\n",
      "                      min_impurity_decrease=0.0, min_impurity_split=None,\n",
      "                      min_samples_leaf=1, min_samples_split=2,\n",
      "                      min_weight_fraction_leaf=0.0, n_estimators=50,\n",
      "                      n_jobs=None, oob_score=False, random_state=12345,\n",
      "                      verbose=0, warm_start=False)\n",
      "Train:  0.9419104121150773\n",
      "Test:  0.6011043253410917\n"
     ]
    }
   ],
   "source": [
    "rendimiento(grid_search_rf,X_train,X_test,y_train,y_test)"
   ]
  },
  {
   "cell_type": "code",
   "execution_count": 99,
   "metadata": {},
   "outputs": [],
   "source": [
    "RF = grid_search_rf.best_estimator_"
   ]
  },
  {
   "cell_type": "code",
   "execution_count": 100,
   "metadata": {},
   "outputs": [
    {
     "data": {
      "text/plain": [
       "RandomForestRegressor(bootstrap=True, criterion='mse', max_depth=50,\n",
       "                      max_features=21, max_leaf_nodes=None,\n",
       "                      min_impurity_decrease=0.0, min_impurity_split=None,\n",
       "                      min_samples_leaf=1, min_samples_split=2,\n",
       "                      min_weight_fraction_leaf=0.0, n_estimators=50,\n",
       "                      n_jobs=None, oob_score=False, random_state=12345,\n",
       "                      verbose=0, warm_start=False)"
      ]
     },
     "execution_count": 100,
     "metadata": {},
     "output_type": "execute_result"
    }
   ],
   "source": [
    "RF.fit(X_train,y_train)"
   ]
  },
  {
   "cell_type": "code",
   "execution_count": 101,
   "metadata": {},
   "outputs": [],
   "source": [
    "y_pred = RF.predict(X_test)"
   ]
  },
  {
   "cell_type": "code",
   "execution_count": null,
   "metadata": {},
   "outputs": [],
   "source": [
    "r2_score(y_test,y_pred)"
   ]
  },
  {
   "cell_type": "code",
   "execution_count": null,
   "metadata": {},
   "outputs": [],
   "source": [
    "pd.DataFrame({'atributo':data.columns, 'importancia':RF.feature_importances_}).sort_values('importancia', ascending = False).to_csv('Feature_Importance.csv')"
   ]
  },
  {
   "cell_type": "code",
   "execution_count": 106,
   "metadata": {
    "collapsed": true,
    "jupyter": {
     "outputs_hidden": true
    }
   },
   "outputs": [
    {
     "name": "stdout",
     "output_type": "stream",
     "text": [
      "0:\tlearn: 6321488.5987490\ttotal: 75.5ms\tremaining: 1m 15s\n",
      "1:\tlearn: 6233272.5484009\ttotal: 80.9ms\tremaining: 40.4s\n",
      "2:\tlearn: 6141703.5974749\ttotal: 86.3ms\tremaining: 28.7s\n",
      "3:\tlearn: 6055642.2368919\ttotal: 90.7ms\tremaining: 22.6s\n",
      "4:\tlearn: 5966909.4250125\ttotal: 98.9ms\tremaining: 19.7s\n",
      "5:\tlearn: 5885102.4884348\ttotal: 103ms\tremaining: 17.1s\n",
      "6:\tlearn: 5799068.1002490\ttotal: 108ms\tremaining: 15.3s\n",
      "7:\tlearn: 5727289.9418872\ttotal: 113ms\tremaining: 14s\n",
      "8:\tlearn: 5647196.9167449\ttotal: 117ms\tremaining: 12.9s\n",
      "9:\tlearn: 5572022.1668929\ttotal: 123ms\tremaining: 12.2s\n",
      "10:\tlearn: 5505817.8223432\ttotal: 132ms\tremaining: 11.8s\n",
      "11:\tlearn: 5431570.6576894\ttotal: 136ms\tremaining: 11.2s\n",
      "12:\tlearn: 5359891.6334201\ttotal: 144ms\tremaining: 10.9s\n",
      "13:\tlearn: 5302119.2298881\ttotal: 149ms\tremaining: 10.5s\n",
      "14:\tlearn: 5241621.2401751\ttotal: 155ms\tremaining: 10.2s\n",
      "15:\tlearn: 5181309.7260695\ttotal: 163ms\tremaining: 10s\n",
      "16:\tlearn: 5122411.9412822\ttotal: 167ms\tremaining: 9.68s\n",
      "17:\tlearn: 5064613.5089149\ttotal: 172ms\tremaining: 9.39s\n",
      "18:\tlearn: 5010968.0327408\ttotal: 177ms\tremaining: 9.13s\n",
      "19:\tlearn: 4957655.4344068\ttotal: 181ms\tremaining: 8.89s\n",
      "20:\tlearn: 4907716.5141149\ttotal: 188ms\tremaining: 8.76s\n",
      "21:\tlearn: 4851697.6204336\ttotal: 194ms\tremaining: 8.63s\n",
      "22:\tlearn: 4801441.0295138\ttotal: 200ms\tremaining: 8.51s\n",
      "23:\tlearn: 4761138.3843035\ttotal: 206ms\tremaining: 8.39s\n",
      "24:\tlearn: 4708568.8836774\ttotal: 213ms\tremaining: 8.3s\n",
      "25:\tlearn: 4657563.4320582\ttotal: 219ms\tremaining: 8.2s\n",
      "26:\tlearn: 4615357.6142507\ttotal: 223ms\tremaining: 8.04s\n",
      "27:\tlearn: 4571053.0312895\ttotal: 233ms\tremaining: 8.08s\n",
      "28:\tlearn: 4535163.1573821\ttotal: 237ms\tremaining: 7.95s\n",
      "29:\tlearn: 4495818.0383813\ttotal: 243ms\tremaining: 7.87s\n",
      "30:\tlearn: 4456425.0638904\ttotal: 248ms\tremaining: 7.74s\n",
      "31:\tlearn: 4417362.1116304\ttotal: 252ms\tremaining: 7.64s\n",
      "32:\tlearn: 4379091.9319182\ttotal: 257ms\tremaining: 7.53s\n",
      "33:\tlearn: 4343812.1236055\ttotal: 262ms\tremaining: 7.44s\n",
      "34:\tlearn: 4310812.8193422\ttotal: 266ms\tremaining: 7.34s\n",
      "35:\tlearn: 4276667.4241554\ttotal: 272ms\tremaining: 7.28s\n",
      "36:\tlearn: 4244980.6225075\ttotal: 279ms\tremaining: 7.25s\n",
      "37:\tlearn: 4213060.6279544\ttotal: 283ms\tremaining: 7.17s\n",
      "38:\tlearn: 4185395.4874823\ttotal: 288ms\tremaining: 7.09s\n",
      "39:\tlearn: 4156445.5912526\ttotal: 292ms\tremaining: 7.01s\n",
      "40:\tlearn: 4126930.4630780\ttotal: 303ms\tremaining: 7.08s\n",
      "41:\tlearn: 4099436.8889487\ttotal: 307ms\tremaining: 7.01s\n",
      "42:\tlearn: 4067054.8218875\ttotal: 312ms\tremaining: 6.94s\n",
      "43:\tlearn: 4038435.0520241\ttotal: 316ms\tremaining: 6.88s\n",
      "44:\tlearn: 4013385.1919124\ttotal: 321ms\tremaining: 6.81s\n",
      "45:\tlearn: 3985375.5539031\ttotal: 326ms\tremaining: 6.75s\n",
      "46:\tlearn: 3962511.4070551\ttotal: 334ms\tremaining: 6.77s\n",
      "47:\tlearn: 3936303.0339254\ttotal: 338ms\tremaining: 6.7s\n",
      "48:\tlearn: 3909670.5912131\ttotal: 342ms\tremaining: 6.64s\n",
      "49:\tlearn: 3888508.3147967\ttotal: 349ms\tremaining: 6.62s\n",
      "50:\tlearn: 3865617.2811104\ttotal: 353ms\tremaining: 6.57s\n",
      "51:\tlearn: 3845656.5430261\ttotal: 358ms\tremaining: 6.53s\n",
      "52:\tlearn: 3821460.4900851\ttotal: 364ms\tremaining: 6.51s\n",
      "53:\tlearn: 3805340.9220939\ttotal: 371ms\tremaining: 6.51s\n",
      "54:\tlearn: 3784374.3681076\ttotal: 375ms\tremaining: 6.45s\n",
      "55:\tlearn: 3764983.7394751\ttotal: 383ms\tremaining: 6.46s\n",
      "56:\tlearn: 3748883.7847696\ttotal: 389ms\tremaining: 6.44s\n",
      "57:\tlearn: 3726377.2291495\ttotal: 396ms\tremaining: 6.44s\n",
      "58:\tlearn: 3708560.0612433\ttotal: 400ms\tremaining: 6.38s\n",
      "59:\tlearn: 3688037.5533327\ttotal: 406ms\tremaining: 6.37s\n",
      "60:\tlearn: 3670528.0944910\ttotal: 411ms\tremaining: 6.33s\n",
      "61:\tlearn: 3652971.2207043\ttotal: 416ms\tremaining: 6.29s\n",
      "62:\tlearn: 3635727.8729668\ttotal: 420ms\tremaining: 6.25s\n",
      "63:\tlearn: 3621105.2930701\ttotal: 425ms\tremaining: 6.22s\n",
      "64:\tlearn: 3607526.7666006\ttotal: 431ms\tremaining: 6.19s\n",
      "65:\tlearn: 3590499.2422746\ttotal: 436ms\tremaining: 6.16s\n",
      "66:\tlearn: 3576289.7971996\ttotal: 441ms\tremaining: 6.14s\n",
      "67:\tlearn: 3567956.0061235\ttotal: 446ms\tremaining: 6.11s\n",
      "68:\tlearn: 3552265.7397631\ttotal: 450ms\tremaining: 6.07s\n",
      "69:\tlearn: 3539772.6349469\ttotal: 455ms\tremaining: 6.04s\n",
      "70:\tlearn: 3524400.5307613\ttotal: 461ms\tremaining: 6.03s\n",
      "71:\tlearn: 3512781.3157504\ttotal: 465ms\tremaining: 5.99s\n",
      "72:\tlearn: 3501211.1948300\ttotal: 471ms\tremaining: 5.98s\n",
      "73:\tlearn: 3488708.6244786\ttotal: 476ms\tremaining: 5.96s\n",
      "74:\tlearn: 3476666.5648969\ttotal: 481ms\tremaining: 5.93s\n",
      "75:\tlearn: 3464314.1287781\ttotal: 485ms\tremaining: 5.9s\n",
      "76:\tlearn: 3448864.3024323\ttotal: 494ms\tremaining: 5.93s\n",
      "77:\tlearn: 3439097.4744244\ttotal: 499ms\tremaining: 5.9s\n",
      "78:\tlearn: 3427087.9436340\ttotal: 506ms\tremaining: 5.9s\n",
      "79:\tlearn: 3419621.3492056\ttotal: 511ms\tremaining: 5.88s\n",
      "80:\tlearn: 3410432.3626820\ttotal: 516ms\tremaining: 5.85s\n",
      "81:\tlearn: 3405580.2200735\ttotal: 520ms\tremaining: 5.83s\n",
      "82:\tlearn: 3399369.9192128\ttotal: 526ms\tremaining: 5.81s\n",
      "83:\tlearn: 3389079.8107468\ttotal: 532ms\tremaining: 5.8s\n",
      "84:\tlearn: 3379104.4129427\ttotal: 536ms\tremaining: 5.77s\n",
      "85:\tlearn: 3373568.7431627\ttotal: 541ms\tremaining: 5.75s\n",
      "86:\tlearn: 3368104.2335191\ttotal: 546ms\tremaining: 5.73s\n",
      "87:\tlearn: 3355531.1827684\ttotal: 551ms\tremaining: 5.71s\n",
      "88:\tlearn: 3350623.4071410\ttotal: 558ms\tremaining: 5.71s\n",
      "89:\tlearn: 3342160.6869522\ttotal: 564ms\tremaining: 5.7s\n",
      "90:\tlearn: 3332976.0529468\ttotal: 568ms\tremaining: 5.67s\n",
      "91:\tlearn: 3325671.2696754\ttotal: 572ms\tremaining: 5.64s\n",
      "92:\tlearn: 3320767.5359810\ttotal: 578ms\tremaining: 5.64s\n",
      "93:\tlearn: 3311908.7212260\ttotal: 584ms\tremaining: 5.63s\n",
      "94:\tlearn: 3303902.0010032\ttotal: 592ms\tremaining: 5.63s\n",
      "95:\tlearn: 3293245.0982998\ttotal: 596ms\tremaining: 5.62s\n",
      "96:\tlearn: 3284582.5855210\ttotal: 603ms\tremaining: 5.61s\n",
      "97:\tlearn: 3278489.9809742\ttotal: 608ms\tremaining: 5.59s\n",
      "98:\tlearn: 3275967.0248851\ttotal: 612ms\tremaining: 5.57s\n",
      "99:\tlearn: 3268587.1646423\ttotal: 616ms\tremaining: 5.54s\n",
      "100:\tlearn: 3262032.6588074\ttotal: 625ms\tremaining: 5.56s\n",
      "101:\tlearn: 3252210.0660434\ttotal: 632ms\tremaining: 5.56s\n",
      "102:\tlearn: 3246189.8326759\ttotal: 637ms\tremaining: 5.55s\n",
      "103:\tlearn: 3241854.9592725\ttotal: 641ms\tremaining: 5.52s\n",
      "104:\tlearn: 3239384.2024039\ttotal: 646ms\tremaining: 5.5s\n",
      "105:\tlearn: 3230401.0564918\ttotal: 649ms\tremaining: 5.48s\n",
      "106:\tlearn: 3225989.7098066\ttotal: 656ms\tremaining: 5.48s\n",
      "107:\tlearn: 3218906.9924668\ttotal: 660ms\tremaining: 5.45s\n",
      "108:\tlearn: 3207736.9946639\ttotal: 666ms\tremaining: 5.44s\n",
      "109:\tlearn: 3204441.1917222\ttotal: 670ms\tremaining: 5.42s\n",
      "110:\tlearn: 3198931.3658260\ttotal: 675ms\tremaining: 5.4s\n",
      "111:\tlearn: 3195725.2482788\ttotal: 679ms\tremaining: 5.38s\n",
      "112:\tlearn: 3186422.8158515\ttotal: 685ms\tremaining: 5.37s\n",
      "113:\tlearn: 3177991.5080428\ttotal: 694ms\tremaining: 5.39s\n",
      "114:\tlearn: 3170499.2680663\ttotal: 698ms\tremaining: 5.37s\n",
      "115:\tlearn: 3167093.9400326\ttotal: 704ms\tremaining: 5.37s\n",
      "116:\tlearn: 3163639.5356163\ttotal: 710ms\tremaining: 5.36s\n",
      "117:\tlearn: 3158779.8977130\ttotal: 716ms\tremaining: 5.35s\n",
      "118:\tlearn: 3152943.8653547\ttotal: 720ms\tremaining: 5.33s\n",
      "119:\tlearn: 3147345.5217859\ttotal: 726ms\tremaining: 5.33s\n",
      "120:\tlearn: 3139615.1255465\ttotal: 731ms\tremaining: 5.31s\n",
      "121:\tlearn: 3136137.4062044\ttotal: 735ms\tremaining: 5.29s\n",
      "122:\tlearn: 3132286.3704535\ttotal: 741ms\tremaining: 5.29s\n",
      "123:\tlearn: 3125740.2522495\ttotal: 747ms\tremaining: 5.28s\n",
      "124:\tlearn: 3118823.1803373\ttotal: 753ms\tremaining: 5.27s\n",
      "125:\tlearn: 3113906.4322278\ttotal: 762ms\tremaining: 5.28s\n",
      "126:\tlearn: 3111761.2948547\ttotal: 766ms\tremaining: 5.26s\n",
      "127:\tlearn: 3103913.0872825\ttotal: 770ms\tremaining: 5.25s\n",
      "128:\tlearn: 3097164.1013896\ttotal: 776ms\tremaining: 5.24s\n",
      "129:\tlearn: 3093683.1564811\ttotal: 781ms\tremaining: 5.22s\n",
      "130:\tlearn: 3088012.1691247\ttotal: 785ms\tremaining: 5.21s\n",
      "131:\tlearn: 3084853.7027893\ttotal: 794ms\tremaining: 5.22s\n",
      "132:\tlearn: 3081129.9432811\ttotal: 800ms\tremaining: 5.21s\n",
      "133:\tlearn: 3073920.3211706\ttotal: 804ms\tremaining: 5.2s\n",
      "134:\tlearn: 3068123.0585751\ttotal: 808ms\tremaining: 5.18s\n",
      "135:\tlearn: 3062156.8348445\ttotal: 813ms\tremaining: 5.17s\n",
      "136:\tlearn: 3057054.6653771\ttotal: 818ms\tremaining: 5.15s\n",
      "137:\tlearn: 3051689.8819075\ttotal: 824ms\tremaining: 5.15s\n",
      "138:\tlearn: 3046225.1063149\ttotal: 828ms\tremaining: 5.13s\n",
      "139:\tlearn: 3042616.1455410\ttotal: 833ms\tremaining: 5.12s\n",
      "140:\tlearn: 3036300.6301610\ttotal: 838ms\tremaining: 5.11s\n",
      "141:\tlearn: 3029121.6803294\ttotal: 842ms\tremaining: 5.09s\n",
      "142:\tlearn: 3024207.8433217\ttotal: 847ms\tremaining: 5.08s\n",
      "143:\tlearn: 3018427.4890277\ttotal: 853ms\tremaining: 5.07s\n",
      "144:\tlearn: 3013858.5822873\ttotal: 859ms\tremaining: 5.07s\n",
      "145:\tlearn: 3009064.3785141\ttotal: 864ms\tremaining: 5.05s\n",
      "146:\tlearn: 3004057.2088901\ttotal: 869ms\tremaining: 5.04s\n",
      "147:\tlearn: 2998820.2195079\ttotal: 873ms\tremaining: 5.03s\n",
      "148:\tlearn: 2991324.1704247\ttotal: 879ms\tremaining: 5.02s\n",
      "149:\tlearn: 2988287.0777353\ttotal: 887ms\tremaining: 5.02s\n",
      "150:\tlearn: 2981625.0273380\ttotal: 893ms\tremaining: 5.02s\n",
      "151:\tlearn: 2974345.4123403\ttotal: 897ms\tremaining: 5.01s\n",
      "152:\tlearn: 2971111.2778102\ttotal: 904ms\tremaining: 5s\n",
      "153:\tlearn: 2968602.6025049\ttotal: 912ms\tremaining: 5.01s\n",
      "154:\tlearn: 2966133.1338103\ttotal: 917ms\tremaining: 5s\n",
      "155:\tlearn: 2960466.4519728\ttotal: 924ms\tremaining: 5s\n",
      "156:\tlearn: 2955167.5896231\ttotal: 929ms\tremaining: 4.99s\n",
      "157:\tlearn: 2950539.5390303\ttotal: 933ms\tremaining: 4.97s\n",
      "158:\tlearn: 2944340.9231056\ttotal: 940ms\tremaining: 4.97s\n",
      "159:\tlearn: 2938251.8697564\ttotal: 945ms\tremaining: 4.96s\n",
      "160:\tlearn: 2936022.2165206\ttotal: 951ms\tremaining: 4.96s\n",
      "161:\tlearn: 2929632.3374589\ttotal: 957ms\tremaining: 4.95s\n",
      "162:\tlearn: 2924946.0555132\ttotal: 963ms\tremaining: 4.95s\n",
      "163:\tlearn: 2919240.9449868\ttotal: 968ms\tremaining: 4.93s\n",
      "164:\tlearn: 2917177.3440859\ttotal: 972ms\tremaining: 4.92s\n",
      "165:\tlearn: 2914805.7344216\ttotal: 977ms\tremaining: 4.91s\n",
      "166:\tlearn: 2913242.8167634\ttotal: 982ms\tremaining: 4.9s\n",
      "167:\tlearn: 2911134.4661076\ttotal: 989ms\tremaining: 4.9s\n",
      "168:\tlearn: 2906422.2205259\ttotal: 996ms\tremaining: 4.89s\n",
      "169:\tlearn: 2900669.6789844\ttotal: 1000ms\tremaining: 4.88s\n",
      "170:\tlearn: 2896763.2589237\ttotal: 1s\tremaining: 4.87s\n",
      "171:\tlearn: 2893642.1637389\ttotal: 1.01s\tremaining: 4.87s\n",
      "172:\tlearn: 2891549.2971276\ttotal: 1.01s\tremaining: 4.85s\n",
      "173:\tlearn: 2886023.6075816\ttotal: 1.02s\tremaining: 4.87s\n",
      "174:\tlearn: 2880296.0120867\ttotal: 1.03s\tremaining: 4.86s\n",
      "175:\tlearn: 2875987.3131137\ttotal: 1.04s\tremaining: 4.86s\n",
      "176:\tlearn: 2874070.4769371\ttotal: 1.04s\tremaining: 4.85s\n",
      "177:\tlearn: 2872338.9339900\ttotal: 1.05s\tremaining: 4.84s\n",
      "178:\tlearn: 2866916.6167420\ttotal: 1.05s\tremaining: 4.83s\n",
      "179:\tlearn: 2863614.3551870\ttotal: 1.06s\tremaining: 4.83s\n",
      "180:\tlearn: 2860413.7751304\ttotal: 1.07s\tremaining: 4.83s\n",
      "181:\tlearn: 2854753.4460052\ttotal: 1.07s\tremaining: 4.82s\n",
      "182:\tlearn: 2852970.3699293\ttotal: 1.08s\tremaining: 4.81s\n",
      "183:\tlearn: 2845776.6002166\ttotal: 1.08s\tremaining: 4.8s\n",
      "184:\tlearn: 2842061.5297582\ttotal: 1.09s\tremaining: 4.8s\n",
      "185:\tlearn: 2836499.6387972\ttotal: 1.09s\tremaining: 4.79s\n",
      "186:\tlearn: 2828588.3541314\ttotal: 1.1s\tremaining: 4.78s\n",
      "187:\tlearn: 2826059.0978479\ttotal: 1.1s\tremaining: 4.77s\n",
      "188:\tlearn: 2823999.2403828\ttotal: 1.11s\tremaining: 4.75s\n",
      "189:\tlearn: 2820386.6725600\ttotal: 1.11s\tremaining: 4.75s\n",
      "190:\tlearn: 2812598.6807794\ttotal: 1.12s\tremaining: 4.74s\n",
      "191:\tlearn: 2811258.8341499\ttotal: 1.12s\tremaining: 4.73s\n",
      "192:\tlearn: 2810521.4402453\ttotal: 1.13s\tremaining: 4.72s\n",
      "193:\tlearn: 2808200.9758863\ttotal: 1.13s\tremaining: 4.71s\n",
      "194:\tlearn: 2806838.9783937\ttotal: 1.14s\tremaining: 4.7s\n",
      "195:\tlearn: 2805318.8357363\ttotal: 1.14s\tremaining: 4.69s\n",
      "196:\tlearn: 2804642.1663214\ttotal: 1.15s\tremaining: 4.69s\n",
      "197:\tlearn: 2802361.0784396\ttotal: 1.16s\tremaining: 4.69s\n",
      "198:\tlearn: 2799917.3778956\ttotal: 1.16s\tremaining: 4.69s\n",
      "199:\tlearn: 2795865.0806031\ttotal: 1.17s\tremaining: 4.68s\n",
      "200:\tlearn: 2792532.1022568\ttotal: 1.17s\tremaining: 4.67s\n",
      "201:\tlearn: 2788996.1584941\ttotal: 1.18s\tremaining: 4.66s\n",
      "202:\tlearn: 2785679.8578962\ttotal: 1.19s\tremaining: 4.67s\n",
      "203:\tlearn: 2783016.8399528\ttotal: 1.19s\tremaining: 4.66s\n",
      "204:\tlearn: 2781488.7127727\ttotal: 1.2s\tremaining: 4.65s\n",
      "205:\tlearn: 2780204.5218754\ttotal: 1.2s\tremaining: 4.63s\n",
      "206:\tlearn: 2779357.4027992\ttotal: 1.21s\tremaining: 4.63s\n",
      "207:\tlearn: 2778094.0354889\ttotal: 1.21s\tremaining: 4.62s\n",
      "208:\tlearn: 2773027.0026351\ttotal: 1.22s\tremaining: 4.63s\n",
      "209:\tlearn: 2765811.9033803\ttotal: 1.23s\tremaining: 4.62s\n",
      "210:\tlearn: 2760296.3249224\ttotal: 1.23s\tremaining: 4.61s\n",
      "211:\tlearn: 2756075.5377687\ttotal: 1.24s\tremaining: 4.6s\n",
      "212:\tlearn: 2746287.6926376\ttotal: 1.24s\tremaining: 4.6s\n",
      "213:\tlearn: 2745051.3768539\ttotal: 1.25s\tremaining: 4.59s\n",
      "214:\tlearn: 2743496.1874885\ttotal: 1.26s\tremaining: 4.59s\n",
      "215:\tlearn: 2741177.3134972\ttotal: 1.26s\tremaining: 4.59s\n",
      "216:\tlearn: 2740014.3395566\ttotal: 1.27s\tremaining: 4.58s\n",
      "217:\tlearn: 2737106.4285140\ttotal: 1.27s\tremaining: 4.57s\n",
      "218:\tlearn: 2730251.8199395\ttotal: 1.28s\tremaining: 4.57s\n",
      "219:\tlearn: 2726899.7168821\ttotal: 1.29s\tremaining: 4.57s\n",
      "220:\tlearn: 2725052.5880500\ttotal: 1.29s\tremaining: 4.55s\n",
      "221:\tlearn: 2720792.0081032\ttotal: 1.3s\tremaining: 4.54s\n",
      "222:\tlearn: 2719745.2142973\ttotal: 1.3s\tremaining: 4.53s\n",
      "223:\tlearn: 2718414.8651130\ttotal: 1.3s\tremaining: 4.52s\n",
      "224:\tlearn: 2716749.8056419\ttotal: 1.31s\tremaining: 4.51s\n",
      "225:\tlearn: 2711997.8919890\ttotal: 1.31s\tremaining: 4.5s\n",
      "226:\tlearn: 2708010.9857745\ttotal: 1.32s\tremaining: 4.49s\n",
      "227:\tlearn: 2705747.5096915\ttotal: 1.32s\tremaining: 4.48s\n",
      "228:\tlearn: 2704567.2779309\ttotal: 1.33s\tremaining: 4.47s\n",
      "229:\tlearn: 2700542.7342235\ttotal: 1.33s\tremaining: 4.46s\n",
      "230:\tlearn: 2698637.0990164\ttotal: 1.34s\tremaining: 4.46s\n",
      "231:\tlearn: 2697158.3983769\ttotal: 1.34s\tremaining: 4.45s\n",
      "232:\tlearn: 2691647.2036515\ttotal: 1.35s\tremaining: 4.44s\n",
      "233:\tlearn: 2687499.5394667\ttotal: 1.35s\tremaining: 4.43s\n",
      "234:\tlearn: 2680281.8045296\ttotal: 1.36s\tremaining: 4.43s\n",
      "235:\tlearn: 2679239.6819409\ttotal: 1.37s\tremaining: 4.42s\n",
      "236:\tlearn: 2677423.0341152\ttotal: 1.37s\tremaining: 4.42s\n",
      "237:\tlearn: 2675056.4828994\ttotal: 1.38s\tremaining: 4.4s\n",
      "238:\tlearn: 2672788.0890641\ttotal: 1.38s\tremaining: 4.4s\n",
      "239:\tlearn: 2670964.9233502\ttotal: 1.39s\tremaining: 4.4s\n",
      "240:\tlearn: 2670392.1363399\ttotal: 1.39s\tremaining: 4.39s\n",
      "241:\tlearn: 2669257.1132747\ttotal: 1.4s\tremaining: 4.39s\n",
      "242:\tlearn: 2666924.0109911\ttotal: 1.4s\tremaining: 4.38s\n",
      "243:\tlearn: 2661738.0949973\ttotal: 1.41s\tremaining: 4.37s\n",
      "244:\tlearn: 2658555.7018808\ttotal: 1.41s\tremaining: 4.36s\n",
      "245:\tlearn: 2657680.6231204\ttotal: 1.42s\tremaining: 4.35s\n",
      "246:\tlearn: 2656845.7163336\ttotal: 1.42s\tremaining: 4.34s\n",
      "247:\tlearn: 2653649.8754661\ttotal: 1.43s\tremaining: 4.34s\n",
      "248:\tlearn: 2652394.1968311\ttotal: 1.44s\tremaining: 4.33s\n",
      "249:\tlearn: 2650450.0374154\ttotal: 1.44s\tremaining: 4.32s\n",
      "250:\tlearn: 2649713.9652532\ttotal: 1.45s\tremaining: 4.31s\n",
      "251:\tlearn: 2645365.0827511\ttotal: 1.45s\tremaining: 4.3s\n",
      "252:\tlearn: 2642181.7123166\ttotal: 1.46s\tremaining: 4.3s\n",
      "253:\tlearn: 2640090.3464269\ttotal: 1.46s\tremaining: 4.29s\n",
      "254:\tlearn: 2636645.4530649\ttotal: 1.47s\tremaining: 4.28s\n",
      "255:\tlearn: 2636381.8658775\ttotal: 1.47s\tremaining: 4.27s\n",
      "256:\tlearn: 2635323.6946568\ttotal: 1.48s\tremaining: 4.28s\n",
      "257:\tlearn: 2631870.2373243\ttotal: 1.49s\tremaining: 4.27s\n",
      "258:\tlearn: 2630338.3069473\ttotal: 1.49s\tremaining: 4.27s\n",
      "259:\tlearn: 2627465.5583993\ttotal: 1.5s\tremaining: 4.26s\n",
      "260:\tlearn: 2626233.2601454\ttotal: 1.5s\tremaining: 4.26s\n",
      "261:\tlearn: 2625400.3569123\ttotal: 1.51s\tremaining: 4.25s\n",
      "262:\tlearn: 2623253.2158487\ttotal: 1.51s\tremaining: 4.25s\n",
      "263:\tlearn: 2620750.1858113\ttotal: 1.52s\tremaining: 4.25s\n",
      "264:\tlearn: 2620022.4614727\ttotal: 1.53s\tremaining: 4.24s\n",
      "265:\tlearn: 2619356.2482228\ttotal: 1.53s\tremaining: 4.23s\n",
      "266:\tlearn: 2618349.0013316\ttotal: 1.54s\tremaining: 4.23s\n",
      "267:\tlearn: 2617488.7630827\ttotal: 1.55s\tremaining: 4.22s\n",
      "268:\tlearn: 2616905.8526493\ttotal: 1.55s\tremaining: 4.21s\n",
      "269:\tlearn: 2612925.4541827\ttotal: 1.56s\tremaining: 4.21s\n",
      "270:\tlearn: 2611283.1430123\ttotal: 1.57s\tremaining: 4.22s\n",
      "271:\tlearn: 2610446.6327929\ttotal: 1.57s\tremaining: 4.21s\n",
      "272:\tlearn: 2607781.8680216\ttotal: 1.58s\tremaining: 4.21s\n",
      "273:\tlearn: 2606466.2673358\ttotal: 1.58s\tremaining: 4.2s\n",
      "274:\tlearn: 2603801.8739175\ttotal: 1.59s\tremaining: 4.19s\n",
      "275:\tlearn: 2602427.4983090\ttotal: 1.59s\tremaining: 4.19s\n",
      "276:\tlearn: 2599656.7684534\ttotal: 1.6s\tremaining: 4.18s\n",
      "277:\tlearn: 2596424.5743254\ttotal: 1.61s\tremaining: 4.18s\n",
      "278:\tlearn: 2594037.8937102\ttotal: 1.61s\tremaining: 4.17s\n",
      "279:\tlearn: 2590370.5628554\ttotal: 1.62s\tremaining: 4.16s\n",
      "280:\tlearn: 2586233.6596925\ttotal: 1.63s\tremaining: 4.16s\n",
      "281:\tlearn: 2581200.4147327\ttotal: 1.64s\tremaining: 4.18s\n",
      "282:\tlearn: 2580685.6548412\ttotal: 1.65s\tremaining: 4.18s\n",
      "283:\tlearn: 2579845.3787548\ttotal: 1.66s\tremaining: 4.18s\n",
      "284:\tlearn: 2579132.1029979\ttotal: 1.66s\tremaining: 4.17s\n",
      "285:\tlearn: 2574874.3188701\ttotal: 1.67s\tremaining: 4.16s\n",
      "286:\tlearn: 2571060.8211460\ttotal: 1.67s\tremaining: 4.16s\n",
      "287:\tlearn: 2570098.9609168\ttotal: 1.68s\tremaining: 4.15s\n",
      "288:\tlearn: 2565742.4583002\ttotal: 1.68s\tremaining: 4.14s\n",
      "289:\tlearn: 2563549.9866756\ttotal: 1.7s\tremaining: 4.16s\n",
      "290:\tlearn: 2561244.7708874\ttotal: 1.71s\tremaining: 4.16s\n",
      "291:\tlearn: 2560955.8768798\ttotal: 1.71s\tremaining: 4.15s\n",
      "292:\tlearn: 2557019.7718745\ttotal: 1.72s\tremaining: 4.14s\n",
      "293:\tlearn: 2552539.8648347\ttotal: 1.72s\tremaining: 4.13s\n",
      "294:\tlearn: 2551943.3045238\ttotal: 1.73s\tremaining: 4.13s\n",
      "295:\tlearn: 2550374.3349963\ttotal: 1.74s\tremaining: 4.14s\n",
      "296:\tlearn: 2549602.6892889\ttotal: 1.74s\tremaining: 4.13s\n",
      "297:\tlearn: 2548032.4895218\ttotal: 1.75s\tremaining: 4.12s\n",
      "298:\tlearn: 2547202.1144562\ttotal: 1.75s\tremaining: 4.11s\n",
      "299:\tlearn: 2545805.8579037\ttotal: 1.76s\tremaining: 4.11s\n",
      "300:\tlearn: 2544946.8468468\ttotal: 1.77s\tremaining: 4.1s\n",
      "301:\tlearn: 2540866.3537707\ttotal: 1.78s\tremaining: 4.11s\n",
      "302:\tlearn: 2540221.5743608\ttotal: 1.78s\tremaining: 4.1s\n",
      "303:\tlearn: 2539574.9872147\ttotal: 1.79s\tremaining: 4.1s\n",
      "304:\tlearn: 2538272.0647153\ttotal: 1.79s\tremaining: 4.09s\n",
      "305:\tlearn: 2537552.4057702\ttotal: 1.8s\tremaining: 4.08s\n",
      "306:\tlearn: 2536982.9863850\ttotal: 1.8s\tremaining: 4.08s\n",
      "307:\tlearn: 2536575.7933116\ttotal: 1.81s\tremaining: 4.07s\n",
      "308:\tlearn: 2532780.4518821\ttotal: 1.82s\tremaining: 4.06s\n",
      "309:\tlearn: 2529375.5567161\ttotal: 1.82s\tremaining: 4.06s\n",
      "310:\tlearn: 2525605.7755495\ttotal: 1.83s\tremaining: 4.05s\n",
      "311:\tlearn: 2522849.9183722\ttotal: 1.83s\tremaining: 4.04s\n",
      "312:\tlearn: 2521890.2098604\ttotal: 1.84s\tremaining: 4.03s\n",
      "313:\tlearn: 2516916.7710081\ttotal: 1.84s\tremaining: 4.03s\n",
      "314:\tlearn: 2513110.1627806\ttotal: 1.85s\tremaining: 4.03s\n",
      "315:\tlearn: 2511008.9078179\ttotal: 1.86s\tremaining: 4.02s\n",
      "316:\tlearn: 2510289.3359030\ttotal: 1.86s\tremaining: 4.01s\n",
      "317:\tlearn: 2508039.1776091\ttotal: 1.87s\tremaining: 4s\n",
      "318:\tlearn: 2506083.3556172\ttotal: 1.87s\tremaining: 4s\n",
      "319:\tlearn: 2505552.1773871\ttotal: 1.88s\tremaining: 3.99s\n",
      "320:\tlearn: 2503540.5059197\ttotal: 1.88s\tremaining: 3.98s\n",
      "321:\tlearn: 2502062.0002443\ttotal: 1.89s\tremaining: 3.98s\n",
      "322:\tlearn: 2496825.3148753\ttotal: 1.9s\tremaining: 3.97s\n",
      "323:\tlearn: 2496042.0986069\ttotal: 1.9s\tremaining: 3.97s\n",
      "324:\tlearn: 2494535.5865867\ttotal: 1.91s\tremaining: 3.97s\n",
      "325:\tlearn: 2489739.1137383\ttotal: 1.92s\tremaining: 3.97s\n",
      "326:\tlearn: 2489056.3998620\ttotal: 1.92s\tremaining: 3.96s\n",
      "327:\tlearn: 2485529.6371696\ttotal: 1.93s\tremaining: 3.95s\n",
      "328:\tlearn: 2484904.5497268\ttotal: 1.93s\tremaining: 3.94s\n",
      "329:\tlearn: 2480943.7312207\ttotal: 1.94s\tremaining: 3.93s\n",
      "330:\tlearn: 2479344.8158962\ttotal: 1.94s\tremaining: 3.92s\n",
      "331:\tlearn: 2479030.8813674\ttotal: 1.95s\tremaining: 3.92s\n",
      "332:\tlearn: 2476611.1873580\ttotal: 1.95s\tremaining: 3.91s\n",
      "333:\tlearn: 2475377.6338780\ttotal: 1.96s\tremaining: 3.91s\n",
      "334:\tlearn: 2474542.9036672\ttotal: 1.97s\tremaining: 3.9s\n",
      "335:\tlearn: 2472807.5577140\ttotal: 1.97s\tremaining: 3.9s\n",
      "336:\tlearn: 2470575.9127113\ttotal: 1.98s\tremaining: 3.89s\n",
      "337:\tlearn: 2465961.6579667\ttotal: 1.98s\tremaining: 3.88s\n",
      "338:\tlearn: 2465132.4193644\ttotal: 1.99s\tremaining: 3.87s\n",
      "339:\tlearn: 2461628.3962260\ttotal: 1.99s\tremaining: 3.86s\n",
      "340:\tlearn: 2459400.6598784\ttotal: 2s\tremaining: 3.85s\n",
      "341:\tlearn: 2458417.4030366\ttotal: 2s\tremaining: 3.85s\n",
      "342:\tlearn: 2456858.6185559\ttotal: 2.01s\tremaining: 3.85s\n",
      "343:\tlearn: 2452879.3795692\ttotal: 2.01s\tremaining: 3.84s\n",
      "344:\tlearn: 2450406.1720665\ttotal: 2.02s\tremaining: 3.83s\n",
      "345:\tlearn: 2446664.3160691\ttotal: 2.02s\tremaining: 3.82s\n",
      "346:\tlearn: 2445908.2634858\ttotal: 2.03s\tremaining: 3.82s\n",
      "347:\tlearn: 2444906.1519746\ttotal: 2.03s\tremaining: 3.81s\n",
      "348:\tlearn: 2443713.8421827\ttotal: 2.04s\tremaining: 3.81s\n",
      "349:\tlearn: 2443430.1923604\ttotal: 2.05s\tremaining: 3.8s\n",
      "350:\tlearn: 2441639.9205914\ttotal: 2.05s\tremaining: 3.79s\n",
      "351:\tlearn: 2441400.7436304\ttotal: 2.06s\tremaining: 3.79s\n",
      "352:\tlearn: 2437570.7830417\ttotal: 2.06s\tremaining: 3.78s\n",
      "353:\tlearn: 2436834.1617768\ttotal: 2.06s\tremaining: 3.77s\n",
      "354:\tlearn: 2436105.9907481\ttotal: 2.07s\tremaining: 3.76s\n",
      "355:\tlearn: 2435286.5402042\ttotal: 2.08s\tremaining: 3.76s\n",
      "356:\tlearn: 2434178.6532798\ttotal: 2.08s\tremaining: 3.75s\n",
      "357:\tlearn: 2433443.0377932\ttotal: 2.09s\tremaining: 3.74s\n",
      "358:\tlearn: 2429366.9666696\ttotal: 2.09s\tremaining: 3.74s\n",
      "359:\tlearn: 2429081.1034525\ttotal: 2.1s\tremaining: 3.73s\n",
      "360:\tlearn: 2425589.6843836\ttotal: 2.1s\tremaining: 3.72s\n",
      "361:\tlearn: 2425326.9364742\ttotal: 2.11s\tremaining: 3.72s\n",
      "362:\tlearn: 2421728.2744915\ttotal: 2.11s\tremaining: 3.71s\n",
      "363:\tlearn: 2420526.6280897\ttotal: 2.12s\tremaining: 3.7s\n",
      "364:\tlearn: 2416928.3873398\ttotal: 2.12s\tremaining: 3.69s\n",
      "365:\tlearn: 2415624.1081223\ttotal: 2.13s\tremaining: 3.69s\n",
      "366:\tlearn: 2411883.9113367\ttotal: 2.13s\tremaining: 3.68s\n",
      "367:\tlearn: 2409910.7897130\ttotal: 2.14s\tremaining: 3.68s\n",
      "368:\tlearn: 2406171.2083732\ttotal: 2.15s\tremaining: 3.68s\n",
      "369:\tlearn: 2404289.8080755\ttotal: 2.16s\tremaining: 3.67s\n",
      "370:\tlearn: 2403201.6947945\ttotal: 2.16s\tremaining: 3.67s\n",
      "371:\tlearn: 2402937.6574228\ttotal: 2.17s\tremaining: 3.66s\n",
      "372:\tlearn: 2402645.7061899\ttotal: 2.18s\tremaining: 3.67s\n",
      "373:\tlearn: 2396928.7707660\ttotal: 2.19s\tremaining: 3.67s\n",
      "374:\tlearn: 2392865.3531183\ttotal: 2.19s\tremaining: 3.66s\n",
      "375:\tlearn: 2392204.2403284\ttotal: 2.2s\tremaining: 3.65s\n",
      "376:\tlearn: 2391520.0566120\ttotal: 2.21s\tremaining: 3.64s\n",
      "377:\tlearn: 2391199.4280972\ttotal: 2.21s\tremaining: 3.64s\n",
      "378:\tlearn: 2389407.2707146\ttotal: 2.22s\tremaining: 3.64s\n",
      "379:\tlearn: 2388359.2619724\ttotal: 2.22s\tremaining: 3.63s\n",
      "380:\tlearn: 2385004.5059695\ttotal: 2.23s\tremaining: 3.62s\n",
      "381:\tlearn: 2384370.5187504\ttotal: 2.23s\tremaining: 3.61s\n",
      "382:\tlearn: 2381583.8862271\ttotal: 2.24s\tremaining: 3.6s\n",
      "383:\tlearn: 2377974.1467902\ttotal: 2.24s\tremaining: 3.6s\n",
      "384:\tlearn: 2374661.6218242\ttotal: 2.25s\tremaining: 3.6s\n",
      "385:\tlearn: 2370458.7653425\ttotal: 2.26s\tremaining: 3.59s\n",
      "386:\tlearn: 2367012.5155049\ttotal: 2.26s\tremaining: 3.59s\n",
      "387:\tlearn: 2365761.3822355\ttotal: 2.27s\tremaining: 3.58s\n",
      "388:\tlearn: 2362146.0271166\ttotal: 2.28s\tremaining: 3.58s\n",
      "389:\tlearn: 2359267.7873217\ttotal: 2.28s\tremaining: 3.57s\n",
      "390:\tlearn: 2358965.6391300\ttotal: 2.29s\tremaining: 3.56s\n",
      "391:\tlearn: 2356849.7888808\ttotal: 2.29s\tremaining: 3.56s\n",
      "392:\tlearn: 2355596.4170892\ttotal: 2.3s\tremaining: 3.55s\n",
      "393:\tlearn: 2352272.8673844\ttotal: 2.3s\tremaining: 3.54s\n",
      "394:\tlearn: 2347820.5606213\ttotal: 2.31s\tremaining: 3.54s\n",
      "395:\tlearn: 2346606.0935009\ttotal: 2.31s\tremaining: 3.53s\n",
      "396:\tlearn: 2343342.3997048\ttotal: 2.32s\tremaining: 3.52s\n",
      "397:\tlearn: 2340309.9149528\ttotal: 2.32s\tremaining: 3.51s\n",
      "398:\tlearn: 2340019.0024286\ttotal: 2.33s\tremaining: 3.51s\n",
      "399:\tlearn: 2339375.8010890\ttotal: 2.34s\tremaining: 3.5s\n",
      "400:\tlearn: 2339059.4544298\ttotal: 2.34s\tremaining: 3.5s\n",
      "401:\tlearn: 2338422.2935935\ttotal: 2.35s\tremaining: 3.49s\n",
      "402:\tlearn: 2334207.9300905\ttotal: 2.35s\tremaining: 3.49s\n",
      "403:\tlearn: 2331113.1097379\ttotal: 2.36s\tremaining: 3.48s\n",
      "404:\tlearn: 2326391.1817716\ttotal: 2.37s\tremaining: 3.48s\n",
      "405:\tlearn: 2325361.4762634\ttotal: 2.37s\tremaining: 3.47s\n",
      "406:\tlearn: 2323741.7767208\ttotal: 2.38s\tremaining: 3.46s\n",
      "407:\tlearn: 2323466.5112553\ttotal: 2.38s\tremaining: 3.46s\n",
      "408:\tlearn: 2320917.7708399\ttotal: 2.39s\tremaining: 3.45s\n",
      "409:\tlearn: 2319713.7797968\ttotal: 2.39s\tremaining: 3.44s\n",
      "410:\tlearn: 2319102.3716950\ttotal: 2.4s\tremaining: 3.44s\n",
      "411:\tlearn: 2315536.7483828\ttotal: 2.41s\tremaining: 3.44s\n",
      "412:\tlearn: 2313035.2182172\ttotal: 2.42s\tremaining: 3.43s\n",
      "413:\tlearn: 2308897.2125913\ttotal: 2.42s\tremaining: 3.42s\n",
      "414:\tlearn: 2308129.2084826\ttotal: 2.43s\tremaining: 3.42s\n",
      "415:\tlearn: 2306583.9719013\ttotal: 2.43s\tremaining: 3.42s\n",
      "416:\tlearn: 2303697.0665700\ttotal: 2.44s\tremaining: 3.41s\n",
      "417:\tlearn: 2301226.8996091\ttotal: 2.44s\tremaining: 3.4s\n",
      "418:\tlearn: 2298789.7711042\ttotal: 2.45s\tremaining: 3.4s\n",
      "419:\tlearn: 2298215.7849306\ttotal: 2.46s\tremaining: 3.39s\n",
      "420:\tlearn: 2295813.7306351\ttotal: 2.46s\tremaining: 3.38s\n",
      "421:\tlearn: 2293449.7295877\ttotal: 2.47s\tremaining: 3.38s\n",
      "422:\tlearn: 2293274.9449333\ttotal: 2.47s\tremaining: 3.37s\n",
      "423:\tlearn: 2290945.3165387\ttotal: 2.48s\tremaining: 3.36s\n",
      "424:\tlearn: 2288648.2991593\ttotal: 2.48s\tremaining: 3.36s\n",
      "425:\tlearn: 2286386.2019115\ttotal: 2.49s\tremaining: 3.35s\n",
      "426:\tlearn: 2284946.5516057\ttotal: 2.49s\tremaining: 3.35s\n",
      "427:\tlearn: 2282738.0784304\ttotal: 2.5s\tremaining: 3.34s\n",
      "428:\tlearn: 2280561.7999706\ttotal: 2.51s\tremaining: 3.34s\n",
      "429:\tlearn: 2278415.7820994\ttotal: 2.51s\tremaining: 3.33s\n",
      "430:\tlearn: 2276303.1794242\ttotal: 2.52s\tremaining: 3.33s\n",
      "431:\tlearn: 2275702.9262005\ttotal: 2.52s\tremaining: 3.32s\n",
      "432:\tlearn: 2273572.6089032\ttotal: 2.53s\tremaining: 3.31s\n",
      "433:\tlearn: 2270570.6290731\ttotal: 2.53s\tremaining: 3.3s\n",
      "434:\tlearn: 2270356.9336073\ttotal: 2.54s\tremaining: 3.29s\n",
      "435:\tlearn: 2269952.6735041\ttotal: 2.54s\tremaining: 3.29s\n",
      "436:\tlearn: 2267865.5219504\ttotal: 2.55s\tremaining: 3.29s\n",
      "437:\tlearn: 2266830.6999905\ttotal: 2.55s\tremaining: 3.28s\n",
      "438:\tlearn: 2265478.0352174\ttotal: 2.57s\tremaining: 3.28s\n",
      "439:\tlearn: 2263438.1706480\ttotal: 2.57s\tremaining: 3.27s\n",
      "440:\tlearn: 2263203.6343569\ttotal: 2.58s\tremaining: 3.27s\n",
      "441:\tlearn: 2261193.1735995\ttotal: 2.58s\tremaining: 3.26s\n",
      "442:\tlearn: 2260984.9533135\ttotal: 2.59s\tremaining: 3.25s\n",
      "443:\tlearn: 2259302.0440235\ttotal: 2.59s\tremaining: 3.25s\n",
      "444:\tlearn: 2257318.8076700\ttotal: 2.6s\tremaining: 3.24s\n",
      "445:\tlearn: 2255364.4023274\ttotal: 2.61s\tremaining: 3.24s\n",
      "446:\tlearn: 2254080.3824895\ttotal: 2.61s\tremaining: 3.23s\n",
      "447:\tlearn: 2253366.6557349\ttotal: 2.62s\tremaining: 3.22s\n",
      "448:\tlearn: 2251448.7577246\ttotal: 2.62s\tremaining: 3.22s\n",
      "449:\tlearn: 2250218.6511063\ttotal: 2.63s\tremaining: 3.21s\n",
      "450:\tlearn: 2249017.7617535\ttotal: 2.63s\tremaining: 3.21s\n",
      "451:\tlearn: 2247845.3544199\ttotal: 2.64s\tremaining: 3.2s\n",
      "452:\tlearn: 2245976.7922968\ttotal: 2.65s\tremaining: 3.2s\n",
      "453:\tlearn: 2244839.0185758\ttotal: 2.65s\tremaining: 3.19s\n",
      "454:\tlearn: 2243004.4074978\ttotal: 2.66s\tremaining: 3.19s\n",
      "455:\tlearn: 2241196.4709721\ttotal: 2.67s\tremaining: 3.18s\n",
      "456:\tlearn: 2239414.8140603\ttotal: 2.67s\tremaining: 3.17s\n",
      "457:\tlearn: 2238831.8678275\ttotal: 2.68s\tremaining: 3.17s\n",
      "458:\tlearn: 2237075.6373797\ttotal: 2.68s\tremaining: 3.16s\n",
      "459:\tlearn: 2235344.9237585\ttotal: 2.69s\tremaining: 3.16s\n",
      "460:\tlearn: 2233639.3515383\ttotal: 2.69s\tremaining: 3.15s\n",
      "461:\tlearn: 2232566.8353963\ttotal: 2.71s\tremaining: 3.16s\n",
      "462:\tlearn: 2230892.1831941\ttotal: 2.72s\tremaining: 3.15s\n",
      "463:\tlearn: 2229162.5832953\ttotal: 2.72s\tremaining: 3.15s\n",
      "464:\tlearn: 2224192.9319398\ttotal: 2.73s\tremaining: 3.14s\n",
      "465:\tlearn: 2220330.7604963\ttotal: 2.73s\tremaining: 3.13s\n",
      "466:\tlearn: 2219727.6590522\ttotal: 2.74s\tremaining: 3.13s\n",
      "467:\tlearn: 2218069.3416411\ttotal: 2.75s\tremaining: 3.12s\n",
      "468:\tlearn: 2216435.6617986\ttotal: 2.75s\tremaining: 3.12s\n",
      "469:\tlearn: 2214825.1474151\ttotal: 2.76s\tremaining: 3.11s\n",
      "470:\tlearn: 2214225.2847645\ttotal: 2.76s\tremaining: 3.1s\n",
      "471:\tlearn: 2213995.0743592\ttotal: 2.77s\tremaining: 3.09s\n",
      "472:\tlearn: 2212408.2243814\ttotal: 2.77s\tremaining: 3.09s\n",
      "473:\tlearn: 2208680.5723586\ttotal: 2.78s\tremaining: 3.08s\n",
      "474:\tlearn: 2207114.1107582\ttotal: 2.78s\tremaining: 3.08s\n",
      "475:\tlearn: 2205601.3518264\ttotal: 2.79s\tremaining: 3.07s\n",
      "476:\tlearn: 2201567.1954880\ttotal: 2.79s\tremaining: 3.06s\n",
      "477:\tlearn: 2200019.6103610\ttotal: 2.8s\tremaining: 3.06s\n",
      "478:\tlearn: 2196346.7529674\ttotal: 2.81s\tremaining: 3.05s\n",
      "479:\tlearn: 2194055.1454263\ttotal: 2.81s\tremaining: 3.04s\n",
      "480:\tlearn: 2193663.9384899\ttotal: 2.82s\tremaining: 3.04s\n",
      "481:\tlearn: 2192135.3524378\ttotal: 2.82s\tremaining: 3.03s\n",
      "482:\tlearn: 2191549.3147754\ttotal: 2.83s\tremaining: 3.02s\n",
      "483:\tlearn: 2190042.4912033\ttotal: 2.83s\tremaining: 3.02s\n",
      "484:\tlearn: 2188557.5206356\ttotal: 2.83s\tremaining: 3.01s\n",
      "485:\tlearn: 2185776.8235382\ttotal: 2.84s\tremaining: 3s\n",
      "486:\tlearn: 2185580.1161826\ttotal: 2.85s\tremaining: 3s\n",
      "487:\tlearn: 2184208.5724069\ttotal: 2.85s\tremaining: 2.99s\n",
      "488:\tlearn: 2183985.9773590\ttotal: 2.85s\tremaining: 2.98s\n",
      "489:\tlearn: 2183607.1097380\ttotal: 2.86s\tremaining: 2.98s\n",
      "490:\tlearn: 2183387.8327635\ttotal: 2.87s\tremaining: 2.97s\n",
      "491:\tlearn: 2179194.7798742\ttotal: 2.87s\tremaining: 2.96s\n",
      "492:\tlearn: 2177734.7252022\ttotal: 2.88s\tremaining: 2.96s\n",
      "493:\tlearn: 2176296.2278400\ttotal: 2.88s\tremaining: 2.95s\n",
      "494:\tlearn: 2176079.5292549\ttotal: 2.89s\tremaining: 2.95s\n",
      "495:\tlearn: 2175705.4858281\ttotal: 2.89s\tremaining: 2.94s\n",
      "496:\tlearn: 2174287.4334171\ttotal: 2.9s\tremaining: 2.93s\n",
      "497:\tlearn: 2173918.9111177\ttotal: 2.9s\tremaining: 2.93s\n",
      "498:\tlearn: 2173704.9512263\ttotal: 2.91s\tremaining: 2.92s\n",
      "499:\tlearn: 2172307.0636507\ttotal: 2.92s\tremaining: 2.92s\n",
      "500:\tlearn: 2171093.6554417\ttotal: 2.93s\tremaining: 2.92s\n",
      "501:\tlearn: 2169906.6290447\ttotal: 2.93s\tremaining: 2.91s\n",
      "502:\tlearn: 2169543.0198026\ttotal: 2.94s\tremaining: 2.9s\n",
      "503:\tlearn: 2168163.8025846\ttotal: 2.94s\tremaining: 2.89s\n",
      "504:\tlearn: 2167953.2261056\ttotal: 2.95s\tremaining: 2.89s\n",
      "505:\tlearn: 2166593.8609031\ttotal: 2.95s\tremaining: 2.88s\n",
      "506:\tlearn: 2164071.9364181\ttotal: 2.96s\tremaining: 2.88s\n",
      "507:\tlearn: 2160628.8649082\ttotal: 2.96s\tremaining: 2.87s\n",
      "508:\tlearn: 2159833.1366170\ttotal: 2.97s\tremaining: 2.86s\n",
      "509:\tlearn: 2159473.5491599\ttotal: 2.98s\tremaining: 2.86s\n",
      "510:\tlearn: 2158135.5989383\ttotal: 2.98s\tremaining: 2.85s\n",
      "511:\tlearn: 2154189.2455913\ttotal: 2.99s\tremaining: 2.85s\n",
      "512:\tlearn: 2153412.2662436\ttotal: 2.99s\tremaining: 2.84s\n",
      "513:\tlearn: 2153057.1089468\ttotal: 3s\tremaining: 2.83s\n",
      "514:\tlearn: 2150380.4058855\ttotal: 3s\tremaining: 2.83s\n",
      "515:\tlearn: 2150211.9438454\ttotal: 3.01s\tremaining: 2.82s\n",
      "516:\tlearn: 2149861.7822887\ttotal: 3.02s\tremaining: 2.82s\n",
      "517:\tlearn: 2149695.8384945\ttotal: 3.02s\tremaining: 2.81s\n",
      "518:\tlearn: 2147252.6636554\ttotal: 3.03s\tremaining: 2.8s\n",
      "519:\tlearn: 2146907.4459511\ttotal: 3.03s\tremaining: 2.8s\n",
      "520:\tlearn: 2145593.4932937\ttotal: 3.04s\tremaining: 2.8s\n",
      "521:\tlearn: 2143982.2220703\ttotal: 3.05s\tremaining: 2.79s\n",
      "522:\tlearn: 2141901.3620771\ttotal: 3.05s\tremaining: 2.78s\n",
      "523:\tlearn: 2140604.4716232\ttotal: 3.06s\tremaining: 2.78s\n",
      "524:\tlearn: 2140264.1745441\ttotal: 3.06s\tremaining: 2.77s\n",
      "525:\tlearn: 2134532.8533792\ttotal: 3.07s\tremaining: 2.76s\n",
      "526:\tlearn: 2134196.7796864\ttotal: 3.07s\tremaining: 2.76s\n",
      "527:\tlearn: 2132914.9811246\ttotal: 3.08s\tremaining: 2.75s\n",
      "528:\tlearn: 2130595.3369713\ttotal: 3.08s\tremaining: 2.74s\n",
      "529:\tlearn: 2129330.7887598\ttotal: 3.09s\tremaining: 2.74s\n",
      "530:\tlearn: 2125990.9003406\ttotal: 3.09s\tremaining: 2.73s\n",
      "531:\tlearn: 2125261.4171720\ttotal: 3.1s\tremaining: 2.72s\n",
      "532:\tlearn: 2124019.0363051\ttotal: 3.1s\tremaining: 2.72s\n",
      "533:\tlearn: 2122794.6857544\ttotal: 3.11s\tremaining: 2.71s\n",
      "534:\tlearn: 2121588.1075606\ttotal: 3.12s\tremaining: 2.71s\n",
      "535:\tlearn: 2120399.0474953\ttotal: 3.12s\tremaining: 2.7s\n",
      "536:\tlearn: 2117298.1649382\ttotal: 3.13s\tremaining: 2.69s\n",
      "537:\tlearn: 2116964.3912595\ttotal: 3.13s\tremaining: 2.69s\n",
      "538:\tlearn: 2115790.4391103\ttotal: 3.14s\tremaining: 2.68s\n",
      "539:\tlearn: 2115098.7471291\ttotal: 3.14s\tremaining: 2.68s\n",
      "540:\tlearn: 2114769.7154788\ttotal: 3.15s\tremaining: 2.67s\n",
      "541:\tlearn: 2114214.7115718\ttotal: 3.15s\tremaining: 2.67s\n",
      "542:\tlearn: 2110822.1556622\ttotal: 3.16s\tremaining: 2.66s\n",
      "543:\tlearn: 2110497.5506206\ttotal: 3.17s\tremaining: 2.65s\n",
      "544:\tlearn: 2110303.9033516\ttotal: 3.18s\tremaining: 2.65s\n",
      "545:\tlearn: 2110152.9682909\ttotal: 3.18s\tremaining: 2.65s\n",
      "546:\tlearn: 2108200.1148556\ttotal: 3.19s\tremaining: 2.64s\n",
      "547:\tlearn: 2108036.4459754\ttotal: 3.19s\tremaining: 2.63s\n",
      "548:\tlearn: 2107875.9461439\ttotal: 3.2s\tremaining: 2.63s\n",
      "549:\tlearn: 2107718.5502788\ttotal: 3.21s\tremaining: 2.62s\n",
      "550:\tlearn: 2107398.4157439\ttotal: 3.23s\tremaining: 2.63s\n",
      "551:\tlearn: 2106966.9584688\ttotal: 3.23s\tremaining: 2.63s\n",
      "552:\tlearn: 2106825.9158796\ttotal: 3.24s\tremaining: 2.62s\n",
      "553:\tlearn: 2104645.3650892\ttotal: 3.25s\tremaining: 2.61s\n",
      "554:\tlearn: 2101873.1548417\ttotal: 3.25s\tremaining: 2.61s\n",
      "555:\tlearn: 2101450.1113439\ttotal: 3.26s\tremaining: 2.6s\n",
      "556:\tlearn: 2100290.6895909\ttotal: 3.27s\tremaining: 2.6s\n",
      "557:\tlearn: 2097242.5819985\ttotal: 3.27s\tremaining: 2.59s\n",
      "558:\tlearn: 2095099.4445425\ttotal: 3.27s\tremaining: 2.58s\n",
      "559:\tlearn: 2093953.9483579\ttotal: 3.28s\tremaining: 2.58s\n",
      "560:\tlearn: 2090271.1219733\ttotal: 3.29s\tremaining: 2.57s\n",
      "561:\tlearn: 2088783.7288903\ttotal: 3.29s\tremaining: 2.57s\n",
      "562:\tlearn: 2088454.6018783\ttotal: 3.3s\tremaining: 2.56s\n",
      "563:\tlearn: 2083045.2549594\ttotal: 3.31s\tremaining: 2.56s\n",
      "564:\tlearn: 2080289.8919767\ttotal: 3.31s\tremaining: 2.55s\n",
      "565:\tlearn: 2078250.1188329\ttotal: 3.31s\tremaining: 2.54s\n",
      "566:\tlearn: 2076832.4310472\ttotal: 3.32s\tremaining: 2.53s\n",
      "567:\tlearn: 2076507.2362129\ttotal: 3.32s\tremaining: 2.53s\n",
      "568:\tlearn: 2073993.7020341\ttotal: 3.33s\tremaining: 2.52s\n",
      "569:\tlearn: 2072043.8846864\ttotal: 3.33s\tremaining: 2.52s\n",
      "570:\tlearn: 2071723.2386552\ttotal: 3.34s\tremaining: 2.51s\n",
      "571:\tlearn: 2070948.3679382\ttotal: 3.34s\tremaining: 2.5s\n",
      "572:\tlearn: 2068259.8450326\ttotal: 3.35s\tremaining: 2.5s\n",
      "573:\tlearn: 2067122.7025375\ttotal: 3.36s\tremaining: 2.49s\n",
      "574:\tlearn: 2066002.0750168\ttotal: 3.36s\tremaining: 2.49s\n",
      "575:\tlearn: 2063545.3307145\ttotal: 3.37s\tremaining: 2.48s\n",
      "576:\tlearn: 2060714.8433250\ttotal: 3.37s\tremaining: 2.47s\n",
      "577:\tlearn: 2059607.4933615\ttotal: 3.38s\tremaining: 2.47s\n",
      "578:\tlearn: 2059290.3948005\ttotal: 3.39s\tremaining: 2.46s\n",
      "579:\tlearn: 2058198.8955585\ttotal: 3.39s\tremaining: 2.46s\n",
      "580:\tlearn: 2057981.0413947\ttotal: 3.4s\tremaining: 2.45s\n",
      "581:\tlearn: 2057689.8814949\ttotal: 3.4s\tremaining: 2.45s\n",
      "582:\tlearn: 2056727.8628608\ttotal: 3.41s\tremaining: 2.44s\n",
      "583:\tlearn: 2056562.0935978\ttotal: 3.42s\tremaining: 2.43s\n",
      "584:\tlearn: 2055486.1940009\ttotal: 3.42s\tremaining: 2.43s\n",
      "585:\tlearn: 2052243.4876750\ttotal: 3.43s\tremaining: 2.42s\n",
      "586:\tlearn: 2047071.9790364\ttotal: 3.44s\tremaining: 2.42s\n",
      "587:\tlearn: 2046680.3900416\ttotal: 3.44s\tremaining: 2.41s\n",
      "588:\tlearn: 2044332.0150422\ttotal: 3.45s\tremaining: 2.41s\n",
      "589:\tlearn: 2043827.8425677\ttotal: 3.45s\tremaining: 2.4s\n",
      "590:\tlearn: 2041899.8790022\ttotal: 3.46s\tremaining: 2.39s\n",
      "591:\tlearn: 2041595.2839659\ttotal: 3.46s\tremaining: 2.39s\n",
      "592:\tlearn: 2038486.6601126\ttotal: 3.47s\tremaining: 2.38s\n",
      "593:\tlearn: 2036258.1902199\ttotal: 3.48s\tremaining: 2.38s\n",
      "594:\tlearn: 2035769.5403981\ttotal: 3.48s\tremaining: 2.37s\n",
      "595:\tlearn: 2035031.0002916\ttotal: 3.48s\tremaining: 2.36s\n",
      "596:\tlearn: 2033960.5138519\ttotal: 3.5s\tremaining: 2.36s\n",
      "597:\tlearn: 2032905.5721833\ttotal: 3.5s\tremaining: 2.35s\n",
      "598:\tlearn: 2032103.2926109\ttotal: 3.51s\tremaining: 2.35s\n",
      "599:\tlearn: 2028645.8712244\ttotal: 3.51s\tremaining: 2.34s\n",
      "600:\tlearn: 2028173.5031085\ttotal: 3.52s\tremaining: 2.33s\n",
      "601:\tlearn: 2027131.6048048\ttotal: 3.52s\tremaining: 2.33s\n",
      "602:\tlearn: 2026104.8594782\ttotal: 3.53s\tremaining: 2.32s\n",
      "603:\tlearn: 2025823.6400314\ttotal: 3.53s\tremaining: 2.32s\n",
      "604:\tlearn: 2022726.9601051\ttotal: 3.54s\tremaining: 2.31s\n",
      "605:\tlearn: 2022460.6519949\ttotal: 3.54s\tremaining: 2.3s\n",
      "606:\tlearn: 2020343.5126651\ttotal: 3.55s\tremaining: 2.3s\n",
      "607:\tlearn: 2018515.0232127\ttotal: 3.55s\tremaining: 2.29s\n",
      "608:\tlearn: 2018252.4697286\ttotal: 3.56s\tremaining: 2.29s\n",
      "609:\tlearn: 2017236.9437243\ttotal: 3.57s\tremaining: 2.28s\n",
      "610:\tlearn: 2014545.2477106\ttotal: 3.57s\tremaining: 2.27s\n",
      "611:\tlearn: 2013393.3807206\ttotal: 3.58s\tremaining: 2.27s\n",
      "612:\tlearn: 2012403.0260755\ttotal: 3.58s\tremaining: 2.26s\n",
      "613:\tlearn: 2011427.0989047\ttotal: 3.59s\tremaining: 2.25s\n",
      "614:\tlearn: 2009564.8956062\ttotal: 3.6s\tremaining: 2.25s\n",
      "615:\tlearn: 2007461.9346969\ttotal: 3.6s\tremaining: 2.25s\n",
      "616:\tlearn: 2004801.6066781\ttotal: 3.61s\tremaining: 2.24s\n",
      "617:\tlearn: 2002371.4270090\ttotal: 3.61s\tremaining: 2.23s\n",
      "618:\tlearn: 2002111.8559618\ttotal: 3.62s\tremaining: 2.23s\n",
      "619:\tlearn: 2001396.0233243\ttotal: 3.62s\tremaining: 2.22s\n",
      "620:\tlearn: 1996548.1479180\ttotal: 3.63s\tremaining: 2.21s\n",
      "621:\tlearn: 1995590.2901283\ttotal: 3.63s\tremaining: 2.21s\n",
      "622:\tlearn: 1994339.2042363\ttotal: 3.64s\tremaining: 2.2s\n",
      "623:\tlearn: 1990349.7747649\ttotal: 3.65s\tremaining: 2.2s\n",
      "624:\tlearn: 1988534.6485652\ttotal: 3.65s\tremaining: 2.19s\n",
      "625:\tlearn: 1987593.8891988\ttotal: 3.66s\tremaining: 2.19s\n",
      "626:\tlearn: 1987340.5904467\ttotal: 3.67s\tremaining: 2.18s\n",
      "627:\tlearn: 1984424.6484202\ttotal: 3.67s\tremaining: 2.18s\n",
      "628:\tlearn: 1983749.4507006\ttotal: 3.68s\tremaining: 2.17s\n",
      "629:\tlearn: 1980937.1970670\ttotal: 3.69s\tremaining: 2.17s\n",
      "630:\tlearn: 1978443.4153871\ttotal: 3.69s\tremaining: 2.16s\n",
      "631:\tlearn: 1976213.2410450\ttotal: 3.7s\tremaining: 2.15s\n",
      "632:\tlearn: 1975281.0554249\ttotal: 3.7s\tremaining: 2.15s\n",
      "633:\tlearn: 1975001.1117932\ttotal: 3.71s\tremaining: 2.14s\n",
      "634:\tlearn: 1974726.2244828\ttotal: 3.71s\tremaining: 2.13s\n",
      "635:\tlearn: 1972720.7990217\ttotal: 3.72s\tremaining: 2.13s\n",
      "636:\tlearn: 1968932.0390301\ttotal: 3.72s\tremaining: 2.12s\n",
      "637:\tlearn: 1968301.5577736\ttotal: 3.73s\tremaining: 2.12s\n",
      "638:\tlearn: 1967379.7763676\ttotal: 3.74s\tremaining: 2.11s\n",
      "639:\tlearn: 1965568.2797550\ttotal: 3.74s\tremaining: 2.1s\n",
      "640:\tlearn: 1964534.1338534\ttotal: 3.75s\tremaining: 2.1s\n",
      "641:\tlearn: 1961759.9229786\ttotal: 3.75s\tremaining: 2.09s\n",
      "642:\tlearn: 1960986.1828013\ttotal: 3.76s\tremaining: 2.09s\n",
      "643:\tlearn: 1960748.9671125\ttotal: 3.77s\tremaining: 2.08s\n",
      "644:\tlearn: 1958821.7880945\ttotal: 3.77s\tremaining: 2.08s\n",
      "645:\tlearn: 1958019.8410721\ttotal: 3.78s\tremaining: 2.07s\n",
      "646:\tlearn: 1957791.0788042\ttotal: 3.78s\tremaining: 2.06s\n",
      "647:\tlearn: 1957005.5320466\ttotal: 3.78s\tremaining: 2.06s\n",
      "648:\tlearn: 1955863.1849074\ttotal: 3.79s\tremaining: 2.05s\n",
      "649:\tlearn: 1953215.4800914\ttotal: 3.8s\tremaining: 2.04s\n",
      "650:\tlearn: 1951837.0196043\ttotal: 3.8s\tremaining: 2.04s\n",
      "651:\tlearn: 1950497.7385451\ttotal: 3.81s\tremaining: 2.03s\n",
      "652:\tlearn: 1949624.4273532\ttotal: 3.82s\tremaining: 2.03s\n",
      "653:\tlearn: 1948593.5274474\ttotal: 3.82s\tremaining: 2.02s\n",
      "654:\tlearn: 1948362.3954022\ttotal: 3.83s\tremaining: 2.02s\n",
      "655:\tlearn: 1947598.4239553\ttotal: 3.83s\tremaining: 2.01s\n",
      "656:\tlearn: 1947036.7288440\ttotal: 3.83s\tremaining: 2s\n",
      "657:\tlearn: 1946314.0088640\ttotal: 3.84s\tremaining: 2s\n",
      "658:\tlearn: 1943318.2409042\ttotal: 3.84s\tremaining: 1.99s\n",
      "659:\tlearn: 1942226.6829172\ttotal: 3.85s\tremaining: 1.98s\n",
      "660:\tlearn: 1942002.7406603\ttotal: 3.85s\tremaining: 1.98s\n",
      "661:\tlearn: 1940177.4047685\ttotal: 3.86s\tremaining: 1.97s\n",
      "662:\tlearn: 1938221.6589540\ttotal: 3.86s\tremaining: 1.96s\n",
      "663:\tlearn: 1936632.3875167\ttotal: 3.87s\tremaining: 1.96s\n",
      "664:\tlearn: 1934898.4778409\ttotal: 3.88s\tremaining: 1.95s\n",
      "665:\tlearn: 1934239.5418885\ttotal: 3.88s\tremaining: 1.95s\n",
      "666:\tlearn: 1934019.3678897\ttotal: 3.89s\tremaining: 1.94s\n",
      "667:\tlearn: 1932398.3386102\ttotal: 3.89s\tremaining: 1.94s\n",
      "668:\tlearn: 1932183.6013745\ttotal: 3.9s\tremaining: 1.93s\n",
      "669:\tlearn: 1930603.3527592\ttotal: 3.91s\tremaining: 1.92s\n",
      "670:\tlearn: 1929732.1333926\ttotal: 3.91s\tremaining: 1.92s\n",
      "671:\tlearn: 1929495.2841081\ttotal: 3.92s\tremaining: 1.91s\n",
      "672:\tlearn: 1926874.6337564\ttotal: 3.92s\tremaining: 1.91s\n",
      "673:\tlearn: 1926665.0256653\ttotal: 3.93s\tremaining: 1.9s\n",
      "674:\tlearn: 1924082.4551617\ttotal: 3.93s\tremaining: 1.89s\n",
      "675:\tlearn: 1923090.3484968\ttotal: 3.94s\tremaining: 1.89s\n",
      "676:\tlearn: 1922886.1260478\ttotal: 3.94s\tremaining: 1.88s\n",
      "677:\tlearn: 1922184.4883457\ttotal: 3.95s\tremaining: 1.87s\n",
      "678:\tlearn: 1921496.8474427\ttotal: 3.95s\tremaining: 1.87s\n",
      "679:\tlearn: 1921285.2068075\ttotal: 3.96s\tremaining: 1.86s\n",
      "680:\tlearn: 1919416.0855607\ttotal: 3.96s\tremaining: 1.85s\n",
      "681:\tlearn: 1917690.4422072\ttotal: 3.97s\tremaining: 1.85s\n",
      "682:\tlearn: 1916005.6560527\ttotal: 3.97s\tremaining: 1.84s\n",
      "683:\tlearn: 1913150.1195226\ttotal: 3.98s\tremaining: 1.84s\n",
      "684:\tlearn: 1911472.1355996\ttotal: 3.98s\tremaining: 1.83s\n",
      "685:\tlearn: 1911272.8166762\ttotal: 3.99s\tremaining: 1.83s\n",
      "686:\tlearn: 1910426.2112340\ttotal: 4s\tremaining: 1.82s\n",
      "687:\tlearn: 1909049.5895546\ttotal: 4.01s\tremaining: 1.82s\n",
      "688:\tlearn: 1908080.2511722\ttotal: 4.01s\tremaining: 1.81s\n",
      "689:\tlearn: 1907412.5469237\ttotal: 4.02s\tremaining: 1.81s\n",
      "690:\tlearn: 1907214.7792417\ttotal: 4.02s\tremaining: 1.8s\n",
      "691:\tlearn: 1905194.8939419\ttotal: 4.03s\tremaining: 1.79s\n",
      "692:\tlearn: 1905004.4315959\ttotal: 4.04s\tremaining: 1.79s\n",
      "693:\tlearn: 1901935.5514709\ttotal: 4.05s\tremaining: 1.78s\n",
      "694:\tlearn: 1901278.8518681\ttotal: 4.05s\tremaining: 1.78s\n",
      "695:\tlearn: 1898290.2957086\ttotal: 4.06s\tremaining: 1.77s\n",
      "696:\tlearn: 1897793.0307283\ttotal: 4.06s\tremaining: 1.76s\n",
      "697:\tlearn: 1896690.1310474\ttotal: 4.07s\tremaining: 1.76s\n",
      "698:\tlearn: 1895482.1696296\ttotal: 4.07s\tremaining: 1.75s\n",
      "699:\tlearn: 1892573.9407639\ttotal: 4.08s\tremaining: 1.75s\n",
      "700:\tlearn: 1892390.8720387\ttotal: 4.08s\tremaining: 1.74s\n",
      "701:\tlearn: 1890630.2940519\ttotal: 4.09s\tremaining: 1.74s\n",
      "702:\tlearn: 1889020.6214080\ttotal: 4.09s\tremaining: 1.73s\n",
      "703:\tlearn: 1888391.3954903\ttotal: 4.1s\tremaining: 1.72s\n",
      "704:\tlearn: 1885844.8689208\ttotal: 4.11s\tremaining: 1.72s\n",
      "705:\tlearn: 1884287.0911386\ttotal: 4.12s\tremaining: 1.71s\n",
      "706:\tlearn: 1883047.3248430\ttotal: 4.12s\tremaining: 1.71s\n",
      "707:\tlearn: 1882679.4622410\ttotal: 4.13s\tremaining: 1.7s\n",
      "708:\tlearn: 1881738.9115797\ttotal: 4.13s\tremaining: 1.7s\n",
      "709:\tlearn: 1881559.1010759\ttotal: 4.13s\tremaining: 1.69s\n",
      "710:\tlearn: 1881045.4502445\ttotal: 4.14s\tremaining: 1.68s\n",
      "711:\tlearn: 1880234.9331663\ttotal: 4.15s\tremaining: 1.68s\n",
      "712:\tlearn: 1879191.1633058\ttotal: 4.15s\tremaining: 1.67s\n",
      "713:\tlearn: 1877638.8427433\ttotal: 4.16s\tremaining: 1.66s\n",
      "714:\tlearn: 1876718.5025411\ttotal: 4.16s\tremaining: 1.66s\n",
      "715:\tlearn: 1876173.4248668\ttotal: 4.17s\tremaining: 1.65s\n",
      "716:\tlearn: 1874318.6985485\ttotal: 4.17s\tremaining: 1.65s\n",
      "717:\tlearn: 1873738.1186283\ttotal: 4.18s\tremaining: 1.64s\n",
      "718:\tlearn: 1873192.8463113\ttotal: 4.18s\tremaining: 1.63s\n",
      "719:\tlearn: 1872397.5635977\ttotal: 4.19s\tremaining: 1.63s\n",
      "720:\tlearn: 1871595.1988976\ttotal: 4.19s\tremaining: 1.62s\n",
      "721:\tlearn: 1868311.9137834\ttotal: 4.2s\tremaining: 1.62s\n",
      "722:\tlearn: 1867520.1545976\ttotal: 4.21s\tremaining: 1.61s\n",
      "723:\tlearn: 1864863.1675489\ttotal: 4.22s\tremaining: 1.61s\n",
      "724:\tlearn: 1863800.0400058\ttotal: 4.23s\tremaining: 1.6s\n",
      "725:\tlearn: 1863211.9849379\ttotal: 4.23s\tremaining: 1.6s\n",
      "726:\tlearn: 1862991.4876863\ttotal: 4.24s\tremaining: 1.59s\n",
      "727:\tlearn: 1862104.3870342\ttotal: 4.25s\tremaining: 1.59s\n",
      "728:\tlearn: 1861543.4128348\ttotal: 4.26s\tremaining: 1.58s\n",
      "729:\tlearn: 1860763.6962811\ttotal: 4.26s\tremaining: 1.58s\n",
      "730:\tlearn: 1858454.3363955\ttotal: 4.27s\tremaining: 1.57s\n",
      "731:\tlearn: 1858265.3811694\ttotal: 4.28s\tremaining: 1.57s\n",
      "732:\tlearn: 1855699.0918429\ttotal: 4.29s\tremaining: 1.56s\n",
      "733:\tlearn: 1855517.0117777\ttotal: 4.3s\tremaining: 1.56s\n",
      "734:\tlearn: 1854746.5552643\ttotal: 4.3s\tremaining: 1.55s\n",
      "735:\tlearn: 1854157.0471054\ttotal: 4.31s\tremaining: 1.54s\n",
      "736:\tlearn: 1851110.3873005\ttotal: 4.32s\tremaining: 1.54s\n",
      "737:\tlearn: 1850245.1242142\ttotal: 4.32s\tremaining: 1.53s\n",
      "738:\tlearn: 1850061.0239317\ttotal: 4.33s\tremaining: 1.53s\n",
      "739:\tlearn: 1849538.4941677\ttotal: 4.33s\tremaining: 1.52s\n",
      "740:\tlearn: 1849457.1138903\ttotal: 4.34s\tremaining: 1.52s\n",
      "741:\tlearn: 1848007.3271324\ttotal: 4.34s\tremaining: 1.51s\n",
      "742:\tlearn: 1847435.0896093\ttotal: 4.35s\tremaining: 1.5s\n",
      "743:\tlearn: 1846933.4617580\ttotal: 4.36s\tremaining: 1.5s\n",
      "744:\tlearn: 1845665.5133651\ttotal: 4.37s\tremaining: 1.5s\n",
      "745:\tlearn: 1843254.0005388\ttotal: 4.37s\tremaining: 1.49s\n",
      "746:\tlearn: 1842272.4157599\ttotal: 4.38s\tremaining: 1.48s\n",
      "747:\tlearn: 1841874.5888979\ttotal: 4.38s\tremaining: 1.48s\n",
      "748:\tlearn: 1841695.4819427\ttotal: 4.39s\tremaining: 1.47s\n",
      "749:\tlearn: 1840287.1373840\ttotal: 4.39s\tremaining: 1.47s\n",
      "750:\tlearn: 1838852.2542424\ttotal: 4.4s\tremaining: 1.46s\n",
      "751:\tlearn: 1837651.0806661\ttotal: 4.41s\tremaining: 1.45s\n",
      "752:\tlearn: 1836445.9581412\ttotal: 4.41s\tremaining: 1.45s\n",
      "753:\tlearn: 1835025.5268480\ttotal: 4.42s\tremaining: 1.44s\n",
      "754:\tlearn: 1831904.2895760\ttotal: 4.42s\tremaining: 1.44s\n",
      "755:\tlearn: 1829347.5836898\ttotal: 4.43s\tremaining: 1.43s\n",
      "756:\tlearn: 1827037.6524405\ttotal: 4.44s\tremaining: 1.42s\n",
      "757:\tlearn: 1826200.0732507\ttotal: 4.44s\tremaining: 1.42s\n",
      "758:\tlearn: 1825020.4108397\ttotal: 4.45s\tremaining: 1.41s\n",
      "759:\tlearn: 1824067.5954625\ttotal: 4.45s\tremaining: 1.41s\n",
      "760:\tlearn: 1823891.5522286\ttotal: 4.46s\tremaining: 1.4s\n",
      "761:\tlearn: 1823067.6301788\ttotal: 4.46s\tremaining: 1.39s\n",
      "762:\tlearn: 1822142.5424374\ttotal: 4.47s\tremaining: 1.39s\n",
      "763:\tlearn: 1819496.6502035\ttotal: 4.47s\tremaining: 1.38s\n",
      "764:\tlearn: 1817933.0197226\ttotal: 4.48s\tremaining: 1.38s\n",
      "765:\tlearn: 1815898.6024838\ttotal: 4.49s\tremaining: 1.37s\n",
      "766:\tlearn: 1812913.8107365\ttotal: 4.5s\tremaining: 1.37s\n",
      "767:\tlearn: 1812018.8785628\ttotal: 4.5s\tremaining: 1.36s\n",
      "768:\tlearn: 1811450.8609261\ttotal: 4.51s\tremaining: 1.35s\n",
      "769:\tlearn: 1811277.0696659\ttotal: 4.52s\tremaining: 1.35s\n",
      "770:\tlearn: 1809552.6229331\ttotal: 4.53s\tremaining: 1.34s\n",
      "771:\tlearn: 1808039.7864632\ttotal: 4.53s\tremaining: 1.34s\n",
      "772:\tlearn: 1806638.7198385\ttotal: 4.54s\tremaining: 1.33s\n",
      "773:\tlearn: 1806211.2838954\ttotal: 4.54s\tremaining: 1.33s\n",
      "774:\tlearn: 1805402.4402623\ttotal: 4.54s\tremaining: 1.32s\n",
      "775:\tlearn: 1804332.0723934\ttotal: 4.55s\tremaining: 1.31s\n",
      "776:\tlearn: 1803536.9946258\ttotal: 4.56s\tremaining: 1.31s\n",
      "777:\tlearn: 1802659.7764896\ttotal: 4.57s\tremaining: 1.3s\n",
      "778:\tlearn: 1801845.2814212\ttotal: 4.57s\tremaining: 1.3s\n",
      "779:\tlearn: 1801114.7615340\ttotal: 4.58s\tremaining: 1.29s\n",
      "780:\tlearn: 1799306.6915976\ttotal: 4.58s\tremaining: 1.28s\n",
      "781:\tlearn: 1797951.9225166\ttotal: 4.59s\tremaining: 1.28s\n",
      "782:\tlearn: 1797107.0220457\ttotal: 4.6s\tremaining: 1.27s\n",
      "783:\tlearn: 1795631.4768558\ttotal: 4.61s\tremaining: 1.27s\n",
      "784:\tlearn: 1794912.7759662\ttotal: 4.62s\tremaining: 1.26s\n",
      "785:\tlearn: 1794433.8248566\ttotal: 4.62s\tremaining: 1.26s\n",
      "786:\tlearn: 1793589.4593440\ttotal: 4.63s\tremaining: 1.25s\n",
      "787:\tlearn: 1792306.9966675\ttotal: 4.63s\tremaining: 1.25s\n",
      "788:\tlearn: 1791439.7099601\ttotal: 4.64s\tremaining: 1.24s\n",
      "789:\tlearn: 1790869.7351374\ttotal: 4.65s\tremaining: 1.24s\n",
      "790:\tlearn: 1790029.3307934\ttotal: 4.66s\tremaining: 1.23s\n",
      "791:\tlearn: 1788116.1347327\ttotal: 4.66s\tremaining: 1.22s\n",
      "792:\tlearn: 1787342.7607076\ttotal: 4.67s\tremaining: 1.22s\n",
      "793:\tlearn: 1786806.9675382\ttotal: 4.67s\tremaining: 1.21s\n",
      "794:\tlearn: 1785683.5918521\ttotal: 4.68s\tremaining: 1.21s\n",
      "795:\tlearn: 1785130.4961809\ttotal: 4.69s\tremaining: 1.2s\n",
      "796:\tlearn: 1784354.2442362\ttotal: 4.69s\tremaining: 1.2s\n",
      "797:\tlearn: 1783998.7663657\ttotal: 4.7s\tremaining: 1.19s\n",
      "798:\tlearn: 1783598.4921598\ttotal: 4.7s\tremaining: 1.18s\n",
      "799:\tlearn: 1782390.4781146\ttotal: 4.71s\tremaining: 1.18s\n",
      "800:\tlearn: 1781691.1170115\ttotal: 4.71s\tremaining: 1.17s\n",
      "801:\tlearn: 1780888.3494782\ttotal: 4.72s\tremaining: 1.16s\n",
      "802:\tlearn: 1779669.9983585\ttotal: 4.72s\tremaining: 1.16s\n",
      "803:\tlearn: 1779132.4647664\ttotal: 4.73s\tremaining: 1.15s\n",
      "804:\tlearn: 1777123.4117252\ttotal: 4.74s\tremaining: 1.15s\n",
      "805:\tlearn: 1776304.3334281\ttotal: 4.74s\tremaining: 1.14s\n",
      "806:\tlearn: 1773507.5628656\ttotal: 4.75s\tremaining: 1.14s\n",
      "807:\tlearn: 1772236.2732023\ttotal: 4.76s\tremaining: 1.13s\n",
      "808:\tlearn: 1770824.0237974\ttotal: 4.76s\tremaining: 1.13s\n",
      "809:\tlearn: 1770608.4230555\ttotal: 4.77s\tremaining: 1.12s\n",
      "810:\tlearn: 1769519.4351171\ttotal: 4.78s\tremaining: 1.11s\n",
      "811:\tlearn: 1768350.1673243\ttotal: 4.78s\tremaining: 1.11s\n",
      "812:\tlearn: 1768138.1595711\ttotal: 4.79s\tremaining: 1.1s\n",
      "813:\tlearn: 1767397.0382914\ttotal: 4.79s\tremaining: 1.09s\n",
      "814:\tlearn: 1766236.2126414\ttotal: 4.8s\tremaining: 1.09s\n",
      "815:\tlearn: 1765103.9350449\ttotal: 4.8s\tremaining: 1.08s\n",
      "816:\tlearn: 1762316.0555177\ttotal: 4.81s\tremaining: 1.08s\n",
      "817:\tlearn: 1762107.5105645\ttotal: 4.81s\tremaining: 1.07s\n",
      "818:\tlearn: 1761812.7856557\ttotal: 4.82s\tremaining: 1.06s\n",
      "819:\tlearn: 1759488.9667815\ttotal: 4.83s\tremaining: 1.06s\n",
      "820:\tlearn: 1757879.4353073\ttotal: 4.83s\tremaining: 1.05s\n",
      "821:\tlearn: 1757132.9055093\ttotal: 4.84s\tremaining: 1.05s\n",
      "822:\tlearn: 1757054.1083042\ttotal: 4.84s\tremaining: 1.04s\n",
      "823:\tlearn: 1756331.5276893\ttotal: 4.85s\tremaining: 1.03s\n",
      "824:\tlearn: 1755636.3061698\ttotal: 4.85s\tremaining: 1.03s\n",
      "825:\tlearn: 1754940.2182759\ttotal: 4.86s\tremaining: 1.02s\n",
      "826:\tlearn: 1754428.8102490\ttotal: 4.87s\tremaining: 1.02s\n",
      "827:\tlearn: 1752823.1557049\ttotal: 4.87s\tremaining: 1.01s\n",
      "828:\tlearn: 1752321.2967125\ttotal: 4.88s\tremaining: 1.01s\n",
      "829:\tlearn: 1750266.9081936\ttotal: 4.88s\tremaining: 1s\n",
      "830:\tlearn: 1748790.7942836\ttotal: 4.89s\tremaining: 994ms\n",
      "831:\tlearn: 1748580.1745535\ttotal: 4.89s\tremaining: 988ms\n",
      "832:\tlearn: 1747008.4459182\ttotal: 4.9s\tremaining: 983ms\n",
      "833:\tlearn: 1746801.5169798\ttotal: 4.91s\tremaining: 977ms\n",
      "834:\tlearn: 1746428.2313727\ttotal: 4.91s\tremaining: 971ms\n",
      "835:\tlearn: 1744698.6586406\ttotal: 4.92s\tremaining: 965ms\n",
      "836:\tlearn: 1744283.2455615\ttotal: 4.92s\tremaining: 959ms\n",
      "837:\tlearn: 1743995.8176033\ttotal: 4.93s\tremaining: 953ms\n",
      "838:\tlearn: 1743796.3438622\ttotal: 4.94s\tremaining: 947ms\n",
      "839:\tlearn: 1743390.1826182\ttotal: 4.94s\tremaining: 941ms\n",
      "840:\tlearn: 1740698.9144030\ttotal: 4.95s\tremaining: 935ms\n",
      "841:\tlearn: 1740302.6929383\ttotal: 4.95s\tremaining: 929ms\n",
      "842:\tlearn: 1740106.2310005\ttotal: 4.96s\tremaining: 924ms\n",
      "843:\tlearn: 1739450.5356109\ttotal: 4.97s\tremaining: 918ms\n",
      "844:\tlearn: 1739305.0752194\ttotal: 4.97s\tremaining: 913ms\n",
      "845:\tlearn: 1738723.4651178\ttotal: 4.98s\tremaining: 907ms\n",
      "846:\tlearn: 1738357.1440768\ttotal: 4.99s\tremaining: 901ms\n",
      "847:\tlearn: 1737586.4279833\ttotal: 5s\tremaining: 896ms\n",
      "848:\tlearn: 1736264.7917301\ttotal: 5s\tremaining: 890ms\n",
      "849:\tlearn: 1735880.8229817\ttotal: 5.01s\tremaining: 884ms\n",
      "850:\tlearn: 1735454.6326948\ttotal: 5.01s\tremaining: 878ms\n",
      "851:\tlearn: 1734763.8977870\ttotal: 5.02s\tremaining: 872ms\n",
      "852:\tlearn: 1734344.7840562\ttotal: 5.03s\tremaining: 866ms\n",
      "853:\tlearn: 1733077.1256653\ttotal: 5.03s\tremaining: 861ms\n",
      "854:\tlearn: 1732119.4645141\ttotal: 5.04s\tremaining: 854ms\n",
      "855:\tlearn: 1731441.2956537\ttotal: 5.04s\tremaining: 848ms\n",
      "856:\tlearn: 1731252.4803881\ttotal: 5.05s\tremaining: 842ms\n",
      "857:\tlearn: 1730841.6137372\ttotal: 5.05s\tremaining: 836ms\n",
      "858:\tlearn: 1730472.2360588\ttotal: 5.06s\tremaining: 830ms\n",
      "859:\tlearn: 1729060.1096426\ttotal: 5.06s\tremaining: 824ms\n",
      "860:\tlearn: 1728147.9015762\ttotal: 5.07s\tremaining: 818ms\n",
      "861:\tlearn: 1727469.6834788\ttotal: 5.07s\tremaining: 812ms\n",
      "862:\tlearn: 1726810.9187883\ttotal: 5.08s\tremaining: 806ms\n",
      "863:\tlearn: 1725082.2682541\ttotal: 5.08s\tremaining: 800ms\n",
      "864:\tlearn: 1724398.0653352\ttotal: 5.09s\tremaining: 794ms\n",
      "865:\tlearn: 1723739.5666505\ttotal: 5.09s\tremaining: 788ms\n",
      "866:\tlearn: 1721106.6988426\ttotal: 5.1s\tremaining: 782ms\n",
      "867:\tlearn: 1720705.2878945\ttotal: 5.1s\tremaining: 776ms\n",
      "868:\tlearn: 1720349.4386297\ttotal: 5.11s\tremaining: 770ms\n",
      "869:\tlearn: 1720114.7745130\ttotal: 5.11s\tremaining: 764ms\n",
      "870:\tlearn: 1718529.1262022\ttotal: 5.12s\tremaining: 758ms\n",
      "871:\tlearn: 1718074.4250101\ttotal: 5.13s\tremaining: 753ms\n",
      "872:\tlearn: 1717615.0246256\ttotal: 5.13s\tremaining: 747ms\n",
      "873:\tlearn: 1717024.9320488\ttotal: 5.14s\tremaining: 741ms\n",
      "874:\tlearn: 1716844.7979192\ttotal: 5.14s\tremaining: 735ms\n",
      "875:\tlearn: 1715669.6845004\ttotal: 5.15s\tremaining: 729ms\n",
      "876:\tlearn: 1715579.9685917\ttotal: 5.15s\tremaining: 723ms\n",
      "877:\tlearn: 1713014.1442490\ttotal: 5.16s\tremaining: 717ms\n",
      "878:\tlearn: 1712104.6419248\ttotal: 5.17s\tremaining: 711ms\n",
      "879:\tlearn: 1710633.5070635\ttotal: 5.17s\tremaining: 706ms\n",
      "880:\tlearn: 1710456.0686212\ttotal: 5.18s\tremaining: 699ms\n",
      "881:\tlearn: 1709560.6541050\ttotal: 5.18s\tremaining: 694ms\n",
      "882:\tlearn: 1707090.2255681\ttotal: 5.19s\tremaining: 688ms\n",
      "883:\tlearn: 1706752.6073119\ttotal: 5.2s\tremaining: 683ms\n",
      "884:\tlearn: 1706615.5650274\ttotal: 5.21s\tremaining: 676ms\n",
      "885:\tlearn: 1705583.8214517\ttotal: 5.21s\tremaining: 671ms\n",
      "886:\tlearn: 1703531.4684727\ttotal: 5.22s\tremaining: 665ms\n",
      "887:\tlearn: 1702903.2745324\ttotal: 5.22s\tremaining: 659ms\n",
      "888:\tlearn: 1702219.7448987\ttotal: 5.23s\tremaining: 653ms\n",
      "889:\tlearn: 1701098.6080984\ttotal: 5.23s\tremaining: 647ms\n",
      "890:\tlearn: 1700735.1238352\ttotal: 5.24s\tremaining: 641ms\n",
      "891:\tlearn: 1700417.8241382\ttotal: 5.25s\tremaining: 635ms\n",
      "892:\tlearn: 1698549.6305353\ttotal: 5.25s\tremaining: 629ms\n",
      "893:\tlearn: 1698321.5069645\ttotal: 5.26s\tremaining: 623ms\n",
      "894:\tlearn: 1697234.6353706\ttotal: 5.26s\tremaining: 618ms\n",
      "895:\tlearn: 1695425.3594437\ttotal: 5.27s\tremaining: 612ms\n",
      "896:\tlearn: 1694758.5625318\ttotal: 5.27s\tremaining: 606ms\n",
      "897:\tlearn: 1694135.2465466\ttotal: 5.28s\tremaining: 600ms\n",
      "898:\tlearn: 1693490.4041260\ttotal: 5.28s\tremaining: 594ms\n",
      "899:\tlearn: 1692401.7283115\ttotal: 5.29s\tremaining: 588ms\n",
      "900:\tlearn: 1691791.8086479\ttotal: 5.29s\tremaining: 582ms\n",
      "901:\tlearn: 1691169.1634264\ttotal: 5.3s\tremaining: 576ms\n",
      "902:\tlearn: 1689778.5882987\ttotal: 5.31s\tremaining: 570ms\n",
      "903:\tlearn: 1689060.0173940\ttotal: 5.32s\tremaining: 565ms\n",
      "904:\tlearn: 1688751.1343317\ttotal: 5.32s\tremaining: 559ms\n",
      "905:\tlearn: 1687690.6272857\ttotal: 5.33s\tremaining: 553ms\n",
      "906:\tlearn: 1686932.7098878\ttotal: 5.34s\tremaining: 547ms\n",
      "907:\tlearn: 1686555.6226948\ttotal: 5.34s\tremaining: 541ms\n",
      "908:\tlearn: 1685447.7456886\ttotal: 5.35s\tremaining: 535ms\n",
      "909:\tlearn: 1684840.2074715\ttotal: 5.35s\tremaining: 529ms\n",
      "910:\tlearn: 1684256.0530189\ttotal: 5.36s\tremaining: 523ms\n",
      "911:\tlearn: 1683796.3155302\ttotal: 5.37s\tremaining: 518ms\n",
      "912:\tlearn: 1683427.0086940\ttotal: 5.37s\tremaining: 512ms\n",
      "913:\tlearn: 1682859.6386242\ttotal: 5.38s\tremaining: 506ms\n",
      "914:\tlearn: 1682201.4545554\ttotal: 5.38s\tremaining: 500ms\n",
      "915:\tlearn: 1680646.9620634\ttotal: 5.39s\tremaining: 494ms\n",
      "916:\tlearn: 1680086.4965597\ttotal: 5.39s\tremaining: 488ms\n",
      "917:\tlearn: 1679787.1386868\ttotal: 5.4s\tremaining: 482ms\n",
      "918:\tlearn: 1679623.3642244\ttotal: 5.4s\tremaining: 476ms\n",
      "919:\tlearn: 1676990.8492289\ttotal: 5.41s\tremaining: 470ms\n",
      "920:\tlearn: 1675942.2526457\ttotal: 5.41s\tremaining: 464ms\n",
      "921:\tlearn: 1675349.2645901\ttotal: 5.42s\tremaining: 459ms\n",
      "922:\tlearn: 1674581.4124289\ttotal: 5.43s\tremaining: 453ms\n",
      "923:\tlearn: 1673062.4553032\ttotal: 5.43s\tremaining: 447ms\n",
      "924:\tlearn: 1672994.5248532\ttotal: 5.44s\tremaining: 441ms\n",
      "925:\tlearn: 1672258.1827989\ttotal: 5.45s\tremaining: 435ms\n",
      "926:\tlearn: 1671756.0519783\ttotal: 5.45s\tremaining: 429ms\n",
      "927:\tlearn: 1671689.5913246\ttotal: 5.45s\tremaining: 423ms\n",
      "928:\tlearn: 1669309.8018152\ttotal: 5.46s\tremaining: 417ms\n",
      "929:\tlearn: 1668892.7753795\ttotal: 5.47s\tremaining: 412ms\n",
      "930:\tlearn: 1668588.8821264\ttotal: 5.47s\tremaining: 406ms\n",
      "931:\tlearn: 1668098.6512154\ttotal: 5.48s\tremaining: 400ms\n",
      "932:\tlearn: 1667420.2769182\ttotal: 5.48s\tremaining: 394ms\n",
      "933:\tlearn: 1666962.8329311\ttotal: 5.49s\tremaining: 388ms\n",
      "934:\tlearn: 1666897.8889257\ttotal: 5.5s\tremaining: 382ms\n",
      "935:\tlearn: 1666737.1205619\ttotal: 5.5s\tremaining: 376ms\n",
      "936:\tlearn: 1665697.1932138\ttotal: 5.5s\tremaining: 370ms\n",
      "937:\tlearn: 1665632.9119338\ttotal: 5.51s\tremaining: 364ms\n",
      "938:\tlearn: 1665347.0262149\ttotal: 5.52s\tremaining: 358ms\n",
      "939:\tlearn: 1664805.2683357\ttotal: 5.52s\tremaining: 352ms\n",
      "940:\tlearn: 1663996.9433180\ttotal: 5.53s\tremaining: 347ms\n",
      "941:\tlearn: 1663187.2947639\ttotal: 5.53s\tremaining: 341ms\n",
      "942:\tlearn: 1662774.3272755\ttotal: 5.54s\tremaining: 335ms\n",
      "943:\tlearn: 1660442.3759923\ttotal: 5.54s\tremaining: 329ms\n",
      "944:\tlearn: 1659665.4806791\ttotal: 5.55s\tremaining: 323ms\n",
      "945:\tlearn: 1659404.3192960\ttotal: 5.55s\tremaining: 317ms\n",
      "946:\tlearn: 1658792.4562016\ttotal: 5.56s\tremaining: 311ms\n",
      "947:\tlearn: 1658509.6180427\ttotal: 5.57s\tremaining: 306ms\n",
      "948:\tlearn: 1658229.6804727\ttotal: 5.58s\tremaining: 300ms\n",
      "949:\tlearn: 1657782.4727513\ttotal: 5.58s\tremaining: 294ms\n",
      "950:\tlearn: 1657095.8177511\ttotal: 5.59s\tremaining: 288ms\n",
      "951:\tlearn: 1656130.2499052\ttotal: 5.59s\tremaining: 282ms\n",
      "952:\tlearn: 1656076.1314326\ttotal: 5.6s\tremaining: 276ms\n",
      "953:\tlearn: 1654440.9036502\ttotal: 5.62s\tremaining: 271ms\n",
      "954:\tlearn: 1653739.1377014\ttotal: 5.62s\tremaining: 265ms\n",
      "955:\tlearn: 1652792.3828008\ttotal: 5.63s\tremaining: 259ms\n",
      "956:\tlearn: 1650519.0695766\ttotal: 5.63s\tremaining: 253ms\n",
      "957:\tlearn: 1649913.4006798\ttotal: 5.64s\tremaining: 247ms\n",
      "958:\tlearn: 1649226.2818147\ttotal: 5.64s\tremaining: 241ms\n",
      "959:\tlearn: 1648106.7351662\ttotal: 5.65s\tremaining: 235ms\n",
      "960:\tlearn: 1646651.3332721\ttotal: 5.66s\tremaining: 230ms\n",
      "961:\tlearn: 1646375.5629265\ttotal: 5.66s\tremaining: 224ms\n",
      "962:\tlearn: 1646104.1226664\ttotal: 5.67s\tremaining: 218ms\n",
      "963:\tlearn: 1645859.1040697\ttotal: 5.67s\tremaining: 212ms\n",
      "964:\tlearn: 1645591.8722146\ttotal: 5.68s\tremaining: 206ms\n",
      "965:\tlearn: 1645293.3902460\ttotal: 5.69s\tremaining: 200ms\n",
      "966:\tlearn: 1644957.7337870\ttotal: 5.7s\tremaining: 194ms\n",
      "967:\tlearn: 1644164.1384193\ttotal: 5.7s\tremaining: 189ms\n",
      "968:\tlearn: 1643894.4295521\ttotal: 5.71s\tremaining: 183ms\n",
      "969:\tlearn: 1643567.3184383\ttotal: 5.71s\tremaining: 177ms\n",
      "970:\tlearn: 1642236.1682937\ttotal: 5.72s\tremaining: 171ms\n",
      "971:\tlearn: 1641975.6222788\ttotal: 5.72s\tremaining: 165ms\n",
      "972:\tlearn: 1641690.0520630\ttotal: 5.73s\tremaining: 159ms\n",
      "973:\tlearn: 1641373.7126915\ttotal: 5.73s\tremaining: 153ms\n",
      "974:\tlearn: 1640462.4943738\ttotal: 5.74s\tremaining: 147ms\n",
      "975:\tlearn: 1639919.2921962\ttotal: 5.74s\tremaining: 141ms\n",
      "976:\tlearn: 1639643.2919681\ttotal: 5.75s\tremaining: 135ms\n",
      "977:\tlearn: 1637147.1280146\ttotal: 5.75s\tremaining: 129ms\n",
      "978:\tlearn: 1633992.0423314\ttotal: 5.76s\tremaining: 124ms\n",
      "979:\tlearn: 1632735.0996803\ttotal: 5.76s\tremaining: 118ms\n",
      "980:\tlearn: 1630785.1982308\ttotal: 5.77s\tremaining: 112ms\n",
      "981:\tlearn: 1628742.7020627\ttotal: 5.77s\tremaining: 106ms\n",
      "982:\tlearn: 1626600.4453712\ttotal: 5.78s\tremaining: 100ms\n",
      "983:\tlearn: 1624854.3178977\ttotal: 5.79s\tremaining: 94.1ms\n",
      "984:\tlearn: 1624444.1606418\ttotal: 5.79s\tremaining: 88.2ms\n",
      "985:\tlearn: 1623737.3861142\ttotal: 5.8s\tremaining: 82.3ms\n",
      "986:\tlearn: 1622814.8873885\ttotal: 5.8s\tremaining: 76.4ms\n",
      "987:\tlearn: 1622055.0454615\ttotal: 5.81s\tremaining: 70.6ms\n",
      "988:\tlearn: 1621901.1259562\ttotal: 5.82s\tremaining: 64.7ms\n",
      "989:\tlearn: 1620914.7087410\ttotal: 5.82s\tremaining: 58.8ms\n",
      "990:\tlearn: 1620610.2737955\ttotal: 5.83s\tremaining: 52.9ms\n",
      "991:\tlearn: 1618443.9065743\ttotal: 5.83s\tremaining: 47.1ms\n",
      "992:\tlearn: 1617774.4595780\ttotal: 5.84s\tremaining: 41.2ms\n",
      "993:\tlearn: 1617718.9854279\ttotal: 5.84s\tremaining: 35.3ms\n",
      "994:\tlearn: 1617311.5320128\ttotal: 5.85s\tremaining: 29.4ms\n",
      "995:\tlearn: 1617262.4472878\ttotal: 5.86s\tremaining: 23.5ms\n",
      "996:\tlearn: 1616632.5090390\ttotal: 5.87s\tremaining: 17.7ms\n",
      "997:\tlearn: 1616578.5455894\ttotal: 5.87s\tremaining: 11.8ms\n",
      "998:\tlearn: 1616525.5135434\ttotal: 5.88s\tremaining: 5.88ms\n",
      "999:\tlearn: 1616051.4190024\ttotal: 5.88s\tremaining: 0us\n"
     ]
    },
    {
     "data": {
      "text/plain": [
       "<catboost.core.CatBoostRegressor at 0x229d134d6a0>"
      ]
     },
     "execution_count": 106,
     "metadata": {},
     "output_type": "execute_result"
    }
   ],
   "source": [
    "from catboost import CatBoostRegressor\n",
    "model_cat = CatBoostRegressor()\n",
    "model_cat.fit(X_train, y_train)"
   ]
  },
  {
   "cell_type": "code",
   "execution_count": 107,
   "metadata": {},
   "outputs": [
    {
     "data": {
      "text/plain": [
       "0.6310778340186362"
      ]
     },
     "execution_count": 107,
     "metadata": {},
     "output_type": "execute_result"
    }
   ],
   "source": [
    "y_predicted_cat = model_cat.predict(X_test)\n",
    "r2_score(y_test,y_predicted_cat)"
   ]
  },
  {
   "cell_type": "code",
   "execution_count": 108,
   "metadata": {},
   "outputs": [
    {
     "data": {
      "text/plain": [
       "0.9366254711946043"
      ]
     },
     "execution_count": 108,
     "metadata": {},
     "output_type": "execute_result"
    }
   ],
   "source": [
    "y_predicted_cat = model_cat.predict(X_train)\n",
    "r2_score(y_train,y_predicted_cat)"
   ]
  },
  {
   "cell_type": "code",
   "execution_count": null,
   "metadata": {},
   "outputs": [],
   "source": []
  }
 ],
 "metadata": {
  "kernelspec": {
   "display_name": "Python 3",
   "language": "python",
   "name": "python3"
  },
  "language_info": {
   "codemirror_mode": {
    "name": "ipython",
    "version": 3
   },
   "file_extension": ".py",
   "mimetype": "text/x-python",
   "name": "python",
   "nbconvert_exporter": "python",
   "pygments_lexer": "ipython3",
   "version": "3.7.3"
  }
 },
 "nbformat": 4,
 "nbformat_minor": 4
}
